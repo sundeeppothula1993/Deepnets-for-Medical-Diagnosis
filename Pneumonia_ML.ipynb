{
 "cells": [
  {
   "cell_type": "code",
   "execution_count": 1,
   "metadata": {},
   "outputs": [
    {
     "name": "stderr",
     "output_type": "stream",
     "text": [
      "C:\\Users\\Sundeep\\Anaconda3\\lib\\site-packages\\h5py\\__init__.py:36: FutureWarning: Conversion of the second argument of issubdtype from `float` to `np.floating` is deprecated. In future, it will be treated as `np.float64 == np.dtype(float).type`.\n",
      "  from ._conv import register_converters as _register_converters\n",
      "Using TensorFlow backend.\n"
     ]
    }
   ],
   "source": [
    "import pandas as pd \n",
    "import cv2                 \n",
    "import numpy as np         \n",
    "import os                  \n",
    "from random import shuffle\n",
    "from tqdm import tqdm  \n",
    "import scipy\n",
    "import skimage\n",
    "from skimage.transform import resize\n",
    "import keras\n",
    "from keras.models import Sequential\n",
    "from keras.layers import Dense, Dropout, Flatten, Conv2D, MaxPool2D\n",
    "from keras.layers.normalization import BatchNormalization\n",
    "from keras.preprocessing.image import ImageDataGenerator\n",
    "from keras.callbacks import ReduceLROnPlateau\n",
    "from tqdm import tqdm_notebook as tqdm"
   ]
  },
  {
   "cell_type": "code",
   "execution_count": 2,
   "metadata": {},
   "outputs": [
    {
     "name": "stdout",
     "output_type": "stream",
     "text": [
      "['test', 'train', 'val']\n"
     ]
    }
   ],
   "source": [
    "print(os.listdir('C:\\\\Users\\\\Sundeep\\\\Desktop\\\\keras-oneshot-master\\\\chest_xray'))"
   ]
  },
  {
   "cell_type": "code",
   "execution_count": 3,
   "metadata": {},
   "outputs": [],
   "source": [
    "TRAIN_DIR = \"C:\\\\Users\\\\Sundeep\\\\Desktop\\\\keras-oneshot-master\\\\chest_xray\\\\train\\\\\"\n",
    "TEST_DIR =  \"C:\\\\Users\\\\Sundeep\\\\Desktop\\\\keras-oneshot-master\\\\chest_xray\\\\test\\\\\""
   ]
  },
  {
   "cell_type": "code",
   "execution_count": 4,
   "metadata": {},
   "outputs": [],
   "source": [
    "def get_label(Dir):\n",
    "    for nextdir in os.listdir(Dir):\n",
    "        if not nextdir.startswith('.'):\n",
    "            if nextdir in ['NORMAL']:\n",
    "                label = 0\n",
    "            elif nextdir in ['PNEUMONIA']:\n",
    "                label = 1\n",
    "            else:\n",
    "                label = 2\n",
    "    return nextdir, label"
   ]
  },
  {
   "cell_type": "code",
   "execution_count": 5,
   "metadata": {},
   "outputs": [],
   "source": [
    "def preprocessing_data(Dir):\n",
    "    X = []\n",
    "    y = []\n",
    "    \n",
    "    for nextdir in os.listdir(Dir):\n",
    "        nextdir, label = get_label(Dir)\n",
    "        temp = Dir + nextdir\n",
    "        \n",
    "        for image_filename in tqdm(os.listdir(temp)):\n",
    "            path = os.path.join(temp + '/' , image_filename)\n",
    "            img = cv2.imread(path,cv2.IMREAD_GRAYSCALE)\n",
    "            if img is not None:\n",
    "                img = skimage.transform.resize(img, (150, 150, 3))\n",
    "                img = np.asarray(img)\n",
    "                X.append(img)\n",
    "                y.append(label)\n",
    "            \n",
    "    X = np.asarray(X)\n",
    "    y = np.asarray(y)\n",
    "    \n",
    "    return X,y"
   ]
  },
  {
   "cell_type": "code",
   "execution_count": 6,
   "metadata": {},
   "outputs": [],
   "source": [
    "def get_data(Dir):\n",
    "    X = []\n",
    "    y = []\n",
    "    for nextDir in os.listdir(Dir):\n",
    "        if not nextDir.startswith('.'):\n",
    "            if nextDir in ['NORMAL']:\n",
    "                label = 0\n",
    "            elif nextDir in ['PNEUMONIA']:\n",
    "                label = 1\n",
    "            else:\n",
    "                label = 2\n",
    "                \n",
    "            temp = Dir + nextDir\n",
    "                \n",
    "            for file in tqdm(os.listdir(temp)):\n",
    "                img = cv2.imread(temp + '/' + file)\n",
    "                if img is not None:\n",
    "                    img = skimage.transform.resize(img, (150, 150, 3))\n",
    "                    #img_file = scipy.misc.imresize(arr=img_file, size=(150, 150, 3))\n",
    "                    img = np.asarray(img)\n",
    "                    X.append(img)\n",
    "                    y.append(label)\n",
    "                    \n",
    "    X = np.asarray(X)\n",
    "    y = np.asarray(y)\n",
    "    return X,y"
   ]
  },
  {
   "cell_type": "code",
   "execution_count": 7,
   "metadata": {},
   "outputs": [
    {
     "data": {
      "application/vnd.jupyter.widget-view+json": {
       "model_id": "67c02e48f2214659a37fb1ec62ce5346",
       "version_major": 2,
       "version_minor": 0
      },
      "text/plain": [
       "HBox(children=(IntProgress(value=0, max=1342), HTML(value='')))"
      ]
     },
     "metadata": {},
     "output_type": "display_data"
    },
    {
     "name": "stderr",
     "output_type": "stream",
     "text": [
      "C:\\Users\\Sundeep\\Anaconda3\\lib\\site-packages\\skimage\\transform\\_warps.py:84: UserWarning: The default mode, 'constant', will be changed to 'reflect' in skimage 0.15.\n",
      "  warn(\"The default mode, 'constant', will be changed to 'reflect' in \"\n"
     ]
    },
    {
     "name": "stdout",
     "output_type": "stream",
     "text": [
      "\n"
     ]
    },
    {
     "data": {
      "application/vnd.jupyter.widget-view+json": {
       "model_id": "71581a7a57f44a3988111ca5a3ad14a6",
       "version_major": 2,
       "version_minor": 0
      },
      "text/plain": [
       "HBox(children=(IntProgress(value=0, max=3876), HTML(value='')))"
      ]
     },
     "metadata": {},
     "output_type": "display_data"
    },
    {
     "name": "stdout",
     "output_type": "stream",
     "text": [
      "\n"
     ]
    }
   ],
   "source": [
    "X_train, y_train = get_data(TRAIN_DIR)"
   ]
  },
  {
   "cell_type": "code",
   "execution_count": 8,
   "metadata": {},
   "outputs": [
    {
     "data": {
      "application/vnd.jupyter.widget-view+json": {
       "model_id": "3647a943c06945cbb548f6ca67f42cfe",
       "version_major": 2,
       "version_minor": 0
      },
      "text/plain": [
       "HBox(children=(IntProgress(value=0, max=234), HTML(value='')))"
      ]
     },
     "metadata": {},
     "output_type": "display_data"
    },
    {
     "name": "stderr",
     "output_type": "stream",
     "text": [
      "C:\\Users\\Sundeep\\Anaconda3\\lib\\site-packages\\skimage\\transform\\_warps.py:84: UserWarning: The default mode, 'constant', will be changed to 'reflect' in skimage 0.15.\n",
      "  warn(\"The default mode, 'constant', will be changed to 'reflect' in \"\n"
     ]
    },
    {
     "name": "stdout",
     "output_type": "stream",
     "text": [
      "\n"
     ]
    },
    {
     "data": {
      "application/vnd.jupyter.widget-view+json": {
       "model_id": "b22333fbf7f54a68932b5d405858ef34",
       "version_major": 2,
       "version_minor": 0
      },
      "text/plain": [
       "HBox(children=(IntProgress(value=0, max=390), HTML(value='')))"
      ]
     },
     "metadata": {},
     "output_type": "display_data"
    },
    {
     "name": "stdout",
     "output_type": "stream",
     "text": [
      "\n"
     ]
    }
   ],
   "source": [
    "X_test , y_test = get_data(TEST_DIR)"
   ]
  },
  {
   "cell_type": "code",
   "execution_count": 9,
   "metadata": {},
   "outputs": [
    {
     "name": "stdout",
     "output_type": "stream",
     "text": [
      "(5216, 150, 150, 3) \n",
      " (624, 150, 150, 3)\n"
     ]
    }
   ],
   "source": [
    "print(X_train.shape,'\\n',X_test.shape)"
   ]
  },
  {
   "cell_type": "code",
   "execution_count": 10,
   "metadata": {},
   "outputs": [],
   "source": [
    "# from keras.utils.np_utils import to_categorical\n",
    "\n",
    "# y_train = to_categorical(y_train, 2)\n",
    "# y_test = to_categorical(y_test, 2)"
   ]
  },
  {
   "cell_type": "code",
   "execution_count": 11,
   "metadata": {},
   "outputs": [
    {
     "name": "stdout",
     "output_type": "stream",
     "text": [
      "(5216,) \n",
      " (624,)\n"
     ]
    }
   ],
   "source": [
    "print(y_train.shape,'\\n',y_test.shape)"
   ]
  },
  {
   "cell_type": "code",
   "execution_count": 12,
   "metadata": {},
   "outputs": [
    {
     "data": {
      "text/plain": [
       "array([0, 0, 0, ..., 1, 1, 1])"
      ]
     },
     "execution_count": 12,
     "metadata": {},
     "output_type": "execute_result"
    }
   ],
   "source": [
    "y_train"
   ]
  },
  {
   "cell_type": "code",
   "execution_count": 13,
   "metadata": {},
   "outputs": [],
   "source": [
    "# import pickle\n",
    "# with open('X_train.pkl','wb') as f:\n",
    "#     pickle.dump(X_train, f)"
   ]
  },
  {
   "cell_type": "code",
   "execution_count": 14,
   "metadata": {},
   "outputs": [],
   "source": [
    "\n",
    "Pimages = os.listdir(TRAIN_DIR + \"PNEUMONIA\")\n",
    "Nimages = os.listdir(TRAIN_DIR + \"NORMAL\")"
   ]
  },
  {
   "cell_type": "code",
   "execution_count": null,
   "metadata": {},
   "outputs": [],
   "source": []
  },
  {
   "cell_type": "code",
   "execution_count": null,
   "metadata": {},
   "outputs": [],
   "source": []
  },
  {
   "cell_type": "code",
   "execution_count": 15,
   "metadata": {},
   "outputs": [],
   "source": [
    "from keras.models import Sequential\n",
    "from keras.layers import Dense , Activation\n",
    "from keras.layers import Dropout\n",
    "from keras.layers import Flatten\n",
    "from keras.constraints import maxnorm\n",
    "from keras.optimizers import SGD , RMSprop\n",
    "from keras.layers import Conv2D , BatchNormalization\n",
    "from keras.layers import MaxPooling2D\n",
    "from keras.utils import np_utils\n",
    "from keras import backend as K\n",
    "K.set_image_dim_ordering('th')\n",
    "from sklearn.model_selection import GridSearchCV\n",
    "from keras.wrappers.scikit_learn import KerasClassifier"
   ]
  },
  {
   "cell_type": "code",
   "execution_count": 16,
   "metadata": {},
   "outputs": [],
   "source": [
    "\n",
    "X_train=X_train.reshape(5216,3,150,150)\n",
    "X_test=X_test.reshape(624,3,150,150)"
   ]
  },
  {
   "cell_type": "code",
   "execution_count": 17,
   "metadata": {},
   "outputs": [],
   "source": [
    "def swish_activation(x):\n",
    "    return (K.sigmoid(x) * x)"
   ]
  },
  {
   "cell_type": "code",
   "execution_count": 18,
   "metadata": {},
   "outputs": [],
   "source": [
    "model = Sequential()\n",
    "model.add(Conv2D(16, (3, 3), activation='relu', padding=\"same\", input_shape=(3,150,150)))\n",
    "model.add(Conv2D(16, (3, 3), padding=\"same\", activation='relu'))\n",
    "model.add(MaxPooling2D(pool_size=(2, 2)))\n",
    "\n",
    "model.add(Conv2D(32, (3, 3), activation='relu', padding=\"same\", input_shape=(3,150,150)))\n",
    "model.add(Conv2D(32, (3, 3), padding=\"same\", activation='relu'))\n",
    "model.add(MaxPooling2D(pool_size=(2, 2)))\n",
    "\n",
    "model.add(Conv2D(64, (3, 3), activation='relu', padding=\"same\"))\n",
    "model.add(Conv2D(64, (3, 3), padding=\"same\", activation='relu'))\n",
    "model.add(MaxPooling2D(pool_size=(2, 2)))\n",
    "\n",
    "model.add(Conv2D(96, (3, 3), dilation_rate=(2, 2), activation='relu', padding=\"same\"))\n",
    "model.add(Conv2D(96, (3, 3), padding=\"valid\", activation='relu'))\n",
    "model.add(MaxPooling2D(pool_size=(2, 2)))\n",
    "\n",
    "model.add(Conv2D(128, (3, 3), dilation_rate=(2, 2), activation='relu', padding=\"same\"))\n",
    "model.add(Conv2D(128, (3, 3), padding=\"valid\", activation='relu'))\n",
    "model.add(MaxPooling2D(pool_size=(2, 2)))\n",
    "\n",
    "model.add(Flatten(name = 'Features_CNN'))\n",
    "\n",
    "model.add(Dense(64, activation='relu', name = 'Features_MLP'))\n",
    "model.add(Dropout(0.4))\n",
    "model.add(Dense(2 , activation='sigmoid'))\n"
   ]
  },
  {
   "cell_type": "code",
   "execution_count": 19,
   "metadata": {},
   "outputs": [
    {
     "name": "stdout",
     "output_type": "stream",
     "text": [
      "Epoch 1/7\n",
      "5216/5216 [==============================] - ETA: 12:07 - loss: 0.6919 - acc: 0.62 - ETA: 11:13 - loss: 0.6746 - acc: 0.70 - ETA: 10:51 - loss: 0.6385 - acc: 0.72 - ETA: 10:40 - loss: 0.7686 - acc: 0.71 - ETA: 10:33 - loss: 0.7499 - acc: 0.71 - ETA: 10:26 - loss: 0.7387 - acc: 0.69 - ETA: 10:15 - loss: 0.7260 - acc: 0.70 - ETA: 10:02 - loss: 0.7188 - acc: 0.72 - ETA: 9:51 - loss: 0.7136 - acc: 0.7326 - ETA: 9:41 - loss: 0.7099 - acc: 0.740 - ETA: 9:33 - loss: 0.7077 - acc: 0.730 - ETA: 9:24 - loss: 0.7049 - acc: 0.729 - ETA: 9:15 - loss: 0.7026 - acc: 0.733 - ETA: 9:09 - loss: 0.7010 - acc: 0.727 - ETA: 9:03 - loss: 0.6982 - acc: 0.727 - ETA: 8:56 - loss: 0.6960 - acc: 0.722 - ETA: 8:49 - loss: 0.6932 - acc: 0.720 - ETA: 8:43 - loss: 0.6902 - acc: 0.720 - ETA: 8:37 - loss: 0.6820 - acc: 0.727 - ETA: 8:31 - loss: 0.6878 - acc: 0.720 - ETA: 8:26 - loss: 0.6783 - acc: 0.724 - ETA: 8:21 - loss: 0.6750 - acc: 0.724 - ETA: 8:16 - loss: 0.6739 - acc: 0.724 - ETA: 8:10 - loss: 0.6699 - acc: 0.726 - ETA: 8:06 - loss: 0.6649 - acc: 0.727 - ETA: 8:01 - loss: 0.6603 - acc: 0.729 - ETA: 7:56 - loss: 0.6615 - acc: 0.725 - ETA: 7:52 - loss: 0.6617 - acc: 0.723 - ETA: 7:48 - loss: 0.6563 - acc: 0.727 - ETA: 7:43 - loss: 0.6552 - acc: 0.726 - ETA: 7:39 - loss: 0.6538 - acc: 0.724 - ETA: 7:35 - loss: 0.6529 - acc: 0.724 - ETA: 7:31 - loss: 0.6483 - acc: 0.727 - ETA: 7:26 - loss: 0.6438 - acc: 0.730 - ETA: 7:22 - loss: 0.6369 - acc: 0.735 - ETA: 7:18 - loss: 0.6344 - acc: 0.737 - ETA: 7:15 - loss: 0.6267 - acc: 0.741 - ETA: 7:11 - loss: 0.6235 - acc: 0.743 - ETA: 7:07 - loss: 0.6234 - acc: 0.744 - ETA: 7:03 - loss: 0.6246 - acc: 0.743 - ETA: 6:59 - loss: 0.6216 - acc: 0.744 - ETA: 6:55 - loss: 0.6193 - acc: 0.746 - ETA: 6:51 - loss: 0.6224 - acc: 0.742 - ETA: 6:48 - loss: 0.6206 - acc: 0.742 - ETA: 6:44 - loss: 0.6203 - acc: 0.743 - ETA: 6:40 - loss: 0.6187 - acc: 0.745 - ETA: 6:37 - loss: 0.6196 - acc: 0.743 - ETA: 6:34 - loss: 0.6194 - acc: 0.743 - ETA: 6:30 - loss: 0.6190 - acc: 0.743 - ETA: 6:27 - loss: 0.6199 - acc: 0.741 - ETA: 6:24 - loss: 0.6187 - acc: 0.743 - ETA: 6:20 - loss: 0.6186 - acc: 0.742 - ETA: 6:17 - loss: 0.6176 - acc: 0.742 - ETA: 6:13 - loss: 0.6163 - acc: 0.744 - ETA: 6:10 - loss: 0.6176 - acc: 0.742 - ETA: 6:06 - loss: 0.6168 - acc: 0.742 - ETA: 6:02 - loss: 0.6145 - acc: 0.743 - ETA: 5:59 - loss: 0.6141 - acc: 0.743 - ETA: 5:55 - loss: 0.6130 - acc: 0.743 - ETA: 5:51 - loss: 0.6134 - acc: 0.743 - ETA: 5:48 - loss: 0.6116 - acc: 0.744 - ETA: 5:44 - loss: 0.6121 - acc: 0.743 - ETA: 5:41 - loss: 0.6117 - acc: 0.743 - ETA: 5:37 - loss: 0.6108 - acc: 0.743 - ETA: 5:33 - loss: 0.6077 - acc: 0.745 - ETA: 5:30 - loss: 0.6084 - acc: 0.744 - ETA: 5:26 - loss: 0.6104 - acc: 0.742 - ETA: 5:23 - loss: 0.6098 - acc: 0.742 - ETA: 5:19 - loss: 0.6089 - acc: 0.742 - ETA: 5:16 - loss: 0.6087 - acc: 0.742 - ETA: 5:12 - loss: 0.6090 - acc: 0.740 - ETA: 5:09 - loss: 0.6095 - acc: 0.739 - ETA: 5:05 - loss: 0.6093 - acc: 0.738 - ETA: 5:02 - loss: 0.6089 - acc: 0.738 - ETA: 4:58 - loss: 0.6095 - acc: 0.737 - ETA: 4:55 - loss: 0.6090 - acc: 0.737 - ETA: 4:51 - loss: 0.6099 - acc: 0.735 - ETA: 4:48 - loss: 0.6095 - acc: 0.735 - ETA: 4:44 - loss: 0.6089 - acc: 0.735 - ETA: 4:41 - loss: 0.6084 - acc: 0.735 - ETA: 4:38 - loss: 0.6062 - acc: 0.737 - ETA: 4:34 - loss: 0.6070 - acc: 0.735 - ETA: 4:31 - loss: 0.6065 - acc: 0.734 - ETA: 4:27 - loss: 0.6055 - acc: 0.737 - ETA: 4:24 - loss: 0.6034 - acc: 0.737 - ETA: 4:20 - loss: 0.6020 - acc: 0.738 - ETA: 4:17 - loss: 0.6018 - acc: 0.738 - ETA: 4:14 - loss: 0.6003 - acc: 0.738 - ETA: 4:10 - loss: 0.5999 - acc: 0.739 - ETA: 4:07 - loss: 0.6000 - acc: 0.738 - ETA: 4:04 - loss: 0.5990 - acc: 0.739 - ETA: 4:00 - loss: 0.5973 - acc: 0.740 - ETA: 3:57 - loss: 0.5930 - acc: 0.743 - ETA: 3:54 - loss: 0.6123 - acc: 0.742 - ETA: 3:50 - loss: 0.6121 - acc: 0.742 - ETA: 3:47 - loss: 0.6109 - acc: 0.743 - ETA: 3:43 - loss: 0.6111 - acc: 0.742 - ETA: 3:40 - loss: 0.6110 - acc: 0.743 - ETA: 3:37 - loss: 0.6099 - acc: 0.743 - ETA: 3:33 - loss: 0.6087 - acc: 0.743 - ETA: 3:30 - loss: 0.6072 - acc: 0.744 - ETA: 3:26 - loss: 0.6043 - acc: 0.745 - ETA: 3:23 - loss: 0.6042 - acc: 0.745 - ETA: 3:19 - loss: 0.6022 - acc: 0.746 - ETA: 3:16 - loss: 0.6001 - acc: 0.747 - ETA: 3:12 - loss: 0.6017 - acc: 0.746 - ETA: 3:09 - loss: 0.6007 - acc: 0.746 - ETA: 3:06 - loss: 0.5998 - acc: 0.747 - ETA: 3:02 - loss: 0.5992 - acc: 0.747 - ETA: 2:59 - loss: 0.5986 - acc: 0.747 - ETA: 2:55 - loss: 0.5976 - acc: 0.746 - ETA: 2:52 - loss: 0.5961 - acc: 0.747 - ETA: 2:49 - loss: 0.5958 - acc: 0.746 - ETA: 2:45 - loss: 0.5942 - acc: 0.747 - ETA: 2:42 - loss: 0.5941 - acc: 0.745 - ETA: 2:38 - loss: 0.5927 - acc: 0.745 - ETA: 2:35 - loss: 0.5906 - acc: 0.746 - ETA: 2:31 - loss: 0.5894 - acc: 0.747 - ETA: 2:28 - loss: 0.5888 - acc: 0.746 - ETA: 2:25 - loss: 0.5879 - acc: 0.746 - ETA: 2:21 - loss: 0.5865 - acc: 0.746 - ETA: 2:18 - loss: 0.5857 - acc: 0.745 - ETA: 2:14 - loss: 0.5848 - acc: 0.744 - ETA: 2:11 - loss: 0.5834 - acc: 0.745 - ETA: 2:08 - loss: 0.5815 - acc: 0.744 - ETA: 2:04 - loss: 0.5814 - acc: 0.745 - ETA: 2:01 - loss: 0.5817 - acc: 0.745 - ETA: 1:58 - loss: 0.5807 - acc: 0.745 - ETA: 1:54 - loss: 0.5796 - acc: 0.746 - ETA: 1:51 - loss: 0.5798 - acc: 0.746 - ETA: 1:47 - loss: 0.5796 - acc: 0.747 - ETA: 1:44 - loss: 0.5803 - acc: 0.746 - ETA: 1:41 - loss: 0.5807 - acc: 0.746 - ETA: 1:37 - loss: 0.5807 - acc: 0.746 - ETA: 1:34 - loss: 0.5806 - acc: 0.747 - ETA: 1:30 - loss: 0.5809 - acc: 0.746 - ETA: 1:27 - loss: 0.5808 - acc: 0.747 - ETA: 1:24 - loss: 0.5815 - acc: 0.746 - ETA: 1:20 - loss: 0.5809 - acc: 0.747 - ETA: 1:17 - loss: 0.5815 - acc: 0.746 - ETA: 1:14 - loss: 0.5826 - acc: 0.745 - ETA: 1:10 - loss: 0.5832 - acc: 0.744 - ETA: 1:07 - loss: 0.5827 - acc: 0.745 - ETA: 1:03 - loss: 0.5831 - acc: 0.744 - ETA: 1:00 - loss: 0.5823 - acc: 0.745 - ETA: 57s - loss: 0.5822 - acc: 0.745 - ETA: 53s - loss: 0.5825 - acc: 0.74 - ETA: 50s - loss: 0.5823 - acc: 0.74 - ETA: 47s - loss: 0.5822 - acc: 0.74 - ETA: 43s - loss: 0.5825 - acc: 0.74 - ETA: 40s - loss: 0.5829 - acc: 0.74 - ETA: 36s - loss: 0.5829 - acc: 0.74 - ETA: 33s - loss: 0.5828 - acc: 0.74 - ETA: 30s - loss: 0.5823 - acc: 0.74 - ETA: 26s - loss: 0.5823 - acc: 0.74 - ETA: 23s - loss: 0.5819 - acc: 0.74 - ETA: 20s - loss: 0.5814 - acc: 0.74 - ETA: 16s - loss: 0.5806 - acc: 0.74 - ETA: 13s - loss: 0.5796 - acc: 0.74 - ETA: 10s - loss: 0.5789 - acc: 0.74 - ETA: 6s - loss: 0.5787 - acc: 0.7438 - ETA: 3s - loss: 0.5781 - acc: 0.743 - 548s 105ms/step - loss: 0.5780 - acc: 0.7423\n",
      "Epoch 2/7\n",
      "5216/5216 [==============================] - ETA: 9:23 - loss: 0.5119 - acc: 0.718 - ETA: 9:10 - loss: 0.5662 - acc: 0.640 - ETA: 8:59 - loss: 0.5458 - acc: 0.666 - ETA: 8:53 - loss: 0.5247 - acc: 0.695 - ETA: 8:47 - loss: 0.4804 - acc: 0.731 - ETA: 8:43 - loss: 0.4701 - acc: 0.729 - ETA: 8:39 - loss: 0.4828 - acc: 0.741 - ETA: 8:34 - loss: 0.4601 - acc: 0.753 - ETA: 8:31 - loss: 0.4568 - acc: 0.750 - ETA: 8:27 - loss: 0.4507 - acc: 0.753 - ETA: 8:24 - loss: 0.4441 - acc: 0.752 - ETA: 8:20 - loss: 0.4365 - acc: 0.752 - ETA: 8:17 - loss: 0.4362 - acc: 0.747 - ETA: 8:13 - loss: 0.4327 - acc: 0.750 - ETA: 8:11 - loss: 0.4323 - acc: 0.750 - ETA: 8:09 - loss: 0.4338 - acc: 0.757 - ETA: 8:07 - loss: 0.4378 - acc: 0.751 - ETA: 8:03 - loss: 0.4344 - acc: 0.758 - ETA: 8:00 - loss: 0.4317 - acc: 0.763 - ETA: 7:56 - loss: 0.4279 - acc: 0.770 - ETA: 7:53 - loss: 0.4229 - acc: 0.772 - ETA: 7:49 - loss: 0.4175 - acc: 0.778 - ETA: 7:46 - loss: 0.4085 - acc: 0.785 - ETA: 7:42 - loss: 0.4157 - acc: 0.787 - ETA: 7:39 - loss: 0.4098 - acc: 0.788 - ETA: 7:35 - loss: 0.4038 - acc: 0.793 - ETA: 7:32 - loss: 0.4043 - acc: 0.791 - ETA: 7:28 - loss: 0.4025 - acc: 0.793 - ETA: 7:25 - loss: 0.3997 - acc: 0.796 - ETA: 7:21 - loss: 0.3994 - acc: 0.797 - ETA: 7:18 - loss: 0.3964 - acc: 0.799 - ETA: 7:15 - loss: 0.3898 - acc: 0.802 - ETA: 7:11 - loss: 0.3884 - acc: 0.804 - ETA: 7:08 - loss: 0.3863 - acc: 0.805 - ETA: 7:05 - loss: 0.3861 - acc: 0.806 - ETA: 7:01 - loss: 0.3852 - acc: 0.807 - ETA: 6:58 - loss: 0.3807 - acc: 0.809 - ETA: 6:55 - loss: 0.3772 - acc: 0.810 - ETA: 6:51 - loss: 0.3779 - acc: 0.808 - ETA: 6:48 - loss: 0.3810 - acc: 0.807 - ETA: 6:44 - loss: 0.3768 - acc: 0.810 - ETA: 6:42 - loss: 0.3763 - acc: 0.811 - ETA: 6:38 - loss: 0.3792 - acc: 0.809 - ETA: 6:35 - loss: 0.3787 - acc: 0.809 - ETA: 6:31 - loss: 0.3778 - acc: 0.812 - ETA: 6:28 - loss: 0.3785 - acc: 0.811 - ETA: 6:25 - loss: 0.3752 - acc: 0.813 - ETA: 6:21 - loss: 0.3741 - acc: 0.813 - ETA: 6:18 - loss: 0.3703 - acc: 0.816 - ETA: 6:15 - loss: 0.3683 - acc: 0.818 - ETA: 6:12 - loss: 0.3664 - acc: 0.820 - ETA: 6:10 - loss: 0.3652 - acc: 0.820 - ETA: 6:07 - loss: 0.3619 - acc: 0.822 - ETA: 6:04 - loss: 0.3598 - acc: 0.822 - ETA: 6:00 - loss: 0.3647 - acc: 0.823 - ETA: 5:57 - loss: 0.3596 - acc: 0.826 - ETA: 5:54 - loss: 0.3642 - acc: 0.826 - ETA: 5:50 - loss: 0.3617 - acc: 0.827 - ETA: 5:47 - loss: 0.3584 - acc: 0.828 - ETA: 5:43 - loss: 0.3566 - acc: 0.828 - ETA: 5:40 - loss: 0.3550 - acc: 0.827 - ETA: 5:37 - loss: 0.3571 - acc: 0.827 - ETA: 5:33 - loss: 0.3569 - acc: 0.827 - ETA: 5:30 - loss: 0.3597 - acc: 0.827 - ETA: 5:27 - loss: 0.3599 - acc: 0.827 - ETA: 5:23 - loss: 0.3600 - acc: 0.828 - ETA: 5:20 - loss: 0.3587 - acc: 0.830 - ETA: 5:17 - loss: 0.3582 - acc: 0.830 - ETA: 5:13 - loss: 0.3575 - acc: 0.831 - ETA: 5:10 - loss: 0.3574 - acc: 0.832 - ETA: 5:07 - loss: 0.3554 - acc: 0.833 - ETA: 5:03 - loss: 0.3555 - acc: 0.833 - ETA: 5:00 - loss: 0.3535 - acc: 0.834 - ETA: 4:56 - loss: 0.3531 - acc: 0.834 - ETA: 4:53 - loss: 0.3531 - acc: 0.835 - ETA: 4:50 - loss: 0.3536 - acc: 0.834 - ETA: 4:47 - loss: 0.3531 - acc: 0.834 - ETA: 4:43 - loss: 0.3524 - acc: 0.835 - ETA: 4:40 - loss: 0.3533 - acc: 0.835 - ETA: 4:37 - loss: 0.3550 - acc: 0.835 - ETA: 4:33 - loss: 0.3570 - acc: 0.834 - ETA: 4:30 - loss: 0.3564 - acc: 0.835 - ETA: 4:26 - loss: 0.3551 - acc: 0.835 - ETA: 4:23 - loss: 0.3546 - acc: 0.834 - ETA: 4:20 - loss: 0.3551 - acc: 0.834 - ETA: 4:16 - loss: 0.3550 - acc: 0.835 - ETA: 4:13 - loss: 0.3546 - acc: 0.835 - ETA: 4:10 - loss: 0.3551 - acc: 0.834 - ETA: 4:06 - loss: 0.3544 - acc: 0.836 - ETA: 4:03 - loss: 0.3545 - acc: 0.835 - ETA: 4:00 - loss: 0.3544 - acc: 0.834 - ETA: 3:56 - loss: 0.3531 - acc: 0.835 - ETA: 3:53 - loss: 0.3549 - acc: 0.836 - ETA: 3:50 - loss: 0.3549 - acc: 0.835 - ETA: 3:46 - loss: 0.3562 - acc: 0.834 - ETA: 3:43 - loss: 0.3559 - acc: 0.834 - ETA: 3:40 - loss: 0.3558 - acc: 0.834 - ETA: 3:36 - loss: 0.3541 - acc: 0.835 - ETA: 3:33 - loss: 0.3514 - acc: 0.836 - ETA: 3:30 - loss: 0.3511 - acc: 0.835 - ETA: 3:26 - loss: 0.3513 - acc: 0.835 - ETA: 3:23 - loss: 0.3515 - acc: 0.835 - ETA: 3:20 - loss: 0.3499 - acc: 0.836 - ETA: 3:16 - loss: 0.3497 - acc: 0.836 - ETA: 3:13 - loss: 0.3501 - acc: 0.837 - ETA: 3:10 - loss: 0.3501 - acc: 0.837 - ETA: 3:06 - loss: 0.3496 - acc: 0.837 - ETA: 3:03 - loss: 0.3488 - acc: 0.837 - ETA: 3:00 - loss: 0.3481 - acc: 0.837 - ETA: 2:56 - loss: 0.3463 - acc: 0.838 - ETA: 2:53 - loss: 0.3457 - acc: 0.838 - ETA: 2:50 - loss: 0.3475 - acc: 0.837 - ETA: 2:46 - loss: 0.3479 - acc: 0.837 - ETA: 2:43 - loss: 0.3479 - acc: 0.838 - ETA: 2:40 - loss: 0.3461 - acc: 0.839 - ETA: 2:36 - loss: 0.3449 - acc: 0.840 - ETA: 2:33 - loss: 0.3468 - acc: 0.839 - ETA: 2:30 - loss: 0.3469 - acc: 0.839 - ETA: 2:26 - loss: 0.3477 - acc: 0.838 - ETA: 2:23 - loss: 0.3491 - acc: 0.838 - ETA: 2:20 - loss: 0.3483 - acc: 0.839 - ETA: 2:16 - loss: 0.3476 - acc: 0.839 - ETA: 2:13 - loss: 0.3469 - acc: 0.839 - ETA: 2:10 - loss: 0.3462 - acc: 0.840 - ETA: 2:06 - loss: 0.3485 - acc: 0.839 - ETA: 2:03 - loss: 0.3482 - acc: 0.839 - ETA: 2:00 - loss: 0.3484 - acc: 0.839 - ETA: 1:56 - loss: 0.3484 - acc: 0.839 - ETA: 1:53 - loss: 0.3477 - acc: 0.840 - ETA: 1:50 - loss: 0.3479 - acc: 0.840 - ETA: 1:46 - loss: 0.3468 - acc: 0.840 - ETA: 1:43 - loss: 0.3462 - acc: 0.840 - ETA: 1:40 - loss: 0.3451 - acc: 0.841 - ETA: 1:36 - loss: 0.3447 - acc: 0.841 - ETA: 1:33 - loss: 0.3452 - acc: 0.842 - ETA: 1:30 - loss: 0.3450 - acc: 0.842 - ETA: 1:26 - loss: 0.3440 - acc: 0.842 - ETA: 1:23 - loss: 0.3424 - acc: 0.843 - ETA: 1:20 - loss: 0.3414 - acc: 0.844 - ETA: 1:16 - loss: 0.3421 - acc: 0.844 - ETA: 1:13 - loss: 0.3415 - acc: 0.845 - ETA: 1:10 - loss: 0.3406 - acc: 0.845 - ETA: 1:06 - loss: 0.3400 - acc: 0.845 - ETA: 1:03 - loss: 0.3404 - acc: 0.845 - ETA: 1:00 - loss: 0.3399 - acc: 0.845 - ETA: 56s - loss: 0.3402 - acc: 0.845 - ETA: 53s - loss: 0.3393 - acc: 0.84 - ETA: 50s - loss: 0.3392 - acc: 0.84 - ETA: 46s - loss: 0.3382 - acc: 0.84 - ETA: 43s - loss: 0.3371 - acc: 0.84 - ETA: 40s - loss: 0.3357 - acc: 0.84 - ETA: 36s - loss: 0.3353 - acc: 0.84 - ETA: 33s - loss: 0.3358 - acc: 0.84 - ETA: 30s - loss: 0.3357 - acc: 0.84 - ETA: 26s - loss: 0.3345 - acc: 0.84 - ETA: 23s - loss: 0.3340 - acc: 0.84 - ETA: 20s - loss: 0.3336 - acc: 0.84 - ETA: 16s - loss: 0.3329 - acc: 0.84 - ETA: 13s - loss: 0.3315 - acc: 0.85 - ETA: 10s - loss: 0.3323 - acc: 0.85 - ETA: 6s - loss: 0.3322 - acc: 0.8502 - ETA: 3s - loss: 0.3315 - acc: 0.850 - 544s 104ms/step - loss: 0.3309 - acc: 0.8510\n",
      "Epoch 3/7\n"
     ]
    },
    {
     "name": "stdout",
     "output_type": "stream",
     "text": [
      "5216/5216 [==============================] - ETA: 8:51 - loss: 0.1674 - acc: 1.000 - ETA: 8:50 - loss: 0.1767 - acc: 0.984 - ETA: 8:47 - loss: 0.2381 - acc: 0.937 - ETA: 8:44 - loss: 0.2669 - acc: 0.929 - ETA: 8:40 - loss: 0.2646 - acc: 0.912 - ETA: 8:38 - loss: 0.2637 - acc: 0.901 - ETA: 8:34 - loss: 0.2589 - acc: 0.897 - ETA: 8:30 - loss: 0.2821 - acc: 0.890 - ETA: 8:27 - loss: 0.2720 - acc: 0.892 - ETA: 8:23 - loss: 0.2587 - acc: 0.900 - ETA: 8:20 - loss: 0.2515 - acc: 0.900 - ETA: 8:17 - loss: 0.2451 - acc: 0.901 - ETA: 8:15 - loss: 0.2377 - acc: 0.903 - ETA: 8:12 - loss: 0.2386 - acc: 0.901 - ETA: 8:09 - loss: 0.2427 - acc: 0.897 - ETA: 8:05 - loss: 0.2475 - acc: 0.898 - ETA: 8:02 - loss: 0.2453 - acc: 0.898 - ETA: 8:00 - loss: 0.2445 - acc: 0.897 - ETA: 7:57 - loss: 0.2412 - acc: 0.898 - ETA: 7:53 - loss: 0.2532 - acc: 0.896 - ETA: 7:50 - loss: 0.2517 - acc: 0.897 - ETA: 7:47 - loss: 0.2457 - acc: 0.902 - ETA: 7:43 - loss: 0.2408 - acc: 0.903 - ETA: 7:40 - loss: 0.2402 - acc: 0.903 - ETA: 7:36 - loss: 0.2446 - acc: 0.901 - ETA: 7:33 - loss: 0.2496 - acc: 0.899 - ETA: 7:30 - loss: 0.2496 - acc: 0.898 - ETA: 7:26 - loss: 0.2458 - acc: 0.898 - ETA: 7:23 - loss: 0.2485 - acc: 0.897 - ETA: 7:20 - loss: 0.2451 - acc: 0.899 - ETA: 7:16 - loss: 0.2428 - acc: 0.898 - ETA: 7:13 - loss: 0.2392 - acc: 0.900 - ETA: 7:10 - loss: 0.2340 - acc: 0.903 - ETA: 7:07 - loss: 0.2350 - acc: 0.905 - ETA: 7:03 - loss: 0.2329 - acc: 0.905 - ETA: 7:00 - loss: 0.2353 - acc: 0.904 - ETA: 6:57 - loss: 0.2317 - acc: 0.906 - ETA: 6:53 - loss: 0.2291 - acc: 0.907 - ETA: 6:50 - loss: 0.2296 - acc: 0.906 - ETA: 6:47 - loss: 0.2272 - acc: 0.907 - ETA: 6:43 - loss: 0.2261 - acc: 0.907 - ETA: 6:40 - loss: 0.2222 - acc: 0.909 - ETA: 6:37 - loss: 0.2215 - acc: 0.910 - ETA: 6:33 - loss: 0.2253 - acc: 0.908 - ETA: 6:30 - loss: 0.2282 - acc: 0.909 - ETA: 6:27 - loss: 0.2256 - acc: 0.909 - ETA: 6:23 - loss: 0.2309 - acc: 0.906 - ETA: 6:20 - loss: 0.2320 - acc: 0.906 - ETA: 6:17 - loss: 0.2312 - acc: 0.906 - ETA: 6:14 - loss: 0.2293 - acc: 0.908 - ETA: 6:10 - loss: 0.2269 - acc: 0.909 - ETA: 6:07 - loss: 0.2281 - acc: 0.909 - ETA: 6:03 - loss: 0.2270 - acc: 0.910 - ETA: 6:00 - loss: 0.2285 - acc: 0.909 - ETA: 5:57 - loss: 0.2301 - acc: 0.908 - ETA: 5:53 - loss: 0.2321 - acc: 0.906 - ETA: 5:50 - loss: 0.2323 - acc: 0.906 - ETA: 5:47 - loss: 0.2316 - acc: 0.906 - ETA: 5:44 - loss: 0.2311 - acc: 0.906 - ETA: 5:40 - loss: 0.2307 - acc: 0.906 - ETA: 5:37 - loss: 0.2289 - acc: 0.908 - ETA: 5:33 - loss: 0.2294 - acc: 0.908 - ETA: 5:30 - loss: 0.2319 - acc: 0.906 - ETA: 5:27 - loss: 0.2321 - acc: 0.905 - ETA: 5:24 - loss: 0.2334 - acc: 0.904 - ETA: 5:20 - loss: 0.2314 - acc: 0.905 - ETA: 5:17 - loss: 0.2330 - acc: 0.905 - ETA: 5:14 - loss: 0.2325 - acc: 0.904 - ETA: 5:10 - loss: 0.2311 - acc: 0.905 - ETA: 5:07 - loss: 0.2303 - acc: 0.905 - ETA: 5:04 - loss: 0.2288 - acc: 0.906 - ETA: 5:00 - loss: 0.2274 - acc: 0.907 - ETA: 4:57 - loss: 0.2280 - acc: 0.907 - ETA: 4:54 - loss: 0.2271 - acc: 0.907 - ETA: 4:50 - loss: 0.2271 - acc: 0.906 - ETA: 4:47 - loss: 0.2262 - acc: 0.907 - ETA: 4:44 - loss: 0.2252 - acc: 0.908 - ETA: 4:40 - loss: 0.2253 - acc: 0.908 - ETA: 4:37 - loss: 0.2263 - acc: 0.908 - ETA: 4:34 - loss: 0.2281 - acc: 0.908 - ETA: 4:31 - loss: 0.2283 - acc: 0.908 - ETA: 4:27 - loss: 0.2275 - acc: 0.908 - ETA: 4:24 - loss: 0.2275 - acc: 0.908 - ETA: 4:21 - loss: 0.2257 - acc: 0.909 - ETA: 4:17 - loss: 0.2245 - acc: 0.909 - ETA: 4:14 - loss: 0.2242 - acc: 0.909 - ETA: 4:11 - loss: 0.2254 - acc: 0.910 - ETA: 4:08 - loss: 0.2272 - acc: 0.909 - ETA: 4:04 - loss: 0.2286 - acc: 0.908 - ETA: 4:01 - loss: 0.2278 - acc: 0.908 - ETA: 3:58 - loss: 0.2278 - acc: 0.908 - ETA: 3:54 - loss: 0.2276 - acc: 0.909 - ETA: 3:51 - loss: 0.2280 - acc: 0.908 - ETA: 3:48 - loss: 0.2272 - acc: 0.908 - ETA: 3:44 - loss: 0.2266 - acc: 0.909 - ETA: 3:41 - loss: 0.2256 - acc: 0.909 - ETA: 3:38 - loss: 0.2256 - acc: 0.909 - ETA: 3:34 - loss: 0.2297 - acc: 0.907 - ETA: 3:31 - loss: 0.2290 - acc: 0.908 - ETA: 3:28 - loss: 0.2289 - acc: 0.908 - ETA: 3:25 - loss: 0.2292 - acc: 0.908 - ETA: 3:21 - loss: 0.2334 - acc: 0.907 - ETA: 3:18 - loss: 0.2326 - acc: 0.907 - ETA: 3:15 - loss: 0.2323 - acc: 0.907 - ETA: 3:11 - loss: 0.2318 - acc: 0.907 - ETA: 3:08 - loss: 0.2321 - acc: 0.907 - ETA: 3:05 - loss: 0.2333 - acc: 0.906 - ETA: 3:01 - loss: 0.2332 - acc: 0.907 - ETA: 2:58 - loss: 0.2343 - acc: 0.906 - ETA: 2:55 - loss: 0.2337 - acc: 0.907 - ETA: 2:51 - loss: 0.2343 - acc: 0.906 - ETA: 2:48 - loss: 0.2343 - acc: 0.906 - ETA: 2:45 - loss: 0.2336 - acc: 0.906 - ETA: 2:41 - loss: 0.2327 - acc: 0.906 - ETA: 2:38 - loss: 0.2346 - acc: 0.906 - ETA: 2:35 - loss: 0.2354 - acc: 0.906 - ETA: 2:32 - loss: 0.2349 - acc: 0.906 - ETA: 2:28 - loss: 0.2340 - acc: 0.906 - ETA: 2:25 - loss: 0.2339 - acc: 0.906 - ETA: 2:22 - loss: 0.2331 - acc: 0.907 - ETA: 2:18 - loss: 0.2341 - acc: 0.907 - ETA: 2:15 - loss: 0.2341 - acc: 0.907 - ETA: 2:12 - loss: 0.2338 - acc: 0.907 - ETA: 2:08 - loss: 0.2327 - acc: 0.907 - ETA: 2:05 - loss: 0.2333 - acc: 0.907 - ETA: 2:02 - loss: 0.2340 - acc: 0.907 - ETA: 1:59 - loss: 0.2342 - acc: 0.906 - ETA: 1:55 - loss: 0.2337 - acc: 0.907 - ETA: 1:52 - loss: 0.2326 - acc: 0.907 - ETA: 1:49 - loss: 0.2322 - acc: 0.907 - ETA: 1:45 - loss: 0.2326 - acc: 0.908 - ETA: 1:42 - loss: 0.2327 - acc: 0.907 - ETA: 1:39 - loss: 0.2339 - acc: 0.907 - ETA: 1:35 - loss: 0.2336 - acc: 0.907 - ETA: 1:32 - loss: 0.2331 - acc: 0.907 - ETA: 1:29 - loss: 0.2325 - acc: 0.908 - ETA: 1:25 - loss: 0.2319 - acc: 0.908 - ETA: 1:22 - loss: 0.2336 - acc: 0.908 - ETA: 1:19 - loss: 0.2329 - acc: 0.908 - ETA: 1:16 - loss: 0.2333 - acc: 0.908 - ETA: 1:12 - loss: 0.2330 - acc: 0.908 - ETA: 1:09 - loss: 0.2329 - acc: 0.908 - ETA: 1:06 - loss: 0.2321 - acc: 0.908 - ETA: 1:02 - loss: 0.2319 - acc: 0.908 - ETA: 59s - loss: 0.2326 - acc: 0.908 - ETA: 56s - loss: 0.2322 - acc: 0.90 - ETA: 52s - loss: 0.2320 - acc: 0.90 - ETA: 49s - loss: 0.2312 - acc: 0.90 - ETA: 46s - loss: 0.2313 - acc: 0.90 - ETA: 42s - loss: 0.2313 - acc: 0.90 - ETA: 39s - loss: 0.2319 - acc: 0.90 - ETA: 36s - loss: 0.2320 - acc: 0.90 - ETA: 33s - loss: 0.2322 - acc: 0.90 - ETA: 29s - loss: 0.2316 - acc: 0.90 - ETA: 26s - loss: 0.2322 - acc: 0.90 - ETA: 23s - loss: 0.2328 - acc: 0.90 - ETA: 19s - loss: 0.2320 - acc: 0.90 - ETA: 16s - loss: 0.2321 - acc: 0.90 - ETA: 13s - loss: 0.2318 - acc: 0.90 - ETA: 9s - loss: 0.2311 - acc: 0.9082 - ETA: 6s - loss: 0.2321 - acc: 0.907 - ETA: 3s - loss: 0.2321 - acc: 0.907 - 539s 103ms/step - loss: 0.2323 - acc: 0.9076\n",
      "Epoch 4/7\n",
      "5216/5216 [==============================] - ETA: 8:51 - loss: 0.1316 - acc: 0.968 - ETA: 8:51 - loss: 0.2328 - acc: 0.906 - ETA: 8:48 - loss: 0.2198 - acc: 0.916 - ETA: 8:44 - loss: 0.1987 - acc: 0.929 - ETA: 8:41 - loss: 0.1834 - acc: 0.937 - ETA: 8:37 - loss: 0.1680 - acc: 0.947 - ETA: 8:35 - loss: 0.1627 - acc: 0.950 - ETA: 8:31 - loss: 0.1606 - acc: 0.949 - ETA: 8:28 - loss: 0.1543 - acc: 0.951 - ETA: 8:24 - loss: 0.1578 - acc: 0.950 - ETA: 8:21 - loss: 0.1595 - acc: 0.946 - ETA: 8:18 - loss: 0.1536 - acc: 0.947 - ETA: 8:14 - loss: 0.1444 - acc: 0.951 - ETA: 8:11 - loss: 0.1842 - acc: 0.946 - ETA: 8:08 - loss: 0.1843 - acc: 0.945 - ETA: 8:05 - loss: 0.1786 - acc: 0.947 - ETA: 8:01 - loss: 0.1700 - acc: 0.950 - ETA: 7:58 - loss: 0.1688 - acc: 0.947 - ETA: 7:55 - loss: 0.1671 - acc: 0.947 - ETA: 7:52 - loss: 0.1677 - acc: 0.946 - ETA: 7:48 - loss: 0.1658 - acc: 0.946 - ETA: 7:45 - loss: 0.1725 - acc: 0.944 - ETA: 7:42 - loss: 0.1753 - acc: 0.942 - ETA: 7:38 - loss: 0.1735 - acc: 0.944 - ETA: 7:35 - loss: 0.1754 - acc: 0.943 - ETA: 7:32 - loss: 0.1748 - acc: 0.943 - ETA: 7:28 - loss: 0.1746 - acc: 0.944 - ETA: 7:25 - loss: 0.1751 - acc: 0.943 - ETA: 7:22 - loss: 0.1757 - acc: 0.942 - ETA: 7:19 - loss: 0.1756 - acc: 0.941 - ETA: 7:16 - loss: 0.1731 - acc: 0.942 - ETA: 7:12 - loss: 0.1714 - acc: 0.943 - ETA: 7:09 - loss: 0.1681 - acc: 0.944 - ETA: 7:06 - loss: 0.1648 - acc: 0.944 - ETA: 7:02 - loss: 0.1620 - acc: 0.945 - ETA: 6:59 - loss: 0.1631 - acc: 0.945 - ETA: 6:57 - loss: 0.1591 - acc: 0.946 - ETA: 6:53 - loss: 0.1602 - acc: 0.944 - ETA: 6:50 - loss: 0.1600 - acc: 0.943 - ETA: 6:47 - loss: 0.1574 - acc: 0.944 - ETA: 6:43 - loss: 0.1561 - acc: 0.945 - ETA: 6:40 - loss: 0.1576 - acc: 0.944 - ETA: 6:37 - loss: 0.1563 - acc: 0.944 - ETA: 6:33 - loss: 0.1544 - acc: 0.944 - ETA: 6:30 - loss: 0.1640 - acc: 0.942 - ETA: 6:27 - loss: 0.1664 - acc: 0.942 - ETA: 6:23 - loss: 0.1677 - acc: 0.941 - ETA: 6:20 - loss: 0.1681 - acc: 0.940 - ETA: 6:17 - loss: 0.1694 - acc: 0.940 - ETA: 6:13 - loss: 0.1700 - acc: 0.939 - ETA: 6:10 - loss: 0.1680 - acc: 0.940 - ETA: 6:07 - loss: 0.1677 - acc: 0.940 - ETA: 6:03 - loss: 0.1664 - acc: 0.941 - ETA: 6:00 - loss: 0.1649 - acc: 0.942 - ETA: 5:57 - loss: 0.1680 - acc: 0.940 - ETA: 5:54 - loss: 0.1668 - acc: 0.940 - ETA: 5:50 - loss: 0.1664 - acc: 0.941 - ETA: 5:47 - loss: 0.1652 - acc: 0.941 - ETA: 5:44 - loss: 0.1675 - acc: 0.940 - ETA: 5:40 - loss: 0.1679 - acc: 0.940 - ETA: 5:37 - loss: 0.1679 - acc: 0.940 - ETA: 5:34 - loss: 0.1671 - acc: 0.940 - ETA: 5:30 - loss: 0.1699 - acc: 0.938 - ETA: 5:27 - loss: 0.1752 - acc: 0.937 - ETA: 5:24 - loss: 0.1753 - acc: 0.937 - ETA: 5:20 - loss: 0.1752 - acc: 0.937 - ETA: 5:17 - loss: 0.1749 - acc: 0.937 - ETA: 5:14 - loss: 0.1749 - acc: 0.936 - ETA: 5:11 - loss: 0.1788 - acc: 0.933 - ETA: 5:07 - loss: 0.1849 - acc: 0.931 - ETA: 5:04 - loss: 0.1839 - acc: 0.932 - ETA: 5:01 - loss: 0.1844 - acc: 0.931 - ETA: 4:57 - loss: 0.1852 - acc: 0.931 - ETA: 4:54 - loss: 0.1860 - acc: 0.931 - ETA: 4:51 - loss: 0.1879 - acc: 0.931 - ETA: 4:47 - loss: 0.1920 - acc: 0.929 - ETA: 4:44 - loss: 0.1924 - acc: 0.929 - ETA: 4:41 - loss: 0.1929 - acc: 0.928 - ETA: 4:37 - loss: 0.1949 - acc: 0.928 - ETA: 4:34 - loss: 0.1964 - acc: 0.927 - ETA: 4:31 - loss: 0.1965 - acc: 0.927 - ETA: 4:28 - loss: 0.1967 - acc: 0.927 - ETA: 4:24 - loss: 0.1969 - acc: 0.928 - ETA: 4:21 - loss: 0.1967 - acc: 0.928 - ETA: 4:18 - loss: 0.1961 - acc: 0.928 - ETA: 4:14 - loss: 0.1949 - acc: 0.929 - ETA: 4:11 - loss: 0.1945 - acc: 0.929 - ETA: 4:08 - loss: 0.1966 - acc: 0.928 - ETA: 4:04 - loss: 0.1970 - acc: 0.927 - ETA: 4:01 - loss: 0.2016 - acc: 0.927 - ETA: 3:58 - loss: 0.2012 - acc: 0.927 - ETA: 3:54 - loss: 0.2001 - acc: 0.927 - ETA: 3:51 - loss: 0.1999 - acc: 0.927 - ETA: 3:48 - loss: 0.2007 - acc: 0.927 - ETA: 3:44 - loss: 0.2003 - acc: 0.928 - ETA: 3:41 - loss: 0.2002 - acc: 0.928 - ETA: 3:38 - loss: 0.1998 - acc: 0.928 - ETA: 3:35 - loss: 0.2001 - acc: 0.928 - ETA: 3:31 - loss: 0.2012 - acc: 0.927 - ETA: 3:28 - loss: 0.2017 - acc: 0.927 - ETA: 3:25 - loss: 0.2027 - acc: 0.927 - ETA: 3:21 - loss: 0.2018 - acc: 0.928 - ETA: 3:18 - loss: 0.2004 - acc: 0.929 - ETA: 3:15 - loss: 0.1998 - acc: 0.929 - ETA: 3:11 - loss: 0.1995 - acc: 0.929 - ETA: 3:08 - loss: 0.1993 - acc: 0.929 - ETA: 3:05 - loss: 0.2014 - acc: 0.929 - ETA: 3:01 - loss: 0.2006 - acc: 0.929 - ETA: 2:58 - loss: 0.1998 - acc: 0.929 - ETA: 2:55 - loss: 0.1985 - acc: 0.929 - ETA: 2:51 - loss: 0.1975 - acc: 0.930 - ETA: 2:48 - loss: 0.1960 - acc: 0.931 - ETA: 2:45 - loss: 0.1957 - acc: 0.931 - ETA: 2:42 - loss: 0.1961 - acc: 0.930 - ETA: 2:38 - loss: 0.1960 - acc: 0.931 - ETA: 2:35 - loss: 0.1954 - acc: 0.931 - ETA: 2:32 - loss: 0.1944 - acc: 0.931 - ETA: 2:28 - loss: 0.1941 - acc: 0.931 - ETA: 2:25 - loss: 0.1935 - acc: 0.931 - ETA: 2:22 - loss: 0.1929 - acc: 0.931 - ETA: 2:18 - loss: 0.1928 - acc: 0.931 - ETA: 2:15 - loss: 0.1919 - acc: 0.931 - ETA: 2:12 - loss: 0.1906 - acc: 0.932 - ETA: 2:08 - loss: 0.1904 - acc: 0.932 - ETA: 2:05 - loss: 0.1911 - acc: 0.932 - ETA: 2:02 - loss: 0.1906 - acc: 0.932 - ETA: 1:59 - loss: 0.1899 - acc: 0.932 - ETA: 1:55 - loss: 0.1889 - acc: 0.932 - ETA: 1:52 - loss: 0.1880 - acc: 0.932 - ETA: 1:49 - loss: 0.1883 - acc: 0.932 - ETA: 1:45 - loss: 0.1886 - acc: 0.932 - ETA: 1:42 - loss: 0.1875 - acc: 0.933 - ETA: 1:39 - loss: 0.1894 - acc: 0.932 - ETA: 1:35 - loss: 0.1939 - acc: 0.932 - ETA: 1:32 - loss: 0.1934 - acc: 0.932 - ETA: 1:29 - loss: 0.1932 - acc: 0.932 - ETA: 1:25 - loss: 0.1932 - acc: 0.932 - ETA: 1:22 - loss: 0.1930 - acc: 0.932 - ETA: 1:19 - loss: 0.1926 - acc: 0.932 - ETA: 1:16 - loss: 0.1935 - acc: 0.931 - ETA: 1:12 - loss: 0.1929 - acc: 0.932 - ETA: 1:09 - loss: 0.1927 - acc: 0.932 - ETA: 1:06 - loss: 0.1920 - acc: 0.932 - ETA: 1:02 - loss: 0.1919 - acc: 0.932 - ETA: 59s - loss: 0.1914 - acc: 0.932 - ETA: 56s - loss: 0.1927 - acc: 0.93 - ETA: 52s - loss: 0.1937 - acc: 0.93 - ETA: 49s - loss: 0.1934 - acc: 0.93 - ETA: 46s - loss: 0.1932 - acc: 0.93 - ETA: 42s - loss: 0.1933 - acc: 0.93 - ETA: 39s - loss: 0.1939 - acc: 0.93 - ETA: 36s - loss: 0.1931 - acc: 0.93 - ETA: 33s - loss: 0.1945 - acc: 0.93 - ETA: 29s - loss: 0.1944 - acc: 0.93 - ETA: 26s - loss: 0.1957 - acc: 0.93 - ETA: 23s - loss: 0.1957 - acc: 0.93 - ETA: 19s - loss: 0.1958 - acc: 0.93 - ETA: 16s - loss: 0.1951 - acc: 0.93 - ETA: 13s - loss: 0.1957 - acc: 0.93 - ETA: 9s - loss: 0.1957 - acc: 0.9303 - ETA: 6s - loss: 0.1968 - acc: 0.929 - ETA: 3s - loss: 0.1972 - acc: 0.930 - 539s 103ms/step - loss: 0.1971 - acc: 0.9300\n",
      "Epoch 5/7\n"
     ]
    },
    {
     "name": "stdout",
     "output_type": "stream",
     "text": [
      "5216/5216 [==============================] - ETA: 9:02 - loss: 0.1597 - acc: 0.937 - ETA: 8:52 - loss: 0.1702 - acc: 0.937 - ETA: 8:48 - loss: 0.1563 - acc: 0.937 - ETA: 8:45 - loss: 0.1997 - acc: 0.914 - ETA: 8:42 - loss: 0.1776 - acc: 0.925 - ETA: 8:38 - loss: 0.1954 - acc: 0.911 - ETA: 8:35 - loss: 0.1895 - acc: 0.910 - ETA: 8:31 - loss: 0.1862 - acc: 0.910 - ETA: 8:28 - loss: 0.1736 - acc: 0.916 - ETA: 8:24 - loss: 0.1630 - acc: 0.925 - ETA: 8:21 - loss: 0.1582 - acc: 0.929 - ETA: 8:18 - loss: 0.1478 - acc: 0.934 - ETA: 8:15 - loss: 0.1391 - acc: 0.939 - ETA: 8:12 - loss: 0.1441 - acc: 0.942 - ETA: 8:09 - loss: 0.1566 - acc: 0.937 - ETA: 8:06 - loss: 0.1562 - acc: 0.935 - ETA: 8:03 - loss: 0.1545 - acc: 0.937 - ETA: 7:59 - loss: 0.1487 - acc: 0.941 - ETA: 7:56 - loss: 0.1493 - acc: 0.940 - ETA: 7:52 - loss: 0.1513 - acc: 0.940 - ETA: 7:49 - loss: 0.1722 - acc: 0.937 - ETA: 7:46 - loss: 0.1704 - acc: 0.937 - ETA: 7:43 - loss: 0.1674 - acc: 0.937 - ETA: 7:39 - loss: 0.1711 - acc: 0.936 - ETA: 7:36 - loss: 0.1663 - acc: 0.938 - ETA: 7:33 - loss: 0.1725 - acc: 0.933 - ETA: 7:29 - loss: 0.1760 - acc: 0.931 - ETA: 7:26 - loss: 0.1748 - acc: 0.933 - ETA: 7:23 - loss: 0.1801 - acc: 0.931 - ETA: 7:19 - loss: 0.1806 - acc: 0.931 - ETA: 7:16 - loss: 0.1808 - acc: 0.931 - ETA: 7:13 - loss: 0.1801 - acc: 0.930 - ETA: 7:09 - loss: 0.1796 - acc: 0.930 - ETA: 7:06 - loss: 0.1794 - acc: 0.931 - ETA: 7:03 - loss: 0.1822 - acc: 0.930 - ETA: 6:59 - loss: 0.1810 - acc: 0.931 - ETA: 6:56 - loss: 0.1791 - acc: 0.932 - ETA: 6:53 - loss: 0.1761 - acc: 0.934 - ETA: 6:49 - loss: 0.1780 - acc: 0.931 - ETA: 6:46 - loss: 0.1762 - acc: 0.932 - ETA: 6:43 - loss: 0.1759 - acc: 0.932 - ETA: 6:39 - loss: 0.1792 - acc: 0.931 - ETA: 6:36 - loss: 0.1793 - acc: 0.931 - ETA: 6:32 - loss: 0.1781 - acc: 0.931 - ETA: 6:29 - loss: 0.1772 - acc: 0.932 - ETA: 6:26 - loss: 0.1781 - acc: 0.932 - ETA: 6:23 - loss: 0.1813 - acc: 0.931 - ETA: 6:19 - loss: 0.1822 - acc: 0.930 - ETA: 6:16 - loss: 0.1822 - acc: 0.929 - ETA: 6:13 - loss: 0.1801 - acc: 0.930 - ETA: 6:10 - loss: 0.1801 - acc: 0.930 - ETA: 6:06 - loss: 0.1834 - acc: 0.929 - ETA: 6:03 - loss: 0.1820 - acc: 0.930 - ETA: 6:00 - loss: 0.1815 - acc: 0.931 - ETA: 5:57 - loss: 0.1845 - acc: 0.930 - ETA: 5:53 - loss: 0.1827 - acc: 0.931 - ETA: 5:50 - loss: 0.1807 - acc: 0.932 - ETA: 5:47 - loss: 0.1826 - acc: 0.931 - ETA: 5:43 - loss: 0.1848 - acc: 0.931 - ETA: 5:40 - loss: 0.1842 - acc: 0.931 - ETA: 5:37 - loss: 0.1865 - acc: 0.929 - ETA: 5:33 - loss: 0.1879 - acc: 0.928 - ETA: 5:30 - loss: 0.1875 - acc: 0.928 - ETA: 5:27 - loss: 0.1859 - acc: 0.929 - ETA: 5:24 - loss: 0.1858 - acc: 0.928 - ETA: 5:20 - loss: 0.1851 - acc: 0.929 - ETA: 5:17 - loss: 0.1852 - acc: 0.929 - ETA: 5:14 - loss: 0.1848 - acc: 0.929 - ETA: 5:10 - loss: 0.1846 - acc: 0.928 - ETA: 5:07 - loss: 0.1834 - acc: 0.929 - ETA: 5:04 - loss: 0.1812 - acc: 0.930 - ETA: 5:00 - loss: 0.1798 - acc: 0.931 - ETA: 4:57 - loss: 0.1802 - acc: 0.930 - ETA: 4:54 - loss: 0.1788 - acc: 0.931 - ETA: 4:50 - loss: 0.1776 - acc: 0.932 - ETA: 4:47 - loss: 0.1771 - acc: 0.932 - ETA: 4:44 - loss: 0.1763 - acc: 0.932 - ETA: 4:40 - loss: 0.1767 - acc: 0.931 - ETA: 4:37 - loss: 0.1763 - acc: 0.931 - ETA: 4:34 - loss: 0.1763 - acc: 0.931 - ETA: 4:31 - loss: 0.1751 - acc: 0.932 - ETA: 4:27 - loss: 0.1747 - acc: 0.932 - ETA: 4:24 - loss: 0.1736 - acc: 0.932 - ETA: 4:21 - loss: 0.1740 - acc: 0.931 - ETA: 4:17 - loss: 0.1744 - acc: 0.932 - ETA: 4:14 - loss: 0.1747 - acc: 0.931 - ETA: 4:11 - loss: 0.1745 - acc: 0.931 - ETA: 4:07 - loss: 0.1731 - acc: 0.932 - ETA: 4:04 - loss: 0.1725 - acc: 0.932 - ETA: 4:01 - loss: 0.1746 - acc: 0.931 - ETA: 3:58 - loss: 0.1745 - acc: 0.932 - ETA: 3:54 - loss: 0.1736 - acc: 0.932 - ETA: 3:51 - loss: 0.1742 - acc: 0.932 - ETA: 3:48 - loss: 0.1771 - acc: 0.931 - ETA: 3:44 - loss: 0.1762 - acc: 0.932 - ETA: 3:41 - loss: 0.1759 - acc: 0.932 - ETA: 3:38 - loss: 0.1748 - acc: 0.933 - ETA: 3:35 - loss: 0.1751 - acc: 0.933 - ETA: 3:31 - loss: 0.1747 - acc: 0.933 - ETA: 3:28 - loss: 0.1742 - acc: 0.933 - ETA: 3:25 - loss: 0.1730 - acc: 0.934 - ETA: 3:21 - loss: 0.1733 - acc: 0.933 - ETA: 3:18 - loss: 0.1734 - acc: 0.933 - ETA: 3:15 - loss: 0.1727 - acc: 0.933 - ETA: 3:11 - loss: 0.1722 - acc: 0.933 - ETA: 3:08 - loss: 0.1715 - acc: 0.934 - ETA: 3:05 - loss: 0.1709 - acc: 0.934 - ETA: 3:01 - loss: 0.1702 - acc: 0.934 - ETA: 2:58 - loss: 0.1710 - acc: 0.934 - ETA: 2:55 - loss: 0.1711 - acc: 0.933 - ETA: 2:51 - loss: 0.1721 - acc: 0.933 - ETA: 2:48 - loss: 0.1714 - acc: 0.934 - ETA: 2:45 - loss: 0.1718 - acc: 0.933 - ETA: 2:42 - loss: 0.1710 - acc: 0.934 - ETA: 2:38 - loss: 0.1697 - acc: 0.934 - ETA: 2:35 - loss: 0.1691 - acc: 0.935 - ETA: 2:32 - loss: 0.1701 - acc: 0.935 - ETA: 2:28 - loss: 0.1697 - acc: 0.935 - ETA: 2:25 - loss: 0.1702 - acc: 0.935 - ETA: 2:22 - loss: 0.1700 - acc: 0.934 - ETA: 2:18 - loss: 0.1698 - acc: 0.935 - ETA: 2:15 - loss: 0.1705 - acc: 0.934 - ETA: 2:12 - loss: 0.1707 - acc: 0.934 - ETA: 2:08 - loss: 0.1706 - acc: 0.934 - ETA: 2:05 - loss: 0.1704 - acc: 0.934 - ETA: 2:02 - loss: 0.1708 - acc: 0.934 - ETA: 1:59 - loss: 0.1705 - acc: 0.934 - ETA: 1:55 - loss: 0.1701 - acc: 0.934 - ETA: 1:52 - loss: 0.1702 - acc: 0.934 - ETA: 1:49 - loss: 0.1698 - acc: 0.934 - ETA: 1:45 - loss: 0.1708 - acc: 0.934 - ETA: 1:42 - loss: 0.1710 - acc: 0.934 - ETA: 1:39 - loss: 0.1702 - acc: 0.934 - ETA: 1:35 - loss: 0.1693 - acc: 0.935 - ETA: 1:32 - loss: 0.1693 - acc: 0.935 - ETA: 1:29 - loss: 0.1689 - acc: 0.935 - ETA: 1:25 - loss: 0.1688 - acc: 0.934 - ETA: 1:22 - loss: 0.1689 - acc: 0.934 - ETA: 1:19 - loss: 0.1696 - acc: 0.934 - ETA: 1:16 - loss: 0.1691 - acc: 0.934 - ETA: 1:12 - loss: 0.1688 - acc: 0.934 - ETA: 1:09 - loss: 0.1682 - acc: 0.934 - ETA: 1:06 - loss: 0.1683 - acc: 0.934 - ETA: 1:02 - loss: 0.1714 - acc: 0.934 - ETA: 59s - loss: 0.1726 - acc: 0.934 - ETA: 56s - loss: 0.1740 - acc: 0.93 - ETA: 53s - loss: 0.1738 - acc: 0.93 - ETA: 49s - loss: 0.1733 - acc: 0.93 - ETA: 46s - loss: 0.1732 - acc: 0.93 - ETA: 43s - loss: 0.1731 - acc: 0.93 - ETA: 39s - loss: 0.1741 - acc: 0.93 - ETA: 36s - loss: 0.1744 - acc: 0.93 - ETA: 33s - loss: 0.1742 - acc: 0.93 - ETA: 29s - loss: 0.1747 - acc: 0.93 - ETA: 26s - loss: 0.1746 - acc: 0.93 - ETA: 23s - loss: 0.1743 - acc: 0.93 - ETA: 20s - loss: 0.1747 - acc: 0.93 - ETA: 16s - loss: 0.1746 - acc: 0.93 - ETA: 13s - loss: 0.1742 - acc: 0.93 - ETA: 10s - loss: 0.1747 - acc: 0.93 - ETA: 6s - loss: 0.1747 - acc: 0.9340 - ETA: 3s - loss: 0.1746 - acc: 0.934 - 545s 105ms/step - loss: 0.1741 - acc: 0.9340\n",
      "Epoch 6/7\n",
      "5216/5216 [==============================] - ETA: 9:46 - loss: 0.4634 - acc: 0.812 - ETA: 9:38 - loss: 0.3245 - acc: 0.843 - ETA: 9:33 - loss: 0.2482 - acc: 0.885 - ETA: 9:27 - loss: 0.2352 - acc: 0.890 - ETA: 9:24 - loss: 0.2406 - acc: 0.893 - ETA: 9:21 - loss: 0.2201 - acc: 0.911 - ETA: 9:18 - loss: 0.2000 - acc: 0.919 - ETA: 9:14 - loss: 0.2055 - acc: 0.918 - ETA: 9:11 - loss: 0.1880 - acc: 0.927 - ETA: 9:07 - loss: 0.1910 - acc: 0.928 - ETA: 9:04 - loss: 0.1816 - acc: 0.931 - ETA: 8:58 - loss: 0.1950 - acc: 0.921 - ETA: 8:52 - loss: 0.1928 - acc: 0.923 - ETA: 8:46 - loss: 0.1883 - acc: 0.926 - ETA: 8:40 - loss: 0.1823 - acc: 0.929 - ETA: 8:34 - loss: 0.1801 - acc: 0.929 - ETA: 8:29 - loss: 0.1770 - acc: 0.930 - ETA: 8:24 - loss: 0.1743 - acc: 0.934 - ETA: 8:19 - loss: 0.1710 - acc: 0.935 - ETA: 8:15 - loss: 0.1694 - acc: 0.937 - ETA: 8:10 - loss: 0.1624 - acc: 0.940 - ETA: 8:06 - loss: 0.1564 - acc: 0.943 - ETA: 8:01 - loss: 0.1691 - acc: 0.941 - ETA: 7:57 - loss: 0.1635 - acc: 0.944 - ETA: 7:53 - loss: 0.1605 - acc: 0.945 - ETA: 7:49 - loss: 0.1657 - acc: 0.943 - ETA: 7:45 - loss: 0.1619 - acc: 0.944 - ETA: 7:41 - loss: 0.1575 - acc: 0.946 - ETA: 7:38 - loss: 0.1533 - acc: 0.948 - ETA: 7:34 - loss: 0.1529 - acc: 0.949 - ETA: 7:30 - loss: 0.1517 - acc: 0.949 - ETA: 7:26 - loss: 0.1495 - acc: 0.950 - ETA: 7:23 - loss: 0.1487 - acc: 0.950 - ETA: 7:19 - loss: 0.1528 - acc: 0.948 - ETA: 7:15 - loss: 0.1527 - acc: 0.948 - ETA: 7:11 - loss: 0.1640 - acc: 0.946 - ETA: 7:07 - loss: 0.1611 - acc: 0.947 - ETA: 7:04 - loss: 0.1620 - acc: 0.946 - ETA: 7:00 - loss: 0.1618 - acc: 0.947 - ETA: 6:56 - loss: 0.1613 - acc: 0.946 - ETA: 6:53 - loss: 0.1591 - acc: 0.948 - ETA: 6:49 - loss: 0.1579 - acc: 0.948 - ETA: 6:45 - loss: 0.1572 - acc: 0.949 - ETA: 6:42 - loss: 0.1612 - acc: 0.948 - ETA: 6:38 - loss: 0.1594 - acc: 0.949 - ETA: 6:35 - loss: 0.1585 - acc: 0.949 - ETA: 6:31 - loss: 0.1575 - acc: 0.948 - ETA: 6:27 - loss: 0.1552 - acc: 0.949 - ETA: 6:24 - loss: 0.1558 - acc: 0.949 - ETA: 6:20 - loss: 0.1560 - acc: 0.948 - ETA: 6:17 - loss: 0.1610 - acc: 0.947 - ETA: 6:13 - loss: 0.1587 - acc: 0.948 - ETA: 6:10 - loss: 0.1589 - acc: 0.947 - ETA: 6:06 - loss: 0.1580 - acc: 0.947 - ETA: 6:03 - loss: 0.1600 - acc: 0.946 - ETA: 5:59 - loss: 0.1588 - acc: 0.947 - ETA: 5:56 - loss: 0.1604 - acc: 0.946 - ETA: 5:52 - loss: 0.1597 - acc: 0.946 - ETA: 5:49 - loss: 0.1592 - acc: 0.946 - ETA: 5:46 - loss: 0.1601 - acc: 0.946 - ETA: 5:42 - loss: 0.1584 - acc: 0.947 - ETA: 5:39 - loss: 0.1566 - acc: 0.947 - ETA: 5:35 - loss: 0.1570 - acc: 0.946 - ETA: 5:32 - loss: 0.1573 - acc: 0.945 - ETA: 5:28 - loss: 0.1626 - acc: 0.944 - ETA: 5:25 - loss: 0.1623 - acc: 0.945 - ETA: 5:22 - loss: 0.1634 - acc: 0.944 - ETA: 5:18 - loss: 0.1637 - acc: 0.944 - ETA: 5:15 - loss: 0.1643 - acc: 0.944 - ETA: 5:11 - loss: 0.1628 - acc: 0.945 - ETA: 5:08 - loss: 0.1652 - acc: 0.944 - ETA: 5:05 - loss: 0.1655 - acc: 0.944 - ETA: 5:01 - loss: 0.1651 - acc: 0.944 - ETA: 4:58 - loss: 0.1643 - acc: 0.944 - ETA: 4:54 - loss: 0.1632 - acc: 0.945 - ETA: 4:51 - loss: 0.1642 - acc: 0.944 - ETA: 4:48 - loss: 0.1660 - acc: 0.943 - ETA: 4:44 - loss: 0.1652 - acc: 0.943 - ETA: 4:41 - loss: 0.1655 - acc: 0.944 - ETA: 4:37 - loss: 0.1649 - acc: 0.944 - ETA: 4:34 - loss: 0.1642 - acc: 0.944 - ETA: 4:31 - loss: 0.1642 - acc: 0.944 - ETA: 4:27 - loss: 0.1658 - acc: 0.944 - ETA: 4:24 - loss: 0.1645 - acc: 0.945 - ETA: 4:20 - loss: 0.1634 - acc: 0.945 - ETA: 4:17 - loss: 0.1653 - acc: 0.944 - ETA: 4:14 - loss: 0.1660 - acc: 0.944 - ETA: 4:11 - loss: 0.1679 - acc: 0.943 - ETA: 4:08 - loss: 0.1680 - acc: 0.943 - ETA: 4:05 - loss: 0.1684 - acc: 0.943 - ETA: 4:01 - loss: 0.1671 - acc: 0.944 - ETA: 3:58 - loss: 0.1686 - acc: 0.943 - ETA: 3:55 - loss: 0.1697 - acc: 0.942 - ETA: 3:51 - loss: 0.1716 - acc: 0.941 - ETA: 3:48 - loss: 0.1713 - acc: 0.941 - ETA: 3:44 - loss: 0.1721 - acc: 0.941 - ETA: 3:41 - loss: 0.1732 - acc: 0.940 - ETA: 3:38 - loss: 0.1728 - acc: 0.940 - ETA: 3:34 - loss: 0.1722 - acc: 0.940 - ETA: 3:31 - loss: 0.1718 - acc: 0.940 - ETA: 3:28 - loss: 0.1711 - acc: 0.941 - ETA: 3:24 - loss: 0.1703 - acc: 0.941 - ETA: 3:21 - loss: 0.1712 - acc: 0.941 - ETA: 3:17 - loss: 0.1703 - acc: 0.941 - ETA: 3:14 - loss: 0.1706 - acc: 0.941 - ETA: 3:11 - loss: 0.1705 - acc: 0.941 - ETA: 3:07 - loss: 0.1694 - acc: 0.941 - ETA: 3:04 - loss: 0.1700 - acc: 0.941 - ETA: 3:01 - loss: 0.1703 - acc: 0.941 - ETA: 2:57 - loss: 0.1700 - acc: 0.941 - ETA: 2:54 - loss: 0.1695 - acc: 0.941 - ETA: 2:51 - loss: 0.1700 - acc: 0.941 - ETA: 2:47 - loss: 0.1703 - acc: 0.940 - ETA: 2:44 - loss: 0.1692 - acc: 0.941 - ETA: 2:40 - loss: 0.1683 - acc: 0.941 - ETA: 2:37 - loss: 0.1684 - acc: 0.941 - ETA: 2:34 - loss: 0.1677 - acc: 0.941 - ETA: 2:30 - loss: 0.1666 - acc: 0.942 - ETA: 2:27 - loss: 0.1670 - acc: 0.942 - ETA: 2:24 - loss: 0.1665 - acc: 0.942 - ETA: 2:20 - loss: 0.1659 - acc: 0.942 - ETA: 2:17 - loss: 0.1661 - acc: 0.942 - ETA: 2:13 - loss: 0.1663 - acc: 0.941 - ETA: 2:10 - loss: 0.1662 - acc: 0.941 - ETA: 2:07 - loss: 0.1656 - acc: 0.941 - ETA: 2:03 - loss: 0.1658 - acc: 0.941 - ETA: 2:00 - loss: 0.1648 - acc: 0.942 - ETA: 1:57 - loss: 0.1662 - acc: 0.941 - ETA: 1:53 - loss: 0.1657 - acc: 0.941 - ETA: 1:50 - loss: 0.1658 - acc: 0.941 - ETA: 1:47 - loss: 0.1649 - acc: 0.942 - ETA: 1:43 - loss: 0.1657 - acc: 0.941 - ETA: 1:40 - loss: 0.1651 - acc: 0.941 - ETA: 1:37 - loss: 0.1648 - acc: 0.941 - ETA: 1:33 - loss: 0.1643 - acc: 0.941 - ETA: 1:30 - loss: 0.1636 - acc: 0.941 - ETA: 1:26 - loss: 0.1628 - acc: 0.942 - ETA: 1:23 - loss: 0.1625 - acc: 0.942 - ETA: 1:20 - loss: 0.1624 - acc: 0.941 - ETA: 1:16 - loss: 0.1616 - acc: 0.942 - ETA: 1:13 - loss: 0.1615 - acc: 0.942 - ETA: 1:10 - loss: 0.1622 - acc: 0.942 - ETA: 1:06 - loss: 0.1622 - acc: 0.942 - ETA: 1:03 - loss: 0.1615 - acc: 0.942 - ETA: 1:00 - loss: 0.1613 - acc: 0.942 - ETA: 56s - loss: 0.1608 - acc: 0.942 - ETA: 53s - loss: 0.1605 - acc: 0.94 - ETA: 50s - loss: 0.1600 - acc: 0.94 - ETA: 46s - loss: 0.1598 - acc: 0.94 - ETA: 43s - loss: 0.1593 - acc: 0.94 - ETA: 40s - loss: 0.1583 - acc: 0.94 - ETA: 36s - loss: 0.1593 - acc: 0.94 - ETA: 33s - loss: 0.1589 - acc: 0.94 - ETA: 30s - loss: 0.1592 - acc: 0.94 - ETA: 26s - loss: 0.1585 - acc: 0.94 - ETA: 23s - loss: 0.1595 - acc: 0.94 - ETA: 20s - loss: 0.1602 - acc: 0.94 - ETA: 16s - loss: 0.1608 - acc: 0.94 - ETA: 13s - loss: 0.1607 - acc: 0.94 - ETA: 10s - loss: 0.1612 - acc: 0.94 - ETA: 6s - loss: 0.1611 - acc: 0.9418 - ETA: 3s - loss: 0.1621 - acc: 0.941 - 545s 105ms/step - loss: 0.1618 - acc: 0.9413\n",
      "Epoch 7/7\n"
     ]
    },
    {
     "name": "stdout",
     "output_type": "stream",
     "text": [
      "5216/5216 [==============================] - ETA: 11:56 - loss: 0.0901 - acc: 1.00 - ETA: 11:17 - loss: 0.1584 - acc: 0.93 - ETA: 10:26 - loss: 0.1553 - acc: 0.93 - ETA: 9:59 - loss: 0.1698 - acc: 0.9297 - ETA: 9:41 - loss: 0.1704 - acc: 0.937 - ETA: 9:28 - loss: 0.1605 - acc: 0.937 - ETA: 9:25 - loss: 0.1812 - acc: 0.937 - ETA: 9:29 - loss: 0.1755 - acc: 0.941 - ETA: 9:42 - loss: 0.1662 - acc: 0.944 - ETA: 9:37 - loss: 0.1586 - acc: 0.950 - ETA: 9:29 - loss: 0.1499 - acc: 0.954 - ETA: 9:21 - loss: 0.1462 - acc: 0.953 - ETA: 9:13 - loss: 0.1377 - acc: 0.956 - ETA: 9:06 - loss: 0.1434 - acc: 0.953 - ETA: 8:59 - loss: 0.1365 - acc: 0.956 - ETA: 8:53 - loss: 0.1458 - acc: 0.949 - ETA: 8:47 - loss: 0.1415 - acc: 0.950 - ETA: 8:41 - loss: 0.1395 - acc: 0.949 - ETA: 8:36 - loss: 0.1564 - acc: 0.947 - ETA: 8:31 - loss: 0.1565 - acc: 0.948 - ETA: 8:26 - loss: 0.1579 - acc: 0.947 - ETA: 8:21 - loss: 0.1546 - acc: 0.948 - ETA: 8:16 - loss: 0.1565 - acc: 0.948 - ETA: 8:11 - loss: 0.1556 - acc: 0.947 - ETA: 8:07 - loss: 0.1534 - acc: 0.948 - ETA: 8:02 - loss: 0.1515 - acc: 0.949 - ETA: 7:58 - loss: 0.1493 - acc: 0.950 - ETA: 7:54 - loss: 0.1528 - acc: 0.948 - ETA: 7:50 - loss: 0.1531 - acc: 0.947 - ETA: 7:46 - loss: 0.1509 - acc: 0.947 - ETA: 7:42 - loss: 0.1560 - acc: 0.945 - ETA: 7:37 - loss: 0.1541 - acc: 0.947 - ETA: 7:33 - loss: 0.1572 - acc: 0.945 - ETA: 7:29 - loss: 0.1564 - acc: 0.944 - ETA: 7:25 - loss: 0.1540 - acc: 0.945 - ETA: 7:22 - loss: 0.1512 - acc: 0.946 - ETA: 7:18 - loss: 0.1549 - acc: 0.943 - ETA: 7:14 - loss: 0.1562 - acc: 0.940 - ETA: 7:10 - loss: 0.1540 - acc: 0.942 - ETA: 7:07 - loss: 0.1545 - acc: 0.941 - ETA: 7:03 - loss: 0.1557 - acc: 0.941 - ETA: 6:59 - loss: 0.1545 - acc: 0.942 - ETA: 6:55 - loss: 0.1547 - acc: 0.942 - ETA: 6:52 - loss: 0.1530 - acc: 0.943 - ETA: 6:48 - loss: 0.1521 - acc: 0.943 - ETA: 6:45 - loss: 0.1516 - acc: 0.942 - ETA: 6:41 - loss: 0.1518 - acc: 0.943 - ETA: 6:37 - loss: 0.1499 - acc: 0.944 - ETA: 6:34 - loss: 0.1503 - acc: 0.943 - ETA: 6:30 - loss: 0.1492 - acc: 0.944 - ETA: 6:26 - loss: 0.1491 - acc: 0.944 - ETA: 6:23 - loss: 0.1470 - acc: 0.945 - ETA: 6:19 - loss: 0.1451 - acc: 0.945 - ETA: 6:15 - loss: 0.1450 - acc: 0.945 - ETA: 6:12 - loss: 0.1455 - acc: 0.944 - ETA: 6:08 - loss: 0.1462 - acc: 0.944 - ETA: 6:04 - loss: 0.1490 - acc: 0.943 - ETA: 6:01 - loss: 0.1475 - acc: 0.944 - ETA: 5:57 - loss: 0.1471 - acc: 0.944 - ETA: 5:54 - loss: 0.1485 - acc: 0.944 - ETA: 5:50 - loss: 0.1470 - acc: 0.945 - ETA: 5:46 - loss: 0.1470 - acc: 0.945 - ETA: 5:43 - loss: 0.1456 - acc: 0.945 - ETA: 5:39 - loss: 0.1446 - acc: 0.946 - ETA: 5:36 - loss: 0.1460 - acc: 0.946 - ETA: 5:32 - loss: 0.1472 - acc: 0.946 - ETA: 5:29 - loss: 0.1459 - acc: 0.946 - ETA: 5:25 - loss: 0.1452 - acc: 0.946 - ETA: 5:22 - loss: 0.1450 - acc: 0.946 - ETA: 5:18 - loss: 0.1450 - acc: 0.946 - ETA: 5:15 - loss: 0.1446 - acc: 0.945 - ETA: 5:11 - loss: 0.1437 - acc: 0.946 - ETA: 5:08 - loss: 0.1430 - acc: 0.946 - ETA: 5:04 - loss: 0.1434 - acc: 0.945 - ETA: 5:01 - loss: 0.1421 - acc: 0.946 - ETA: 4:57 - loss: 0.1451 - acc: 0.945 - ETA: 4:54 - loss: 0.1443 - acc: 0.946 - ETA: 4:50 - loss: 0.1449 - acc: 0.945 - ETA: 4:47 - loss: 0.1447 - acc: 0.945 - ETA: 4:43 - loss: 0.1443 - acc: 0.946 - ETA: 4:40 - loss: 0.1431 - acc: 0.946 - ETA: 4:36 - loss: 0.1434 - acc: 0.946 - ETA: 4:33 - loss: 0.1422 - acc: 0.946 - ETA: 4:29 - loss: 0.1421 - acc: 0.947 - ETA: 4:26 - loss: 0.1408 - acc: 0.947 - ETA: 4:23 - loss: 0.1414 - acc: 0.947 - ETA: 4:19 - loss: 0.1408 - acc: 0.947 - ETA: 4:16 - loss: 0.1414 - acc: 0.946 - ETA: 4:12 - loss: 0.1433 - acc: 0.946 - ETA: 4:09 - loss: 0.1436 - acc: 0.945 - ETA: 4:05 - loss: 0.1432 - acc: 0.945 - ETA: 4:02 - loss: 0.1459 - acc: 0.944 - ETA: 3:58 - loss: 0.1456 - acc: 0.944 - ETA: 3:55 - loss: 0.1451 - acc: 0.944 - ETA: 3:51 - loss: 0.1464 - acc: 0.944 - ETA: 3:48 - loss: 0.1476 - acc: 0.943 - ETA: 3:45 - loss: 0.1481 - acc: 0.943 - ETA: 3:41 - loss: 0.1482 - acc: 0.943 - ETA: 3:38 - loss: 0.1479 - acc: 0.943 - ETA: 3:34 - loss: 0.1474 - acc: 0.943 - ETA: 3:31 - loss: 0.1470 - acc: 0.944 - ETA: 3:28 - loss: 0.1464 - acc: 0.944 - ETA: 3:24 - loss: 0.1470 - acc: 0.944 - ETA: 3:21 - loss: 0.1474 - acc: 0.944 - ETA: 3:17 - loss: 0.1473 - acc: 0.944 - ETA: 3:14 - loss: 0.1463 - acc: 0.944 - ETA: 3:10 - loss: 0.1461 - acc: 0.945 - ETA: 3:07 - loss: 0.1469 - acc: 0.945 - ETA: 3:04 - loss: 0.1465 - acc: 0.945 - ETA: 3:00 - loss: 0.1493 - acc: 0.944 - ETA: 2:57 - loss: 0.1484 - acc: 0.944 - ETA: 2:53 - loss: 0.1478 - acc: 0.944 - ETA: 2:50 - loss: 0.1468 - acc: 0.945 - ETA: 2:46 - loss: 0.1458 - acc: 0.945 - ETA: 2:43 - loss: 0.1449 - acc: 0.945 - ETA: 2:40 - loss: 0.1446 - acc: 0.946 - ETA: 2:36 - loss: 0.1459 - acc: 0.946 - ETA: 2:33 - loss: 0.1459 - acc: 0.946 - ETA: 2:29 - loss: 0.1459 - acc: 0.945 - ETA: 2:26 - loss: 0.1455 - acc: 0.946 - ETA: 2:22 - loss: 0.1444 - acc: 0.946 - ETA: 2:19 - loss: 0.1440 - acc: 0.946 - ETA: 2:16 - loss: 0.1430 - acc: 0.947 - ETA: 2:12 - loss: 0.1425 - acc: 0.947 - ETA: 2:09 - loss: 0.1417 - acc: 0.947 - ETA: 2:05 - loss: 0.1414 - acc: 0.947 - ETA: 2:02 - loss: 0.1410 - acc: 0.947 - ETA: 1:59 - loss: 0.1405 - acc: 0.947 - ETA: 1:55 - loss: 0.1399 - acc: 0.947 - ETA: 1:52 - loss: 0.1396 - acc: 0.948 - ETA: 1:48 - loss: 0.1418 - acc: 0.948 - ETA: 1:45 - loss: 0.1408 - acc: 0.948 - ETA: 1:41 - loss: 0.1403 - acc: 0.948 - ETA: 1:38 - loss: 0.1398 - acc: 0.948 - ETA: 1:35 - loss: 0.1409 - acc: 0.948 - ETA: 1:31 - loss: 0.1403 - acc: 0.948 - ETA: 1:28 - loss: 0.1395 - acc: 0.949 - ETA: 1:24 - loss: 0.1391 - acc: 0.949 - ETA: 1:21 - loss: 0.1389 - acc: 0.949 - ETA: 1:18 - loss: 0.1385 - acc: 0.949 - ETA: 1:14 - loss: 0.1392 - acc: 0.949 - ETA: 1:11 - loss: 0.1385 - acc: 0.949 - ETA: 1:07 - loss: 0.1384 - acc: 0.949 - ETA: 1:04 - loss: 0.1376 - acc: 0.949 - ETA: 1:01 - loss: 0.1380 - acc: 0.949 - ETA: 57s - loss: 0.1381 - acc: 0.949 - ETA: 54s - loss: 0.1384 - acc: 0.94 - ETA: 50s - loss: 0.1378 - acc: 0.95 - ETA: 47s - loss: 0.1377 - acc: 0.94 - ETA: 44s - loss: 0.1383 - acc: 0.94 - ETA: 40s - loss: 0.1379 - acc: 0.94 - ETA: 37s - loss: 0.1379 - acc: 0.94 - ETA: 33s - loss: 0.1379 - acc: 0.94 - ETA: 30s - loss: 0.1377 - acc: 0.94 - ETA: 27s - loss: 0.1372 - acc: 0.94 - ETA: 23s - loss: 0.1377 - acc: 0.94 - ETA: 20s - loss: 0.1375 - acc: 0.94 - ETA: 16s - loss: 0.1374 - acc: 0.94 - ETA: 13s - loss: 0.1381 - acc: 0.94 - ETA: 10s - loss: 0.1386 - acc: 0.94 - ETA: 6s - loss: 0.1387 - acc: 0.9486 - ETA: 3s - loss: 0.1390 - acc: 0.948 - 553s 106ms/step - loss: 0.1391 - acc: 0.9486\n"
     ]
    },
    {
     "data": {
      "text/plain": [
       "<keras.callbacks.History at 0x25000211e80>"
      ]
     },
     "execution_count": 19,
     "metadata": {},
     "output_type": "execute_result"
    }
   ],
   "source": [
    "model.compile(optimizer='adam', \n",
    "              loss='sparse_categorical_crossentropy',\n",
    "              metrics=['accuracy'])\n",
    "\n",
    "model.fit(X_train, y_train, epochs=7)"
   ]
  },
  {
   "cell_type": "code",
   "execution_count": 20,
   "metadata": {},
   "outputs": [],
   "source": [
    "from sklearn.metrics import confusion_matrix\n",
    "pred = model.predict(X_test)\n",
    "pred = np.argmax(pred,axis = 1) \n",
    "# y_true = np.argmax(y_test,axis = 1)\n"
   ]
  },
  {
   "cell_type": "code",
   "execution_count": 21,
   "metadata": {},
   "outputs": [],
   "source": [
    "y_true = y_test"
   ]
  },
  {
   "cell_type": "code",
   "execution_count": 25,
   "metadata": {},
   "outputs": [
    {
     "data": {
      "image/png": "[encoded data removed]",
      "text/plain": [
       "<Figure size 360x360 with 1 Axes>"
      ]
     },
     "metadata": {},
     "output_type": "display_data"
    }
   ],
   "source": [
    "import matplotlib.pyplot as plt\n",
    "%matplotlib inline\n",
    "CM = confusion_matrix(y_true, pred)\n",
    "from mlxtend.plotting import plot_confusion_matrix\n",
    "fig, ax = plot_confusion_matrix(conf_mat=CM ,  figsize=(5, 5))\n",
    "plt.show()"
   ]
  },
  {
   "cell_type": "code",
   "execution_count": 26,
   "metadata": {},
   "outputs": [
    {
     "data": {
      "text/plain": [
       "(array([0.96103896, 0.70749543]),\n",
       " array([0.31623932, 0.99230769]),\n",
       " array([0.47588424, 0.82604055]),\n",
       " array([234, 390], dtype=int64))"
      ]
     },
     "execution_count": 26,
     "metadata": {},
     "output_type": "execute_result"
    }
   ],
   "source": [
    "from sklearn.metrics import precision_recall_fscore_support\n",
    "precision_recall_fscore_support(y_true, pred)"
   ]
  },
  {
   "cell_type": "code",
   "execution_count": 27,
   "metadata": {},
   "outputs": [
    {
     "data": {
      "text/plain": [
       "0.75"
      ]
     },
     "execution_count": 27,
     "metadata": {},
     "output_type": "execute_result"
    }
   ],
   "source": [
    "(382+86)/ (382+8+86+148)"
   ]
  },
  {
   "cell_type": "code",
   "execution_count": 106,
   "metadata": {},
   "outputs": [],
   "source": [
    "model1 = Sequential()\n",
    "model1.add(Conv2D(16, (3, 3), activation='relu', padding=\"same\", input_shape=(3,150,150)))\n",
    "model1.add(Conv2D(16, (3, 3), padding=\"same\", activation='relu'))\n",
    "model1.add(MaxPooling2D(pool_size=(2, 2)))\n",
    "\n",
    "model1.add(Conv2D(32, (3, 3), activation='relu', padding=\"same\", input_shape=(3,150,150)))\n",
    "model1.add(Conv2D(32, (3, 3), padding=\"same\", activation='relu'))\n",
    "model1.add(MaxPooling2D(pool_size=(2, 2)))\n",
    "\n",
    "model1.add(Conv2D(64, (3, 3), activation='relu', padding=\"same\"))\n",
    "model1.add(Conv2D(64, (3, 3), padding=\"same\", activation='relu'))\n",
    "model1.add(MaxPooling2D(pool_size=(2, 2)))\n",
    "\n",
    "model1.add(Conv2D(96, (3, 3), dilation_rate=(2, 2), activation='relu', padding=\"same\"))\n",
    "model1.add(Conv2D(96, (3, 3), padding=\"valid\", activation='relu'))\n",
    "# model1.add(MaxPooling2D(pool_size=(2, 2)))\n",
    "\n",
    "model1.add(Conv2D(128, (3, 3), dilation_rate=(2, 2), activation='relu', padding=\"same\"))\n",
    "model1.add(Conv2D(128, (3, 3), padding=\"valid\", activation='relu'))\n",
    "# model1.add(MaxPooling2D(pool_size=(2, 2)))\n",
    "\n",
    "model1.add(Conv2D(196, (3, 3), dilation_rate=(2, 2), activation='relu', padding=\"same\"))\n",
    "model1.add(Conv2D(196, (3, 3), padding=\"valid\", activation='relu'))\n",
    "model1.add(MaxPooling2D(pool_size=(2, 2)))\n",
    "\n",
    "model1.add(Conv2D(252, (3, 3), dilation_rate=(2, 2), activation='relu', padding=\"same\"))\n",
    "model1.add(Conv2D(252, (3, 3), padding=\"valid\", activation='relu'))\n",
    "model1.add(MaxPooling2D(pool_size=(2, 2)))\n",
    "\n",
    "model1.add(Flatten(name = 'Features_CNN'))\n",
    "\n",
    "model1.add(Dense(64, activation='relu', name = 'Features_MLP'))\n",
    "model1.add(Dropout(0.4))\n",
    "model1.add(Dense(2 , activation='sigmoid'))\n"
   ]
  },
  {
   "cell_type": "code",
   "execution_count": 107,
   "metadata": {},
   "outputs": [
    {
     "name": "stdout",
     "output_type": "stream",
     "text": [
      "Epoch 1/5\n",
      "5216/5216 [==============================] - ETA: 13:14 - loss: 0.6936 - acc: 0.34 - ETA: 14:52 - loss: 0.6908 - acc: 0.46 - ETA: 13:38 - loss: 0.6656 - acc: 0.53 - ETA: 13:11 - loss: 0.6398 - acc: 0.60 - ETA: 13:07 - loss: 0.7968 - acc: 0.58 - ETA: 12:40 - loss: 0.8775 - acc: 0.54 - ETA: 12:18 - loss: 0.8384 - acc: 0.52 - ETA: 12:01 - loss: 0.9164 - acc: 0.50 - ETA: 11:47 - loss: 0.9100 - acc: 0.52 - ETA: 11:34 - loss: 1.1141 - acc: 0.52 - ETA: 11:23 - loss: 1.1596 - acc: 0.49 - ETA: 11:14 - loss: 1.1189 - acc: 0.47 - ETA: 11:05 - loss: 1.1216 - acc: 0.45 - ETA: 10:58 - loss: 1.1536 - acc: 0.43 - ETA: 10:50 - loss: 1.1186 - acc: 0.43 - ETA: 10:43 - loss: 1.1496 - acc: 0.42 - ETA: 10:36 - loss: 1.1227 - acc: 0.41 - ETA: 10:30 - loss: 1.1232 - acc: 0.41 - ETA: 10:24 - loss: 1.1259 - acc: 0.39 - ETA: 10:18 - loss: 1.1032 - acc: 0.38 - ETA: 10:12 - loss: 1.0837 - acc: 0.38 - ETA: 10:08 - loss: 1.0879 - acc: 0.37 - ETA: 10:03 - loss: 1.0898 - acc: 0.36 - ETA: 9:57 - loss: 1.0714 - acc: 0.3607 - ETA: 9:52 - loss: 1.0546 - acc: 0.358 - ETA: 9:47 - loss: 1.0398 - acc: 0.354 - ETA: 9:41 - loss: 1.0449 - acc: 0.347 - ETA: 9:36 - loss: 1.0472 - acc: 0.346 - ETA: 9:31 - loss: 1.0501 - acc: 0.345 - ETA: 9:26 - loss: 1.0368 - acc: 0.344 - ETA: 9:22 - loss: 1.0568 - acc: 0.341 - ETA: 9:17 - loss: 1.0447 - acc: 0.337 - ETA: 9:12 - loss: 1.0919 - acc: 0.335 - ETA: 9:08 - loss: 1.0795 - acc: 0.333 - ETA: 9:03 - loss: 1.0678 - acc: 0.336 - ETA: 8:58 - loss: 1.0702 - acc: 0.334 - ETA: 8:54 - loss: 1.0725 - acc: 0.330 - ETA: 8:49 - loss: 1.0619 - acc: 0.326 - ETA: 8:44 - loss: 1.0525 - acc: 0.318 - ETA: 8:40 - loss: 1.0670 - acc: 0.313 - ETA: 8:35 - loss: 1.0691 - acc: 0.314 - ETA: 8:30 - loss: 1.0826 - acc: 0.311 - ETA: 8:26 - loss: 1.0848 - acc: 0.308 - ETA: 8:21 - loss: 1.0754 - acc: 0.305 - ETA: 8:17 - loss: 1.0664 - acc: 0.305 - ETA: 8:13 - loss: 1.0683 - acc: 0.305 - ETA: 8:08 - loss: 1.0692 - acc: 0.303 - ETA: 8:04 - loss: 1.0605 - acc: 0.306 - ETA: 7:59 - loss: 1.0525 - acc: 0.304 - ETA: 7:55 - loss: 1.0541 - acc: 0.302 - ETA: 7:50 - loss: 1.0565 - acc: 0.302 - ETA: 7:46 - loss: 1.0588 - acc: 0.298 - ETA: 7:42 - loss: 1.0606 - acc: 0.299 - ETA: 7:37 - loss: 1.0627 - acc: 0.296 - ETA: 7:33 - loss: 1.0643 - acc: 0.293 - ETA: 7:28 - loss: 1.0831 - acc: 0.293 - ETA: 7:24 - loss: 1.0928 - acc: 0.293 - ETA: 7:20 - loss: 1.0856 - acc: 0.292 - ETA: 7:15 - loss: 1.0778 - acc: 0.294 - ETA: 7:11 - loss: 1.0794 - acc: 0.296 - ETA: 7:07 - loss: 1.0731 - acc: 0.295 - ETA: 7:03 - loss: 1.0659 - acc: 0.296 - ETA: 6:59 - loss: 1.0670 - acc: 0.296 - ETA: 6:54 - loss: 1.0611 - acc: 0.295 - ETA: 6:50 - loss: 1.0696 - acc: 0.296 - ETA: 6:46 - loss: 1.0785 - acc: 0.297 - ETA: 6:42 - loss: 1.0718 - acc: 0.299 - ETA: 6:37 - loss: 1.0662 - acc: 0.298 - ETA: 6:33 - loss: 1.0605 - acc: 0.297 - ETA: 6:29 - loss: 1.0690 - acc: 0.296 - ETA: 6:24 - loss: 1.0770 - acc: 0.297 - ETA: 6:20 - loss: 1.0845 - acc: 0.296 - ETA: 6:16 - loss: 1.0854 - acc: 0.296 - ETA: 6:12 - loss: 1.0863 - acc: 0.297 - ETA: 6:07 - loss: 1.0808 - acc: 0.296 - ETA: 6:03 - loss: 1.0757 - acc: 0.295 - ETA: 5:59 - loss: 1.0764 - acc: 0.297 - ETA: 5:54 - loss: 1.0825 - acc: 0.298 - ETA: 5:50 - loss: 1.0895 - acc: 0.299 - ETA: 5:46 - loss: 1.0845 - acc: 0.300 - ETA: 5:43 - loss: 1.0794 - acc: 0.298 - ETA: 5:38 - loss: 1.0747 - acc: 0.297 - ETA: 5:34 - loss: 1.0876 - acc: 0.297 - ETA: 5:30 - loss: 1.0943 - acc: 0.297 - ETA: 5:26 - loss: 1.0950 - acc: 0.297 - ETA: 5:22 - loss: 1.0957 - acc: 0.296 - ETA: 5:18 - loss: 1.0908 - acc: 0.296 - ETA: 5:13 - loss: 1.0861 - acc: 0.297 - ETA: 5:09 - loss: 1.0920 - acc: 0.297 - ETA: 5:05 - loss: 1.0873 - acc: 0.297 - ETA: 5:01 - loss: 1.0825 - acc: 0.296 - ETA: 4:56 - loss: 1.0783 - acc: 0.296 - ETA: 4:52 - loss: 1.0742 - acc: 0.296 - ETA: 4:48 - loss: 1.0752 - acc: 0.295 - ETA: 4:44 - loss: 1.0763 - acc: 0.295 - ETA: 4:39 - loss: 1.0721 - acc: 0.294 - ETA: 4:35 - loss: 1.0682 - acc: 0.294 - ETA: 4:31 - loss: 1.0690 - acc: 0.294 - ETA: 4:27 - loss: 1.0745 - acc: 0.294 - ETA: 4:22 - loss: 1.0753 - acc: 0.294 - ETA: 4:18 - loss: 1.0763 - acc: 0.292 - ETA: 4:14 - loss: 1.0723 - acc: 0.292 - ETA: 4:10 - loss: 1.0729 - acc: 0.291 - ETA: 4:06 - loss: 1.0691 - acc: 0.292 - ETA: 4:01 - loss: 1.0745 - acc: 0.292 - ETA: 3:57 - loss: 1.0754 - acc: 0.291 - ETA: 3:53 - loss: 1.0808 - acc: 0.290 - ETA: 3:49 - loss: 1.0815 - acc: 0.291 - ETA: 3:45 - loss: 1.0866 - acc: 0.291 - ETA: 3:40 - loss: 1.0826 - acc: 0.293 - ETA: 3:36 - loss: 1.0787 - acc: 0.293 - ETA: 3:32 - loss: 1.0794 - acc: 0.293 - ETA: 3:28 - loss: 1.0801 - acc: 0.293 - ETA: 3:24 - loss: 1.0765 - acc: 0.293 - ETA: 3:19 - loss: 1.0731 - acc: 0.291 - ETA: 3:15 - loss: 1.0738 - acc: 0.291 - ETA: 3:11 - loss: 1.0745 - acc: 0.292 - ETA: 3:07 - loss: 1.0835 - acc: 0.292 - ETA: 3:03 - loss: 1.0880 - acc: 0.293 - ETA: 2:58 - loss: 1.0847 - acc: 0.291 - ETA: 2:54 - loss: 1.0853 - acc: 0.290 - ETA: 2:50 - loss: 1.0860 - acc: 0.289 - ETA: 2:46 - loss: 1.0866 - acc: 0.289 - ETA: 2:42 - loss: 1.0910 - acc: 0.289 - ETA: 2:38 - loss: 1.0994 - acc: 0.289 - ETA: 2:33 - loss: 1.1035 - acc: 0.289 - ETA: 2:29 - loss: 1.1076 - acc: 0.289 - ETA: 2:25 - loss: 1.1080 - acc: 0.289 - ETA: 2:21 - loss: 1.1123 - acc: 0.288 - ETA: 2:17 - loss: 1.1127 - acc: 0.288 - ETA: 2:13 - loss: 1.1095 - acc: 0.288 - ETA: 2:08 - loss: 1.1062 - acc: 0.289 - ETA: 2:04 - loss: 1.1102 - acc: 0.288 - ETA: 2:00 - loss: 1.1066 - acc: 0.289 - ETA: 1:56 - loss: 1.1068 - acc: 0.289 - ETA: 1:52 - loss: 1.1176 - acc: 0.289 - ETA: 1:48 - loss: 1.1143 - acc: 0.289 - ETA: 1:43 - loss: 1.1113 - acc: 0.288 - ETA: 1:39 - loss: 1.1116 - acc: 0.288 - ETA: 1:35 - loss: 1.1153 - acc: 0.287 - ETA: 1:31 - loss: 1.1122 - acc: 0.288 - ETA: 1:27 - loss: 1.1092 - acc: 0.288 - ETA: 1:23 - loss: 1.1062 - acc: 0.288 - ETA: 1:18 - loss: 1.1065 - acc: 0.287 - ETA: 1:14 - loss: 1.1068 - acc: 0.287 - ETA: 1:10 - loss: 1.1072 - acc: 0.286 - ETA: 1:06 - loss: 1.1075 - acc: 0.286 - ETA: 1:02 - loss: 1.1047 - acc: 0.285 - ETA: 58s - loss: 1.1019 - acc: 0.286 - ETA: 54s - loss: 1.1024 - acc: 0.28 - ETA: 49s - loss: 1.1027 - acc: 0.28 - ETA: 45s - loss: 1.1000 - acc: 0.28 - ETA: 41s - loss: 1.0972 - acc: 0.28 - ETA: 37s - loss: 1.0946 - acc: 0.28 - ETA: 33s - loss: 1.0920 - acc: 0.28 - ETA: 29s - loss: 1.0893 - acc: 0.28 - ETA: 24s - loss: 1.0929 - acc: 0.28 - ETA: 20s - loss: 1.0935 - acc: 0.28 - ETA: 16s - loss: 1.0908 - acc: 0.28 - ETA: 12s - loss: 1.0883 - acc: 0.28 - ETA: 8s - loss: 1.0889 - acc: 0.2863 - ETA: 4s - loss: 1.0863 - acc: 0.286 - 677s 130ms/step - loss: 1.0839 - acc: 0.2857\n",
      "Epoch 2/5\n",
      "5216/5216 [==============================] - ETA: 10:51 - loss: 0.6931 - acc: 0.18 - ETA: 10:47 - loss: 0.6823 - acc: 0.12 - ETA: 10:41 - loss: 0.8394 - acc: 0.14 - ETA: 10:38 - loss: 0.9179 - acc: 0.17 - ETA: 10:34 - loss: 0.9650 - acc: 0.18 - ETA: 10:29 - loss: 0.9161 - acc: 0.21 - ETA: 10:26 - loss: 0.9500 - acc: 0.23 - ETA: 10:22 - loss: 0.9782 - acc: 0.24 - ETA: 10:18 - loss: 1.0001 - acc: 0.24 - ETA: 10:14 - loss: 1.0154 - acc: 0.25 - ETA: 10:10 - loss: 1.0299 - acc: 0.24 - ETA: 10:05 - loss: 1.0420 - acc: 0.24 - ETA: 10:01 - loss: 1.1264 - acc: 0.24 - ETA: 9:57 - loss: 1.0924 - acc: 0.2478 - ETA: 9:53 - loss: 1.0979 - acc: 0.245 - ETA: 9:49 - loss: 1.0726 - acc: 0.250 - ETA: 9:45 - loss: 1.1341 - acc: 0.255 - ETA: 9:41 - loss: 1.1084 - acc: 0.253 - ETA: 9:37 - loss: 1.0865 - acc: 0.254 - ETA: 9:34 - loss: 1.0647 - acc: 0.267 - ETA: 9:29 - loss: 1.0460 - acc: 0.263 - ETA: 9:26 - loss: 1.0509 - acc: 0.265 - ETA: 9:22 - loss: 1.0763 - acc: 0.263 - ETA: 9:17 - loss: 1.0777 - acc: 0.259 - ETA: 9:13 - loss: 1.0623 - acc: 0.258 - ETA: 9:10 - loss: 1.0473 - acc: 0.259 - ETA: 9:06 - loss: 1.0496 - acc: 0.263 - ETA: 9:02 - loss: 1.0361 - acc: 0.261 - ETA: 8:58 - loss: 1.0568 - acc: 0.259 - ETA: 8:54 - loss: 1.0607 - acc: 0.262 - ETA: 8:50 - loss: 1.0489 - acc: 0.264 - ETA: 8:46 - loss: 1.0371 - acc: 0.262 - ETA: 8:42 - loss: 1.0406 - acc: 0.263 - ETA: 8:38 - loss: 1.0297 - acc: 0.264 - ETA: 8:33 - loss: 1.0201 - acc: 0.267 - ETA: 8:29 - loss: 1.0512 - acc: 0.269 - ETA: 8:25 - loss: 1.0415 - acc: 0.272 - ETA: 8:21 - loss: 1.0445 - acc: 0.273 - ETA: 8:17 - loss: 1.0467 - acc: 0.274 - ETA: 8:13 - loss: 1.0373 - acc: 0.276 - ETA: 8:10 - loss: 1.0284 - acc: 0.272 - ETA: 8:07 - loss: 1.0319 - acc: 0.273 - ETA: 8:03 - loss: 1.0347 - acc: 0.276 - ETA: 7:59 - loss: 1.0379 - acc: 0.278 - ETA: 7:56 - loss: 1.0298 - acc: 0.280 - ETA: 7:52 - loss: 1.0325 - acc: 0.282 - ETA: 7:47 - loss: 1.0355 - acc: 0.281 - ETA: 7:43 - loss: 1.0581 - acc: 0.283 - ETA: 7:39 - loss: 1.0497 - acc: 0.283 - ETA: 7:35 - loss: 1.0518 - acc: 0.281 - ETA: 7:31 - loss: 1.0443 - acc: 0.281 - ETA: 7:27 - loss: 1.0372 - acc: 0.279 - ETA: 7:23 - loss: 1.0398 - acc: 0.278 - ETA: 7:19 - loss: 1.0415 - acc: 0.277 - ETA: 7:15 - loss: 1.0435 - acc: 0.278 - ETA: 7:11 - loss: 1.0361 - acc: 0.278 - ETA: 7:07 - loss: 1.0466 - acc: 0.279 - ETA: 7:03 - loss: 1.0488 - acc: 0.278 - ETA: 6:59 - loss: 1.0428 - acc: 0.279 - ETA: 6:55 - loss: 1.0443 - acc: 0.279 - ETA: 6:51 - loss: 1.0543 - acc: 0.278 - ETA: 6:47 - loss: 1.0634 - acc: 0.278 - ETA: 6:43 - loss: 1.0575 - acc: 0.280 - ETA: 6:39 - loss: 1.0593 - acc: 0.279 - ETA: 6:35 - loss: 1.0608 - acc: 0.278 - ETA: 6:31 - loss: 1.0549 - acc: 0.277 - ETA: 6:27 - loss: 1.0635 - acc: 0.275 - ETA: 6:23 - loss: 1.0652 - acc: 0.276 - ETA: 6:19 - loss: 1.0598 - acc: 0.276 - ETA: 6:14 - loss: 1.0680 - acc: 0.276 - ETA: 6:10 - loss: 1.0757 - acc: 0.276 - ETA: 6:06 - loss: 1.0704 - acc: 0.276 - ETA: 6:02 - loss: 1.0715 - acc: 0.275 - ETA: 5:58 - loss: 1.0661 - acc: 0.276 - ETA: 5:54 - loss: 1.0866 - acc: 0.274 - ETA: 5:50 - loss: 1.0941 - acc: 0.273 - ETA: 5:46 - loss: 1.0949 - acc: 0.273 - ETA: 5:42 - loss: 1.0956 - acc: 0.273 - ETA: 5:38 - loss: 1.1024 - acc: 0.272 - ETA: 5:34 - loss: 1.1033 - acc: 0.271 - ETA: 5:30 - loss: 1.1040 - acc: 0.271 - ETA: 5:26 - loss: 1.1046 - acc: 0.269 - ETA: 5:22 - loss: 1.1052 - acc: 0.269 - ETA: 5:18 - loss: 1.1112 - acc: 0.269 - ETA: 5:14 - loss: 1.1233 - acc: 0.270 - ETA: 5:10 - loss: 1.1237 - acc: 0.270 - ETA: 5:06 - loss: 1.1298 - acc: 0.269 - ETA: 5:02 - loss: 1.1246 - acc: 0.269 - ETA: 4:58 - loss: 1.1414 - acc: 0.270 - ETA: 4:54 - loss: 1.1415 - acc: 0.269 - ETA: 4:50 - loss: 1.1361 - acc: 0.270 - ETA: 4:46 - loss: 1.1361 - acc: 0.270 - ETA: 4:42 - loss: 1.1415 - acc: 0.270 - ETA: 4:38 - loss: 1.1367 - acc: 0.269 - ETA: 4:34 - loss: 1.1316 - acc: 0.270 - ETA: 4:30 - loss: 1.1263 - acc: 0.272 - ETA: 4:26 - loss: 1.1219 - acc: 0.271 - ETA: 4:22 - loss: 1.1173 - acc: 0.272 - ETA: 4:18 - loss: 1.1227 - acc: 0.271 - ETA: 4:14 - loss: 1.1184 - acc: 0.271 - ETA: 4:09 - loss: 1.1238 - acc: 0.270 - ETA: 4:05 - loss: 1.1238 - acc: 0.270 - ETA: 4:01 - loss: 1.1194 - acc: 0.271 - ETA: 3:57 - loss: 1.1151 - acc: 0.270 - ETA: 3:53 - loss: 1.1203 - acc: 0.269 - ETA: 3:49 - loss: 1.1163 - acc: 0.270 - ETA: 3:45 - loss: 1.1119 - acc: 0.270 - ETA: 3:41 - loss: 1.1078 - acc: 0.271 - ETA: 3:37 - loss: 1.1171 - acc: 0.270 - ETA: 3:33 - loss: 1.1218 - acc: 0.271 - ETA: 3:29 - loss: 1.1177 - acc: 0.270 - ETA: 3:25 - loss: 1.1138 - acc: 0.271 - ETA: 3:21 - loss: 1.1099 - acc: 0.272 - ETA: 3:17 - loss: 1.1102 - acc: 0.273 - ETA: 3:13 - loss: 1.1108 - acc: 0.273 - ETA: 3:09 - loss: 1.1195 - acc: 0.272 - ETA: 3:05 - loss: 1.1282 - acc: 0.271 - ETA: 3:01 - loss: 1.1284 - acc: 0.272 - ETA: 2:57 - loss: 1.1327 - acc: 0.271 - ETA: 2:53 - loss: 1.1369 - acc: 0.270 - ETA: 2:49 - loss: 1.1332 - acc: 0.270 - ETA: 2:45 - loss: 1.1413 - acc: 0.270 - ETA: 2:41 - loss: 1.1453 - acc: 0.270 - ETA: 2:37 - loss: 1.1416 - acc: 0.271 - ETA: 2:33 - loss: 1.1419 - acc: 0.271 - ETA: 2:29 - loss: 1.1382 - acc: 0.273 - ETA: 2:25 - loss: 1.1383 - acc: 0.272 - ETA: 2:21 - loss: 1.1346 - acc: 0.272 - ETA: 2:17 - loss: 1.1350 - acc: 0.271 - ETA: 2:13 - loss: 1.1353 - acc: 0.270 - ETA: 2:09 - loss: 1.1356 - acc: 0.271 - ETA: 2:05 - loss: 1.1322 - acc: 0.270 - ETA: 2:00 - loss: 1.1286 - acc: 0.270 - ETA: 1:56 - loss: 1.1253 - acc: 0.269 - ETA: 1:52 - loss: 1.1221 - acc: 0.269 - ETA: 1:48 - loss: 1.1190 - acc: 0.268 - ETA: 1:44 - loss: 1.1157 - acc: 0.268 - ETA: 1:40 - loss: 1.1160 - acc: 0.268 - ETA: 1:36 - loss: 1.1160 - acc: 0.268 - ETA: 1:32 - loss: 1.1164 - acc: 0.268 - ETA: 1:28 - loss: 1.1131 - acc: 0.268 - ETA: 1:24 - loss: 1.1169 - acc: 0.268 - ETA: 1:20 - loss: 1.1274 - acc: 0.268 - ETA: 1:16 - loss: 1.1276 - acc: 0.267 - ETA: 1:12 - loss: 1.1245 - acc: 0.267 - ETA: 1:08 - loss: 1.1215 - acc: 0.267 - ETA: 1:04 - loss: 1.1251 - acc: 0.267 - ETA: 1:00 - loss: 1.1286 - acc: 0.267 - ETA: 56s - loss: 1.1288 - acc: 0.267 - ETA: 52s - loss: 1.1354 - acc: 0.26 - ETA: 48s - loss: 1.1321 - acc: 0.26 - ETA: 44s - loss: 1.1356 - acc: 0.26 - ETA: 40s - loss: 1.1387 - acc: 0.26 - ETA: 36s - loss: 1.1358 - acc: 0.26 - ETA: 32s - loss: 1.1327 - acc: 0.26 - ETA: 28s - loss: 1.1390 - acc: 0.26 - ETA: 24s - loss: 1.1360 - acc: 0.26 - ETA: 20s - loss: 1.1424 - acc: 0.26 - ETA: 16s - loss: 1.1395 - acc: 0.26 - ETA: 12s - loss: 1.1398 - acc: 0.26 - ETA: 8s - loss: 1.1400 - acc: 0.2682 - ETA: 4s - loss: 1.1431 - acc: 0.268 - 658s 126ms/step - loss: 1.1461 - acc: 0.2684\n",
      "Epoch 3/5\n"
     ]
    },
    {
     "name": "stdout",
     "output_type": "stream",
     "text": [
      "5216/5216 [==============================] - ETA: 12:41 - loss: 1.1102 - acc: 0.21 - ETA: 12:25 - loss: 1.1427 - acc: 0.29 - ETA: 12:09 - loss: 1.4604 - acc: 0.30 - ETA: 11:52 - loss: 1.5042 - acc: 0.28 - ETA: 11:47 - loss: 1.4384 - acc: 0.27 - ETA: 11:36 - loss: 1.3106 - acc: 0.29 - ETA: 11:23 - loss: 1.2912 - acc: 0.28 - ETA: 11:12 - loss: 1.2767 - acc: 0.28 - ETA: 11:02 - loss: 1.2119 - acc: 0.27 - ETA: 10:54 - loss: 1.2521 - acc: 0.27 - ETA: 10:47 - loss: 1.1973 - acc: 0.27 - ETA: 10:40 - loss: 1.1553 - acc: 0.27 - ETA: 10:33 - loss: 1.1552 - acc: 0.26 - ETA: 10:27 - loss: 1.1206 - acc: 0.26 - ETA: 10:21 - loss: 1.1214 - acc: 0.26 - ETA: 10:15 - loss: 1.1220 - acc: 0.26 - ETA: 10:10 - loss: 1.1535 - acc: 0.26 - ETA: 10:05 - loss: 1.1803 - acc: 0.26 - ETA: 9:59 - loss: 1.1547 - acc: 0.2615 - ETA: 9:54 - loss: 1.2028 - acc: 0.260 - ETA: 9:49 - loss: 1.2244 - acc: 0.261 - ETA: 9:44 - loss: 1.2222 - acc: 0.257 - ETA: 9:40 - loss: 1.1983 - acc: 0.256 - ETA: 9:35 - loss: 1.1772 - acc: 0.253 - ETA: 9:30 - loss: 1.1578 - acc: 0.250 - ETA: 9:25 - loss: 1.1400 - acc: 0.258 - ETA: 9:21 - loss: 1.1218 - acc: 0.261 - ETA: 9:16 - loss: 1.1214 - acc: 0.265 - ETA: 9:12 - loss: 1.1399 - acc: 0.265 - ETA: 9:08 - loss: 1.1243 - acc: 0.259 - ETA: 9:04 - loss: 1.1097 - acc: 0.260 - ETA: 9:00 - loss: 1.1117 - acc: 0.255 - ETA: 8:56 - loss: 1.1136 - acc: 0.253 - ETA: 8:51 - loss: 1.1148 - acc: 0.252 - ETA: 8:47 - loss: 1.1159 - acc: 0.253 - ETA: 8:43 - loss: 1.1030 - acc: 0.253 - ETA: 8:38 - loss: 1.0919 - acc: 0.250 - ETA: 8:34 - loss: 1.1062 - acc: 0.249 - ETA: 8:29 - loss: 1.1439 - acc: 0.250 - ETA: 8:25 - loss: 1.1447 - acc: 0.248 - ETA: 8:21 - loss: 1.1449 - acc: 0.249 - ETA: 8:17 - loss: 1.1566 - acc: 0.249 - ETA: 8:12 - loss: 1.1907 - acc: 0.249 - ETA: 8:08 - loss: 1.1888 - acc: 0.250 - ETA: 8:04 - loss: 1.1778 - acc: 0.249 - ETA: 8:00 - loss: 1.1673 - acc: 0.252 - ETA: 7:55 - loss: 1.1773 - acc: 0.252 - ETA: 7:51 - loss: 1.1768 - acc: 0.253 - ETA: 7:47 - loss: 1.1763 - acc: 0.253 - ETA: 7:42 - loss: 1.1758 - acc: 0.253 - ETA: 7:38 - loss: 1.1664 - acc: 0.254 - ETA: 7:34 - loss: 1.1568 - acc: 0.254 - ETA: 7:30 - loss: 1.1560 - acc: 0.258 - ETA: 7:25 - loss: 1.1551 - acc: 0.259 - ETA: 7:21 - loss: 1.1818 - acc: 0.258 - ETA: 7:17 - loss: 1.1723 - acc: 0.258 - ETA: 7:13 - loss: 1.1719 - acc: 0.256 - ETA: 7:09 - loss: 1.1792 - acc: 0.256 - ETA: 7:04 - loss: 1.1869 - acc: 0.256 - ETA: 7:00 - loss: 1.1860 - acc: 0.258 - ETA: 6:56 - loss: 1.1772 - acc: 0.259 - ETA: 6:52 - loss: 1.1694 - acc: 0.260 - ETA: 6:48 - loss: 1.1765 - acc: 0.258 - ETA: 6:43 - loss: 1.1840 - acc: 0.257 - ETA: 6:39 - loss: 1.2058 - acc: 0.257 - ETA: 6:35 - loss: 1.2199 - acc: 0.258 - ETA: 6:31 - loss: 1.2264 - acc: 0.257 - ETA: 6:27 - loss: 1.2186 - acc: 0.258 - ETA: 6:23 - loss: 1.2180 - acc: 0.256 - ETA: 6:19 - loss: 1.2170 - acc: 0.258 - ETA: 6:15 - loss: 1.2164 - acc: 0.257 - ETA: 6:10 - loss: 1.2156 - acc: 0.257 - ETA: 6:06 - loss: 1.2150 - acc: 0.256 - ETA: 6:02 - loss: 1.2077 - acc: 0.258 - ETA: 5:58 - loss: 1.2005 - acc: 0.258 - ETA: 5:54 - loss: 1.1936 - acc: 0.260 - ETA: 5:50 - loss: 1.1933 - acc: 0.259 - ETA: 5:46 - loss: 1.1864 - acc: 0.259 - ETA: 5:42 - loss: 1.1862 - acc: 0.261 - ETA: 5:37 - loss: 1.1981 - acc: 0.260 - ETA: 5:33 - loss: 1.1914 - acc: 0.259 - ETA: 5:29 - loss: 1.1853 - acc: 0.259 - ETA: 5:25 - loss: 1.1791 - acc: 0.259 - ETA: 5:21 - loss: 1.1728 - acc: 0.261 - ETA: 5:17 - loss: 1.1728 - acc: 0.259 - ETA: 5:13 - loss: 1.1726 - acc: 0.260 - ETA: 5:09 - loss: 1.1726 - acc: 0.261 - ETA: 5:05 - loss: 1.1727 - acc: 0.261 - ETA: 5:01 - loss: 1.1673 - acc: 0.260 - ETA: 4:56 - loss: 1.1669 - acc: 0.261 - ETA: 4:52 - loss: 1.1667 - acc: 0.260 - ETA: 4:48 - loss: 1.1616 - acc: 0.260 - ETA: 4:44 - loss: 1.1608 - acc: 0.262 - ETA: 4:40 - loss: 1.1609 - acc: 0.261 - ETA: 4:36 - loss: 1.1655 - acc: 0.262 - ETA: 4:32 - loss: 1.1656 - acc: 0.263 - ETA: 4:28 - loss: 1.1657 - acc: 0.263 - ETA: 4:24 - loss: 1.1606 - acc: 0.263 - ETA: 4:20 - loss: 1.1557 - acc: 0.263 - ETA: 4:16 - loss: 1.1559 - acc: 0.263 - ETA: 4:11 - loss: 1.1656 - acc: 0.263 - ETA: 4:07 - loss: 1.1752 - acc: 0.263 - ETA: 4:03 - loss: 1.1703 - acc: 0.263 - ETA: 3:59 - loss: 1.1655 - acc: 0.262 - ETA: 3:55 - loss: 1.1606 - acc: 0.264 - ETA: 3:51 - loss: 1.1653 - acc: 0.265 - ETA: 3:47 - loss: 1.1654 - acc: 0.264 - ETA: 3:43 - loss: 1.1697 - acc: 0.264 - ETA: 3:39 - loss: 1.1653 - acc: 0.264 - ETA: 3:35 - loss: 1.1610 - acc: 0.264 - ETA: 3:31 - loss: 1.1568 - acc: 0.264 - ETA: 3:27 - loss: 1.1699 - acc: 0.263 - ETA: 3:23 - loss: 1.1698 - acc: 0.263 - ETA: 3:19 - loss: 1.1696 - acc: 0.263 - ETA: 3:15 - loss: 1.1655 - acc: 0.262 - ETA: 3:11 - loss: 1.1695 - acc: 0.263 - ETA: 3:06 - loss: 1.1774 - acc: 0.265 - ETA: 3:02 - loss: 1.1774 - acc: 0.264 - ETA: 2:58 - loss: 1.1732 - acc: 0.265 - ETA: 2:54 - loss: 1.1692 - acc: 0.264 - ETA: 2:50 - loss: 1.1730 - acc: 0.265 - ETA: 2:46 - loss: 1.1691 - acc: 0.265 - ETA: 2:42 - loss: 1.1691 - acc: 0.265 - ETA: 2:38 - loss: 1.1651 - acc: 0.266 - ETA: 2:34 - loss: 1.1689 - acc: 0.266 - ETA: 2:30 - loss: 1.1651 - acc: 0.267 - ETA: 2:26 - loss: 1.1688 - acc: 0.267 - ETA: 2:22 - loss: 1.1651 - acc: 0.267 - ETA: 2:18 - loss: 1.1611 - acc: 0.268 - ETA: 2:14 - loss: 1.1649 - acc: 0.267 - ETA: 2:10 - loss: 1.1648 - acc: 0.267 - ETA: 2:05 - loss: 1.1684 - acc: 0.266 - ETA: 2:01 - loss: 1.1647 - acc: 0.267 - ETA: 1:57 - loss: 1.1648 - acc: 0.266 - ETA: 1:53 - loss: 1.1647 - acc: 0.267 - ETA: 1:49 - loss: 1.1610 - acc: 0.266 - ETA: 1:45 - loss: 1.1610 - acc: 0.266 - ETA: 1:41 - loss: 1.1608 - acc: 0.267 - ETA: 1:37 - loss: 1.1571 - acc: 0.268 - ETA: 1:33 - loss: 1.1536 - acc: 0.269 - ETA: 1:29 - loss: 1.1572 - acc: 0.267 - ETA: 1:25 - loss: 1.1573 - acc: 0.267 - ETA: 1:21 - loss: 1.1575 - acc: 0.267 - ETA: 1:17 - loss: 1.1541 - acc: 0.267 - ETA: 1:13 - loss: 1.1575 - acc: 0.268 - ETA: 1:09 - loss: 1.1544 - acc: 0.268 - ETA: 1:05 - loss: 1.1542 - acc: 0.268 - ETA: 1:00 - loss: 1.1575 - acc: 0.268 - ETA: 56s - loss: 1.1542 - acc: 0.268 - ETA: 52s - loss: 1.1510 - acc: 0.26 - ETA: 48s - loss: 1.1542 - acc: 0.26 - ETA: 44s - loss: 1.1509 - acc: 0.26 - ETA: 40s - loss: 1.1573 - acc: 0.26 - ETA: 36s - loss: 1.1575 - acc: 0.26 - ETA: 32s - loss: 1.1576 - acc: 0.26 - ETA: 28s - loss: 1.1546 - acc: 0.26 - ETA: 24s - loss: 1.1515 - acc: 0.26 - ETA: 20s - loss: 1.1515 - acc: 0.26 - ETA: 16s - loss: 1.1515 - acc: 0.26 - ETA: 12s - loss: 1.1484 - acc: 0.26 - ETA: 8s - loss: 1.1456 - acc: 0.2694 - ETA: 4s - loss: 1.1456 - acc: 0.269 - 662s 127ms/step - loss: 1.1428 - acc: 0.2697\n",
      "Epoch 4/5\n",
      "5216/5216 [==============================] - ETA: 10:56 - loss: 2.1392 - acc: 0.18 - ETA: 10:51 - loss: 1.3837 - acc: 0.25 - ETA: 10:46 - loss: 1.1463 - acc: 0.28 - ETA: 10:42 - loss: 1.1535 - acc: 0.26 - ETA: 10:39 - loss: 1.1449 - acc: 0.26 - ETA: 10:35 - loss: 1.0660 - acc: 0.28 - ETA: 10:31 - loss: 1.1504 - acc: 0.28 - ETA: 10:27 - loss: 1.2138 - acc: 0.29 - ETA: 10:22 - loss: 1.2095 - acc: 0.29 - ETA: 10:18 - loss: 1.2521 - acc: 0.29 - ETA: 10:15 - loss: 1.2451 - acc: 0.30 - ETA: 10:11 - loss: 1.1973 - acc: 0.30 - ETA: 10:07 - loss: 1.2327 - acc: 0.29 - ETA: 10:04 - loss: 1.1926 - acc: 0.29 - ETA: 10:01 - loss: 1.1578 - acc: 0.28 - ETA: 9:58 - loss: 1.1877 - acc: 0.2930 - ETA: 9:53 - loss: 1.1573 - acc: 0.297 - ETA: 9:49 - loss: 1.1303 - acc: 0.288 - ETA: 9:45 - loss: 1.1051 - acc: 0.286 - ETA: 9:41 - loss: 1.0845 - acc: 0.282 - ETA: 9:36 - loss: 1.0888 - acc: 0.285 - ETA: 9:32 - loss: 1.0927 - acc: 0.286 - ETA: 9:28 - loss: 1.0944 - acc: 0.290 - ETA: 9:24 - loss: 1.0969 - acc: 0.287 - ETA: 9:20 - loss: 1.1176 - acc: 0.290 - ETA: 9:16 - loss: 1.1004 - acc: 0.288 - ETA: 9:12 - loss: 1.1024 - acc: 0.290 - ETA: 9:08 - loss: 1.1050 - acc: 0.289 - ETA: 9:04 - loss: 1.1399 - acc: 0.293 - ETA: 9:00 - loss: 1.1250 - acc: 0.290 - ETA: 8:55 - loss: 1.1104 - acc: 0.292 - ETA: 8:51 - loss: 1.0966 - acc: 0.297 - ETA: 8:47 - loss: 1.0831 - acc: 0.297 - ETA: 8:43 - loss: 1.0716 - acc: 0.297 - ETA: 8:39 - loss: 1.0608 - acc: 0.296 - ETA: 8:35 - loss: 1.0494 - acc: 0.294 - ETA: 8:31 - loss: 1.0528 - acc: 0.290 - ETA: 8:26 - loss: 1.0555 - acc: 0.291 - ETA: 8:22 - loss: 1.0709 - acc: 0.290 - ETA: 8:18 - loss: 1.0614 - acc: 0.293 - ETA: 8:14 - loss: 1.0637 - acc: 0.294 - ETA: 8:10 - loss: 1.0653 - acc: 0.291 - ETA: 8:06 - loss: 1.0562 - acc: 0.290 - ETA: 8:02 - loss: 1.0808 - acc: 0.289 - ETA: 7:58 - loss: 1.0926 - acc: 0.290 - ETA: 7:54 - loss: 1.1039 - acc: 0.289 - ETA: 7:50 - loss: 1.1045 - acc: 0.289 - ETA: 7:46 - loss: 1.1056 - acc: 0.287 - ETA: 7:42 - loss: 1.1065 - acc: 0.285 - ETA: 7:38 - loss: 1.1167 - acc: 0.285 - ETA: 7:34 - loss: 1.1080 - acc: 0.283 - ETA: 7:30 - loss: 1.1000 - acc: 0.281 - ETA: 7:25 - loss: 1.0923 - acc: 0.280 - ETA: 7:21 - loss: 1.0849 - acc: 0.281 - ETA: 7:17 - loss: 1.1037 - acc: 0.280 - ETA: 7:13 - loss: 1.0956 - acc: 0.280 - ETA: 7:10 - loss: 1.0962 - acc: 0.281 - ETA: 7:07 - loss: 1.0972 - acc: 0.280 - ETA: 7:04 - loss: 1.0904 - acc: 0.278 - ETA: 7:01 - loss: 1.0834 - acc: 0.277 - ETA: 6:58 - loss: 1.0849 - acc: 0.275 - ETA: 6:55 - loss: 1.0782 - acc: 0.273 - ETA: 6:50 - loss: 1.0794 - acc: 0.274 - ETA: 6:46 - loss: 1.0884 - acc: 0.272 - ETA: 6:42 - loss: 1.0898 - acc: 0.273 - ETA: 6:38 - loss: 1.0907 - acc: 0.270 - ETA: 6:33 - loss: 1.0848 - acc: 0.269 - ETA: 6:29 - loss: 1.0858 - acc: 0.268 - ETA: 6:25 - loss: 1.0868 - acc: 0.269 - ETA: 6:21 - loss: 1.0812 - acc: 0.269 - ETA: 6:16 - loss: 1.0757 - acc: 0.267 - ETA: 6:12 - loss: 1.0771 - acc: 0.266 - ETA: 6:08 - loss: 1.0715 - acc: 0.267 - ETA: 6:04 - loss: 1.0729 - acc: 0.266 - ETA: 6:00 - loss: 1.0734 - acc: 0.266 - ETA: 5:56 - loss: 1.0681 - acc: 0.266 - ETA: 5:52 - loss: 1.0630 - acc: 0.268 - ETA: 5:48 - loss: 1.0706 - acc: 0.268 - ETA: 5:44 - loss: 1.0711 - acc: 0.267 - ETA: 5:40 - loss: 1.0784 - acc: 0.267 - ETA: 5:35 - loss: 1.0796 - acc: 0.265 - ETA: 5:31 - loss: 1.0749 - acc: 0.264 - ETA: 5:27 - loss: 1.0877 - acc: 0.263 - ETA: 5:23 - loss: 1.1000 - acc: 0.263 - ETA: 5:19 - loss: 1.0947 - acc: 0.264 - ETA: 5:15 - loss: 1.0954 - acc: 0.264 - ETA: 5:11 - loss: 1.0963 - acc: 0.264 - ETA: 5:07 - loss: 1.1022 - acc: 0.263 - ETA: 5:03 - loss: 1.0973 - acc: 0.263 - ETA: 4:59 - loss: 1.0982 - acc: 0.261 - ETA: 4:55 - loss: 1.1044 - acc: 0.260 - ETA: 4:51 - loss: 1.1049 - acc: 0.260 - ETA: 4:47 - loss: 1.1106 - acc: 0.261 - ETA: 4:43 - loss: 1.1111 - acc: 0.260 - ETA: 4:39 - loss: 1.1168 - acc: 0.259 - ETA: 4:36 - loss: 1.1124 - acc: 0.259 - ETA: 4:31 - loss: 1.1128 - acc: 0.258 - ETA: 4:27 - loss: 1.1083 - acc: 0.259 - ETA: 4:23 - loss: 1.1090 - acc: 0.259 - ETA: 4:19 - loss: 1.1046 - acc: 0.259 - ETA: 4:15 - loss: 1.1053 - acc: 0.259 - ETA: 4:11 - loss: 1.1107 - acc: 0.259 - ETA: 4:07 - loss: 1.1111 - acc: 0.259 - ETA: 4:02 - loss: 1.1071 - acc: 0.259 - ETA: 3:58 - loss: 1.1121 - acc: 0.259 - ETA: 3:54 - loss: 1.1080 - acc: 0.260 - ETA: 3:50 - loss: 1.1041 - acc: 0.261 - ETA: 3:46 - loss: 1.1137 - acc: 0.260 - ETA: 3:43 - loss: 1.1187 - acc: 0.262 - ETA: 3:39 - loss: 1.1236 - acc: 0.261 - ETA: 3:35 - loss: 1.1237 - acc: 0.262 - ETA: 3:31 - loss: 1.1239 - acc: 0.262 - ETA: 3:27 - loss: 1.1284 - acc: 0.262 - ETA: 3:23 - loss: 1.1242 - acc: 0.263 - ETA: 3:19 - loss: 1.1205 - acc: 0.264 - ETA: 3:15 - loss: 1.1208 - acc: 0.264 - ETA: 3:11 - loss: 1.1211 - acc: 0.263 - ETA: 3:07 - loss: 1.1215 - acc: 0.263 - ETA: 3:02 - loss: 1.1177 - acc: 0.264 - ETA: 2:58 - loss: 1.1140 - acc: 0.264 - ETA: 2:54 - loss: 1.1142 - acc: 0.263 - ETA: 2:50 - loss: 1.1107 - acc: 0.263 - ETA: 2:46 - loss: 1.1111 - acc: 0.264 - ETA: 2:42 - loss: 1.1075 - acc: 0.263 - ETA: 2:37 - loss: 1.1037 - acc: 0.264 - ETA: 2:33 - loss: 1.1043 - acc: 0.263 - ETA: 2:29 - loss: 1.1048 - acc: 0.263 - ETA: 2:25 - loss: 1.1129 - acc: 0.262 - ETA: 2:21 - loss: 1.1130 - acc: 0.263 - ETA: 2:17 - loss: 1.1135 - acc: 0.263 - ETA: 2:13 - loss: 1.1213 - acc: 0.263 - ETA: 2:09 - loss: 1.1252 - acc: 0.264 - ETA: 2:05 - loss: 1.1256 - acc: 0.263 - ETA: 2:01 - loss: 1.1222 - acc: 0.262 - ETA: 1:57 - loss: 1.1262 - acc: 0.262 - ETA: 1:53 - loss: 1.1230 - acc: 0.262 - ETA: 1:49 - loss: 1.1232 - acc: 0.263 - ETA: 1:45 - loss: 1.1235 - acc: 0.263 - ETA: 1:41 - loss: 1.1238 - acc: 0.263 - ETA: 1:37 - loss: 1.1276 - acc: 0.263 - ETA: 1:33 - loss: 1.1246 - acc: 0.264 - ETA: 1:28 - loss: 1.1215 - acc: 0.264 - ETA: 1:24 - loss: 1.1185 - acc: 0.264 - ETA: 1:20 - loss: 1.1156 - acc: 0.264 - ETA: 1:16 - loss: 1.1124 - acc: 0.264 - ETA: 1:12 - loss: 1.1093 - acc: 0.264 - ETA: 1:08 - loss: 1.1128 - acc: 0.265 - ETA: 1:04 - loss: 1.1164 - acc: 0.264 - ETA: 59s - loss: 1.1199 - acc: 0.264 - ETA: 55s - loss: 1.1202 - acc: 0.26 - ETA: 51s - loss: 1.1170 - acc: 0.26 - ETA: 47s - loss: 1.1141 - acc: 0.26 - ETA: 42s - loss: 1.1114 - acc: 0.26 - ETA: 38s - loss: 1.1086 - acc: 0.26 - ETA: 34s - loss: 1.1091 - acc: 0.26 - ETA: 30s - loss: 1.1126 - acc: 0.26 - ETA: 25s - loss: 1.1098 - acc: 0.26 - ETA: 21s - loss: 1.1070 - acc: 0.26 - ETA: 17s - loss: 1.1074 - acc: 0.26 - ETA: 12s - loss: 1.1079 - acc: 0.26 - ETA: 8s - loss: 1.1081 - acc: 0.2673 - ETA: 4s - loss: 1.1205 - acc: 0.267 - 702s 135ms/step - loss: 1.1267 - acc: 0.2678\n",
      "Epoch 5/5\n"
     ]
    },
    {
     "name": "stdout",
     "output_type": "stream",
     "text": [
      "5216/5216 [==============================] - ETA: 12:15 - loss: 1.1752 - acc: 0.15 - ETA: 12:11 - loss: 1.1535 - acc: 0.31 - ETA: 12:21 - loss: 1.0001 - acc: 0.28 - ETA: 12:02 - loss: 0.9233 - acc: 0.28 - ETA: 11:40 - loss: 0.8686 - acc: 0.28 - ETA: 11:23 - loss: 0.8394 - acc: 0.29 - ETA: 11:10 - loss: 0.8843 - acc: 0.29 - ETA: 11:00 - loss: 0.9809 - acc: 0.29 - ETA: 10:50 - loss: 0.9977 - acc: 0.29 - ETA: 10:46 - loss: 1.0636 - acc: 0.31 - ETA: 10:40 - loss: 1.0718 - acc: 0.30 - ETA: 10:34 - loss: 1.0786 - acc: 0.30 - ETA: 10:29 - loss: 1.0860 - acc: 0.30 - ETA: 10:22 - loss: 1.0580 - acc: 0.30 - ETA: 10:16 - loss: 1.0658 - acc: 0.30 - ETA: 10:09 - loss: 1.0411 - acc: 0.29 - ETA: 10:04 - loss: 1.0774 - acc: 0.29 - ETA: 9:58 - loss: 1.1084 - acc: 0.2917 - ETA: 9:53 - loss: 1.0865 - acc: 0.282 - ETA: 9:48 - loss: 1.0910 - acc: 0.285 - ETA: 9:42 - loss: 1.0710 - acc: 0.282 - ETA: 9:37 - loss: 1.0738 - acc: 0.281 - ETA: 9:34 - loss: 1.0763 - acc: 0.278 - ETA: 9:29 - loss: 1.0603 - acc: 0.279 - ETA: 9:24 - loss: 1.0640 - acc: 0.282 - ETA: 9:19 - loss: 1.0869 - acc: 0.281 - ETA: 9:15 - loss: 1.0715 - acc: 0.278 - ETA: 9:10 - loss: 1.0572 - acc: 0.277 - ETA: 9:05 - loss: 1.1104 - acc: 0.274 - ETA: 9:01 - loss: 1.0957 - acc: 0.271 - ETA: 8:57 - loss: 1.1139 - acc: 0.272 - ETA: 8:52 - loss: 1.1000 - acc: 0.274 - ETA: 8:48 - loss: 1.1594 - acc: 0.273 - ETA: 8:43 - loss: 1.1457 - acc: 0.273 - ETA: 8:39 - loss: 1.1466 - acc: 0.272 - ETA: 8:35 - loss: 1.1473 - acc: 0.274 - ETA: 8:30 - loss: 1.1605 - acc: 0.273 - ETA: 8:26 - loss: 1.1482 - acc: 0.273 - ETA: 8:21 - loss: 1.1489 - acc: 0.271 - ETA: 8:17 - loss: 1.1370 - acc: 0.270 - ETA: 8:13 - loss: 1.1262 - acc: 0.269 - ETA: 8:08 - loss: 1.1153 - acc: 0.268 - ETA: 8:04 - loss: 1.1274 - acc: 0.269 - ETA: 8:00 - loss: 1.1285 - acc: 0.269 - ETA: 7:56 - loss: 1.1189 - acc: 0.271 - ETA: 7:51 - loss: 1.1201 - acc: 0.267 - ETA: 7:47 - loss: 1.1203 - acc: 0.267 - ETA: 7:43 - loss: 1.1516 - acc: 0.268 - ETA: 7:39 - loss: 1.1521 - acc: 0.265 - ETA: 7:35 - loss: 1.1622 - acc: 0.263 - ETA: 7:30 - loss: 1.1719 - acc: 0.263 - ETA: 7:26 - loss: 1.1719 - acc: 0.262 - ETA: 7:22 - loss: 1.1625 - acc: 0.261 - ETA: 7:18 - loss: 1.1538 - acc: 0.260 - ETA: 7:14 - loss: 1.1630 - acc: 0.260 - ETA: 7:10 - loss: 1.1714 - acc: 0.259 - ETA: 7:05 - loss: 1.1788 - acc: 0.261 - ETA: 7:01 - loss: 1.1784 - acc: 0.261 - ETA: 6:57 - loss: 1.1701 - acc: 0.260 - ETA: 6:53 - loss: 1.1622 - acc: 0.258 - ETA: 6:50 - loss: 1.1624 - acc: 0.257 - ETA: 6:47 - loss: 1.1626 - acc: 0.258 - ETA: 6:45 - loss: 1.1701 - acc: 0.259 - ETA: 6:42 - loss: 1.1702 - acc: 0.261 - ETA: 6:39 - loss: 1.1628 - acc: 0.261 - ETA: 6:36 - loss: 1.1547 - acc: 0.260 - ETA: 6:32 - loss: 1.1551 - acc: 0.261 - ETA: 6:28 - loss: 1.1483 - acc: 0.261 - ETA: 6:24 - loss: 1.1417 - acc: 0.261 - ETA: 6:20 - loss: 1.1421 - acc: 0.260 - ETA: 6:16 - loss: 1.1494 - acc: 0.260 - ETA: 6:13 - loss: 1.1431 - acc: 0.260 - ETA: 6:10 - loss: 1.1432 - acc: 0.261 - ETA: 6:06 - loss: 1.1493 - acc: 0.262 - ETA: 6:02 - loss: 1.1429 - acc: 0.262 - ETA: 5:58 - loss: 1.1433 - acc: 0.261 - ETA: 5:53 - loss: 1.1372 - acc: 0.261 - ETA: 5:49 - loss: 1.1371 - acc: 0.263 - ETA: 5:45 - loss: 1.1373 - acc: 0.263 - ETA: 5:41 - loss: 1.1318 - acc: 0.264 - ETA: 5:36 - loss: 1.1321 - acc: 0.265 - ETA: 5:32 - loss: 1.1323 - acc: 0.264 - ETA: 5:28 - loss: 1.1328 - acc: 0.263 - ETA: 5:24 - loss: 1.1273 - acc: 0.264 - ETA: 5:20 - loss: 1.1276 - acc: 0.264 - ETA: 5:16 - loss: 1.1226 - acc: 0.264 - ETA: 5:11 - loss: 1.1169 - acc: 0.265 - ETA: 5:07 - loss: 1.1340 - acc: 0.264 - ETA: 5:03 - loss: 1.1288 - acc: 0.265 - ETA: 4:59 - loss: 1.1240 - acc: 0.264 - ETA: 4:55 - loss: 1.1192 - acc: 0.264 - ETA: 4:52 - loss: 1.1146 - acc: 0.264 - ETA: 4:48 - loss: 1.1256 - acc: 0.263 - ETA: 4:45 - loss: 1.1206 - acc: 0.262 - ETA: 4:41 - loss: 1.1262 - acc: 0.262 - ETA: 4:37 - loss: 1.1317 - acc: 0.263 - ETA: 4:34 - loss: 1.1469 - acc: 0.262 - ETA: 4:30 - loss: 1.1472 - acc: 0.263 - ETA: 4:26 - loss: 1.1474 - acc: 0.262 - ETA: 4:22 - loss: 1.1475 - acc: 0.262 - ETA: 4:18 - loss: 1.1523 - acc: 0.261 - ETA: 4:14 - loss: 1.1523 - acc: 0.262 - ETA: 4:10 - loss: 1.1572 - acc: 0.262 - ETA: 4:07 - loss: 1.1572 - acc: 0.261 - ETA: 4:03 - loss: 1.1574 - acc: 0.261 - ETA: 3:59 - loss: 1.1576 - acc: 0.261 - ETA: 3:55 - loss: 1.1532 - acc: 0.262 - ETA: 3:51 - loss: 1.1488 - acc: 0.263 - ETA: 3:47 - loss: 1.1444 - acc: 0.263 - ETA: 3:43 - loss: 1.1401 - acc: 0.263 - ETA: 3:39 - loss: 1.1404 - acc: 0.261 - ETA: 3:35 - loss: 1.1450 - acc: 0.261 - ETA: 3:30 - loss: 1.1453 - acc: 0.260 - ETA: 3:26 - loss: 1.1496 - acc: 0.260 - ETA: 3:22 - loss: 1.1454 - acc: 0.260 - ETA: 3:18 - loss: 1.1455 - acc: 0.261 - ETA: 3:14 - loss: 1.1414 - acc: 0.261 - ETA: 3:09 - loss: 1.1458 - acc: 0.261 - ETA: 3:05 - loss: 1.1461 - acc: 0.261 - ETA: 3:01 - loss: 1.1421 - acc: 0.260 - ETA: 2:56 - loss: 1.1380 - acc: 0.261 - ETA: 2:52 - loss: 1.1342 - acc: 0.260 - ETA: 2:49 - loss: 1.1306 - acc: 0.260 - ETA: 2:45 - loss: 1.1310 - acc: 0.260 - ETA: 2:41 - loss: 1.1348 - acc: 0.260 - ETA: 2:36 - loss: 1.1352 - acc: 0.260 - ETA: 2:32 - loss: 1.1467 - acc: 0.261 - ETA: 2:28 - loss: 1.1469 - acc: 0.260 - ETA: 2:23 - loss: 1.1434 - acc: 0.259 - ETA: 2:19 - loss: 1.1436 - acc: 0.259 - ETA: 2:15 - loss: 1.1402 - acc: 0.259 - ETA: 2:11 - loss: 1.1365 - acc: 0.259 - ETA: 2:06 - loss: 1.1404 - acc: 0.259 - ETA: 2:02 - loss: 1.1369 - acc: 0.260 - ETA: 1:58 - loss: 1.1335 - acc: 0.261 - ETA: 1:54 - loss: 1.1338 - acc: 0.261 - ETA: 1:49 - loss: 1.1341 - acc: 0.261 - ETA: 1:45 - loss: 1.1307 - acc: 0.262 - ETA: 1:41 - loss: 1.1276 - acc: 0.261 - ETA: 1:37 - loss: 1.1245 - acc: 0.261 - ETA: 1:33 - loss: 1.1212 - acc: 0.261 - ETA: 1:28 - loss: 1.1281 - acc: 0.261 - ETA: 1:24 - loss: 1.1284 - acc: 0.261 - ETA: 1:20 - loss: 1.1253 - acc: 0.261 - ETA: 1:16 - loss: 1.1253 - acc: 0.262 - ETA: 1:12 - loss: 1.1254 - acc: 0.262 - ETA: 1:07 - loss: 1.1256 - acc: 0.262 - ETA: 1:03 - loss: 1.1223 - acc: 0.263 - ETA: 59s - loss: 1.1258 - acc: 0.263 - ETA: 55s - loss: 1.1228 - acc: 0.26 - ETA: 51s - loss: 1.1199 - acc: 0.26 - ETA: 46s - loss: 1.1234 - acc: 0.26 - ETA: 42s - loss: 1.1235 - acc: 0.26 - ETA: 38s - loss: 1.1207 - acc: 0.26 - ETA: 34s - loss: 1.1179 - acc: 0.26 - ETA: 29s - loss: 1.1213 - acc: 0.26 - ETA: 25s - loss: 1.1184 - acc: 0.26 - ETA: 21s - loss: 1.1186 - acc: 0.26 - ETA: 17s - loss: 1.1187 - acc: 0.26 - ETA: 12s - loss: 1.1158 - acc: 0.26 - ETA: 8s - loss: 1.1131 - acc: 0.2653 - ETA: 4s - loss: 1.1165 - acc: 0.265 - 697s 134ms/step - loss: 1.1167 - acc: 0.2657\n"
     ]
    },
    {
     "data": {
      "text/plain": [
       "<keras.callbacks.History at 0x254a2f1d5f8>"
      ]
     },
     "execution_count": 107,
     "metadata": {},
     "output_type": "execute_result"
    }
   ],
   "source": [
    "model1.compile(optimizer='adam', \n",
    "              loss='sparse_categorical_crossentropy',\n",
    "              metrics=['accuracy'])\n",
    "\n",
    "model1.fit(X_train, y_train, epochs=5)"
   ]
  },
  {
   "cell_type": "code",
   "execution_count": 164,
   "metadata": {},
   "outputs": [],
   "source": [
    "model2 = Sequential()\n",
    "model2.add(Conv2D(16, (3, 3), activation='relu', padding=\"same\", input_shape=(3,150,150)))\n",
    "model2.add(Conv2D(16, (3, 3), padding=\"same\", activation='relu'))\n",
    "model2.add(MaxPooling2D(pool_size=(2, 2)))\n",
    "\n",
    "model2.add(Conv2D(32, (3, 3), activation='relu', padding=\"same\", input_shape=(3,150,150)))\n",
    "model2.add(Conv2D(32, (3, 3), padding=\"same\", activation='relu'))\n",
    "model2.add(MaxPooling2D(pool_size=(2, 2)))\n",
    "\n",
    "model2.add(Conv2D(64, (3, 3), activation='relu', padding=\"same\"))\n",
    "model2.add(Conv2D(64, (3, 3), padding=\"same\", activation='relu'))\n",
    "model2.add(MaxPooling2D(pool_size=(2, 2)))\n",
    "\n",
    "\n",
    "model2.add(Conv2D(96, (3, 3), dilation_rate=(2, 2), activation='relu', padding=\"same\"))\n",
    "model2.add(Conv2D(96, (3, 3), padding=\"valid\", activation='relu'))\n",
    "# model1.add(MaxPooling2D(pool_size=(2, 2)))\n",
    "\n",
    "\n",
    "model2.add(Conv2D(96, (3, 3), dilation_rate=(2, 2), activation='relu', padding=\"same\"))\n",
    "model2.add(Conv2D(96, (3, 3), padding=\"valid\", activation='relu'))\n",
    "# model1.add(MaxPooling2D(pool_size=(2, 2)))\n",
    "\n",
    "model2.add(Conv2D(128, (3, 3), dilation_rate=(2, 2), activation='relu', padding=\"same\"))\n",
    "model2.add(Conv2D(128, (3, 3), padding=\"valid\", activation='relu'))\n",
    "# model1.add(MaxPooling2D(pool_size=(2, 2)))\n",
    "\n",
    "model2.add(Conv2D(128, (3, 3), dilation_rate=(2, 2), activation='relu', padding=\"same\"))\n",
    "model2.add(Conv2D(128, (3, 3), padding=\"valid\", activation='relu'))\n",
    "# model1.add(MaxPooling2D(pool_size=(2, 2)))\n",
    "\n",
    "model2.add(Conv2D(128, (3, 3), dilation_rate=(2, 2), activation='relu', padding=\"same\"))\n",
    "model2.add(Conv2D(128, (3, 3), padding=\"valid\", activation='relu'))\n",
    "# model1.add(MaxPooling2D(pool_size=(2, 2)))\n",
    "\n",
    "model2.add(Conv2D(196, (3, 3), dilation_rate=(2, 2), activation='relu', padding=\"same\"))\n",
    "model2.add(Conv2D(196, (3, 3), padding=\"valid\", activation='relu'))\n",
    "# model2.add(MaxPooling2D(pool_size=(2, 2)))\n",
    "\n",
    "\n",
    "model2.add(Flatten(name = 'Features_CNN'))\n",
    "# model2.add(Dense(256, activation='relu'))\n",
    "# model2.add(Dropout(0.4))\n",
    "model2.add(Dense(128, activation='relu'))\n",
    "model2.add(Dropout(0.2))\n",
    "model2.add(Dense(64, activation='relu', name = 'Features_MLP'))\n",
    "model2.add(Dense(2, activation='sigmoid'))\n"
   ]
  },
  {
   "cell_type": "code",
   "execution_count": 165,
   "metadata": {},
   "outputs": [
    {
     "name": "stdout",
     "output_type": "stream",
     "text": [
      "Epoch 1/5\n",
      "5216/5216 [==============================] - ETA: 30:50 - loss: 0.6931 - acc: 0.65 - ETA: 25:12 - loss: 0.6885 - acc: 0.71 - ETA: 23:12 - loss: 0.6648 - acc: 0.75 - ETA: 22:07 - loss: 0.6693 - acc: 0.71 - ETA: 21:31 - loss: 0.6722 - acc: 0.72 - ETA: 21:02 - loss: 0.6737 - acc: 0.73 - ETA: 20:42 - loss: 0.6755 - acc: 0.72 - ETA: 20:23 - loss: 0.6755 - acc: 0.72 - ETA: 20:03 - loss: 0.6737 - acc: 0.73 - ETA: 19:43 - loss: 0.6693 - acc: 0.74 - ETA: 19:26 - loss: 0.6628 - acc: 0.75 - ETA: 19:11 - loss: 0.6603 - acc: 0.74 - ETA: 18:58 - loss: 0.6435 - acc: 0.75 - ETA: 18:44 - loss: 0.6224 - acc: 0.76 - ETA: 18:35 - loss: 0.6296 - acc: 0.76 - ETA: 18:25 - loss: 0.6260 - acc: 0.76 - ETA: 18:15 - loss: 0.6243 - acc: 0.75 - ETA: 18:03 - loss: 0.6255 - acc: 0.75 - ETA: 17:53 - loss: 0.6250 - acc: 0.75 - ETA: 17:42 - loss: 0.6215 - acc: 0.75 - ETA: 17:33 - loss: 0.6180 - acc: 0.76 - ETA: 17:22 - loss: 0.6192 - acc: 0.75 - ETA: 17:12 - loss: 0.6193 - acc: 0.75 - ETA: 17:03 - loss: 0.6204 - acc: 0.75 - ETA: 16:54 - loss: 0.6174 - acc: 0.75 - ETA: 16:45 - loss: 0.6152 - acc: 0.75 - ETA: 16:36 - loss: 0.6126 - acc: 0.75 - ETA: 16:27 - loss: 0.6100 - acc: 0.75 - ETA: 16:18 - loss: 0.6025 - acc: 0.76 - ETA: 16:10 - loss: 0.5968 - acc: 0.76 - ETA: 16:02 - loss: 0.5947 - acc: 0.76 - ETA: 15:53 - loss: 0.5964 - acc: 0.76 - ETA: 15:45 - loss: 0.5946 - acc: 0.76 - ETA: 15:38 - loss: 0.5973 - acc: 0.76 - ETA: 15:30 - loss: 0.5957 - acc: 0.76 - ETA: 15:22 - loss: 0.5962 - acc: 0.76 - ETA: 15:14 - loss: 0.5942 - acc: 0.76 - ETA: 15:05 - loss: 0.5932 - acc: 0.76 - ETA: 14:58 - loss: 0.5917 - acc: 0.76 - ETA: 14:50 - loss: 0.5987 - acc: 0.76 - ETA: 14:42 - loss: 0.5961 - acc: 0.76 - ETA: 14:34 - loss: 0.5949 - acc: 0.76 - ETA: 14:26 - loss: 0.5973 - acc: 0.75 - ETA: 14:19 - loss: 0.5969 - acc: 0.75 - ETA: 14:11 - loss: 0.5963 - acc: 0.75 - ETA: 14:04 - loss: 0.5964 - acc: 0.75 - ETA: 13:57 - loss: 0.5950 - acc: 0.75 - ETA: 13:49 - loss: 0.5946 - acc: 0.75 - ETA: 13:41 - loss: 0.5923 - acc: 0.76 - ETA: 13:34 - loss: 0.5906 - acc: 0.76 - ETA: 13:26 - loss: 0.5932 - acc: 0.75 - ETA: 13:19 - loss: 0.5928 - acc: 0.75 - ETA: 13:11 - loss: 0.5927 - acc: 0.75 - ETA: 13:04 - loss: 0.5923 - acc: 0.75 - ETA: 12:56 - loss: 0.5929 - acc: 0.75 - ETA: 12:49 - loss: 0.5910 - acc: 0.75 - ETA: 12:41 - loss: 0.5906 - acc: 0.75 - ETA: 12:33 - loss: 0.5903 - acc: 0.75 - ETA: 12:26 - loss: 0.5897 - acc: 0.75 - ETA: 12:18 - loss: 0.5911 - acc: 0.75 - ETA: 12:11 - loss: 0.5892 - acc: 0.75 - ETA: 12:04 - loss: 0.5923 - acc: 0.75 - ETA: 11:56 - loss: 0.5909 - acc: 0.75 - ETA: 11:49 - loss: 0.5911 - acc: 0.75 - ETA: 11:42 - loss: 0.5896 - acc: 0.75 - ETA: 11:34 - loss: 0.5894 - acc: 0.75 - ETA: 11:27 - loss: 0.5895 - acc: 0.75 - ETA: 11:20 - loss: 0.5885 - acc: 0.75 - ETA: 11:12 - loss: 0.5876 - acc: 0.75 - ETA: 11:05 - loss: 0.5852 - acc: 0.75 - ETA: 10:58 - loss: 0.5855 - acc: 0.75 - ETA: 10:50 - loss: 0.5865 - acc: 0.75 - ETA: 10:43 - loss: 0.5886 - acc: 0.75 - ETA: 10:36 - loss: 0.5879 - acc: 0.75 - ETA: 10:28 - loss: 0.5881 - acc: 0.75 - ETA: 10:21 - loss: 0.5864 - acc: 0.75 - ETA: 10:14 - loss: 0.5866 - acc: 0.75 - ETA: 10:07 - loss: 0.5867 - acc: 0.75 - ETA: 9:59 - loss: 0.5861 - acc: 0.7540 - ETA: 9:52 - loss: 0.5854 - acc: 0.754 - ETA: 9:45 - loss: 0.5859 - acc: 0.753 - ETA: 9:38 - loss: 0.5837 - acc: 0.755 - ETA: 9:30 - loss: 0.5849 - acc: 0.753 - ETA: 9:23 - loss: 0.5850 - acc: 0.753 - ETA: 9:16 - loss: 0.5852 - acc: 0.752 - ETA: 9:09 - loss: 0.5864 - acc: 0.751 - ETA: 9:01 - loss: 0.5861 - acc: 0.751 - ETA: 8:54 - loss: 0.5873 - acc: 0.750 - ETA: 8:47 - loss: 0.5877 - acc: 0.749 - ETA: 8:40 - loss: 0.5871 - acc: 0.749 - ETA: 8:33 - loss: 0.5873 - acc: 0.749 - ETA: 8:25 - loss: 0.5867 - acc: 0.749 - ETA: 8:18 - loss: 0.5865 - acc: 0.749 - ETA: 8:11 - loss: 0.5859 - acc: 0.750 - ETA: 8:04 - loss: 0.5858 - acc: 0.750 - ETA: 7:57 - loss: 0.5850 - acc: 0.750 - ETA: 7:50 - loss: 0.5842 - acc: 0.751 - ETA: 7:43 - loss: 0.5830 - acc: 0.752 - ETA: 7:35 - loss: 0.5825 - acc: 0.752 - ETA: 7:28 - loss: 0.5837 - acc: 0.751 - ETA: 7:21 - loss: 0.5851 - acc: 0.749 - ETA: 7:14 - loss: 0.5859 - acc: 0.748 - ETA: 7:07 - loss: 0.5863 - acc: 0.748 - ETA: 6:59 - loss: 0.5867 - acc: 0.747 - ETA: 6:52 - loss: 0.5868 - acc: 0.747 - ETA: 6:45 - loss: 0.5871 - acc: 0.746 - ETA: 6:38 - loss: 0.5869 - acc: 0.746 - ETA: 6:31 - loss: 0.5867 - acc: 0.746 - ETA: 6:24 - loss: 0.5867 - acc: 0.746 - ETA: 6:16 - loss: 0.5865 - acc: 0.746 - ETA: 6:09 - loss: 0.5861 - acc: 0.746 - ETA: 6:02 - loss: 0.5852 - acc: 0.747 - ETA: 5:55 - loss: 0.5848 - acc: 0.748 - ETA: 5:48 - loss: 0.5856 - acc: 0.747 - ETA: 5:41 - loss: 0.5865 - acc: 0.745 - ETA: 5:34 - loss: 0.5875 - acc: 0.744 - ETA: 5:26 - loss: 0.5880 - acc: 0.743 - ETA: 5:19 - loss: 0.5881 - acc: 0.743 - ETA: 5:12 - loss: 0.5881 - acc: 0.743 - ETA: 5:05 - loss: 0.5889 - acc: 0.742 - ETA: 4:58 - loss: 0.5885 - acc: 0.742 - ETA: 4:51 - loss: 0.5882 - acc: 0.743 - ETA: 4:44 - loss: 0.5876 - acc: 0.743 - ETA: 4:36 - loss: 0.5876 - acc: 0.743 - ETA: 4:29 - loss: 0.5881 - acc: 0.742 - ETA: 4:22 - loss: 0.5883 - acc: 0.742 - ETA: 4:15 - loss: 0.5891 - acc: 0.741 - ETA: 4:08 - loss: 0.5895 - acc: 0.740 - ETA: 4:01 - loss: 0.5892 - acc: 0.741 - ETA: 3:54 - loss: 0.5893 - acc: 0.740 - ETA: 3:47 - loss: 0.5892 - acc: 0.740 - ETA: 3:40 - loss: 0.5891 - acc: 0.740 - ETA: 3:32 - loss: 0.5894 - acc: 0.740 - ETA: 3:25 - loss: 0.5892 - acc: 0.740 - ETA: 3:18 - loss: 0.5892 - acc: 0.740 - ETA: 3:11 - loss: 0.5889 - acc: 0.740 - ETA: 3:04 - loss: 0.5876 - acc: 0.741 - ETA: 2:57 - loss: 0.5882 - acc: 0.740 - ETA: 2:50 - loss: 0.5881 - acc: 0.741 - ETA: 2:43 - loss: 0.5872 - acc: 0.741 - ETA: 2:36 - loss: 0.5881 - acc: 0.740 - ETA: 2:28 - loss: 0.5881 - acc: 0.740 - ETA: 2:21 - loss: 0.5877 - acc: 0.741 - ETA: 2:14 - loss: 0.5876 - acc: 0.741 - ETA: 2:07 - loss: 0.5881 - acc: 0.740 - ETA: 2:00 - loss: 0.5880 - acc: 0.740 - ETA: 1:53 - loss: 0.5885 - acc: 0.740 - ETA: 1:46 - loss: 0.5871 - acc: 0.741 - ETA: 1:39 - loss: 0.5858 - acc: 0.742 - ETA: 1:32 - loss: 0.5852 - acc: 0.742 - ETA: 1:25 - loss: 0.5856 - acc: 0.742 - ETA: 1:17 - loss: 0.5855 - acc: 0.742 - ETA: 1:10 - loss: 0.5861 - acc: 0.742 - ETA: 1:03 - loss: 0.5854 - acc: 0.742 - ETA: 56s - loss: 0.5848 - acc: 0.742 - ETA: 49s - loss: 0.5844 - acc: 0.74 - ETA: 42s - loss: 0.5847 - acc: 0.74 - ETA: 35s - loss: 0.5850 - acc: 0.74 - ETA: 28s - loss: 0.5849 - acc: 0.74 - ETA: 21s - loss: 0.5850 - acc: 0.74 - ETA: 14s - loss: 0.5837 - acc: 0.74 - ETA: 7s - loss: 0.5848 - acc: 0.7425 - 1155s 221ms/step - loss: 0.5843 - acc: 0.7429\n",
      "Epoch 2/5\n",
      "5216/5216 [==============================] - ETA: 18:32 - loss: 0.6376 - acc: 0.68 - ETA: 18:26 - loss: 0.5966 - acc: 0.71 - ETA: 18:21 - loss: 0.5743 - acc: 0.73 - ETA: 18:17 - loss: 0.5387 - acc: 0.77 - ETA: 18:09 - loss: 0.5167 - acc: 0.79 - ETA: 18:01 - loss: 0.5294 - acc: 0.78 - ETA: 17:53 - loss: 0.5389 - acc: 0.77 - ETA: 17:46 - loss: 0.5417 - acc: 0.76 - ETA: 17:39 - loss: 0.5448 - acc: 0.76 - ETA: 17:32 - loss: 0.5563 - acc: 0.75 - ETA: 17:25 - loss: 0.5480 - acc: 0.76 - ETA: 17:18 - loss: 0.5436 - acc: 0.76 - ETA: 17:11 - loss: 0.5398 - acc: 0.77 - ETA: 17:05 - loss: 0.5497 - acc: 0.76 - ETA: 16:57 - loss: 0.5598 - acc: 0.75 - ETA: 16:51 - loss: 0.5596 - acc: 0.75 - ETA: 16:48 - loss: 0.5540 - acc: 0.75 - ETA: 16:41 - loss: 0.5567 - acc: 0.75 - ETA: 16:34 - loss: 0.5622 - acc: 0.75 - ETA: 16:27 - loss: 0.5590 - acc: 0.75 - ETA: 16:21 - loss: 0.5638 - acc: 0.75 - ETA: 16:14 - loss: 0.5608 - acc: 0.75 - ETA: 16:08 - loss: 0.5620 - acc: 0.75 - ETA: 16:03 - loss: 0.5605 - acc: 0.75 - ETA: 15:56 - loss: 0.5573 - acc: 0.75 - ETA: 15:49 - loss: 0.5579 - acc: 0.75 - ETA: 15:42 - loss: 0.5562 - acc: 0.75 - ETA: 15:34 - loss: 0.5563 - acc: 0.75 - ETA: 15:27 - loss: 0.5562 - acc: 0.75 - ETA: 15:20 - loss: 0.5598 - acc: 0.75 - ETA: 15:13 - loss: 0.5594 - acc: 0.75 - ETA: 15:06 - loss: 0.5605 - acc: 0.75 - ETA: 14:59 - loss: 0.5573 - acc: 0.75 - ETA: 14:52 - loss: 0.5587 - acc: 0.75 - ETA: 14:45 - loss: 0.5629 - acc: 0.75 - ETA: 14:38 - loss: 0.5612 - acc: 0.75 - ETA: 14:31 - loss: 0.5630 - acc: 0.75 - ETA: 14:24 - loss: 0.5590 - acc: 0.75 - ETA: 14:17 - loss: 0.5573 - acc: 0.75 - ETA: 14:10 - loss: 0.5581 - acc: 0.75 - ETA: 14:03 - loss: 0.5566 - acc: 0.75 - ETA: 13:56 - loss: 0.5591 - acc: 0.75 - ETA: 13:49 - loss: 0.5638 - acc: 0.75 - ETA: 13:42 - loss: 0.5655 - acc: 0.74 - ETA: 13:37 - loss: 0.5646 - acc: 0.74 - ETA: 13:31 - loss: 0.5664 - acc: 0.74 - ETA: 13:24 - loss: 0.5691 - acc: 0.74 - ETA: 13:17 - loss: 0.5673 - acc: 0.74 - ETA: 13:10 - loss: 0.5691 - acc: 0.74 - ETA: 13:02 - loss: 0.5662 - acc: 0.74 - ETA: 12:55 - loss: 0.5645 - acc: 0.75 - ETA: 12:48 - loss: 0.5646 - acc: 0.75 - ETA: 12:41 - loss: 0.5648 - acc: 0.75 - ETA: 12:34 - loss: 0.5662 - acc: 0.74 - ETA: 12:27 - loss: 0.5668 - acc: 0.74 - ETA: 12:20 - loss: 0.5667 - acc: 0.74 - ETA: 12:13 - loss: 0.5661 - acc: 0.74 - ETA: 12:06 - loss: 0.5667 - acc: 0.74 - ETA: 11:59 - loss: 0.5672 - acc: 0.74 - ETA: 11:51 - loss: 0.5689 - acc: 0.74 - ETA: 11:37 - loss: 0.5687 - acc: 0.74 - ETA: 1:17:13 - loss: 0.5671 - acc: 0.74 - ETA: 1:15:22 - loss: 0.5661 - acc: 0.74 - ETA: 1:13:36 - loss: 0.5674 - acc: 0.74 - ETA: 1:11:53 - loss: 0.5662 - acc: 0.74 - ETA: 1:10:13 - loss: 0.5657 - acc: 0.74 - ETA: 1:08:36 - loss: 0.5641 - acc: 0.75 - ETA: 1:07:01 - loss: 0.5635 - acc: 0.75 - ETA: 1:05:28 - loss: 0.5633 - acc: 0.75 - ETA: 1:03:57 - loss: 0.5635 - acc: 0.75 - ETA: 1:02:29 - loss: 0.5642 - acc: 0.75 - ETA: 1:01:02 - loss: 0.5654 - acc: 0.74 - ETA: 59:38 - loss: 0.5660 - acc: 0.7487 - ETA: 58:15 - loss: 0.5666 - acc: 0.74 - ETA: 56:55 - loss: 0.5665 - acc: 0.74 - ETA: 55:38 - loss: 0.5662 - acc: 0.74 - ETA: 54:23 - loss: 0.5679 - acc: 0.74 - ETA: 53:10 - loss: 0.5675 - acc: 0.74 - ETA: 51:58 - loss: 0.5682 - acc: 0.74 - ETA: 50:49 - loss: 0.5677 - acc: 0.74 - ETA: 49:41 - loss: 0.5684 - acc: 0.74 - ETA: 48:34 - loss: 0.5683 - acc: 0.74 - ETA: 47:28 - loss: 0.5669 - acc: 0.74 - ETA: 46:23 - loss: 0.5686 - acc: 0.74 - ETA: 45:20 - loss: 0.5676 - acc: 0.74 - ETA: 44:18 - loss: 0.5675 - acc: 0.74 - ETA: 43:17 - loss: 0.5681 - acc: 0.74 - ETA: 42:18 - loss: 0.5694 - acc: 0.74 - ETA: 41:19 - loss: 0.5710 - acc: 0.74 - ETA: 40:22 - loss: 0.5700 - acc: 0.74 - ETA: 39:25 - loss: 0.5703 - acc: 0.74 - ETA: 38:30 - loss: 0.5704 - acc: 0.74 - ETA: 37:36 - loss: 0.5700 - acc: 0.74 - ETA: 36:44 - loss: 0.5703 - acc: 0.74 - ETA: 35:52 - loss: 0.5700 - acc: 0.74 - ETA: 35:01 - loss: 0.5709 - acc: 0.74 - ETA: 34:11 - loss: 0.5706 - acc: 0.74 - ETA: 33:22 - loss: 0.5708 - acc: 0.74 - ETA: 32:34 - loss: 0.5708 - acc: 0.74 - ETA: 31:47 - loss: 0.5701 - acc: 0.74 - ETA: 31:00 - loss: 0.5696 - acc: 0.74 - ETA: 30:15 - loss: 0.5689 - acc: 0.74 - ETA: 29:32 - loss: 0.5682 - acc: 0.74 - ETA: 28:49 - loss: 0.5691 - acc: 0.74 - ETA: 28:06 - loss: 0.5682 - acc: 0.74 - ETA: 27:24 - loss: 0.5694 - acc: 0.74 - ETA: 26:43 - loss: 0.5707 - acc: 0.74 - ETA: 26:02 - loss: 0.5718 - acc: 0.74 - ETA: 25:22 - loss: 0.5728 - acc: 0.74 - ETA: 24:43 - loss: 0.5730 - acc: 0.74 - ETA: 24:04 - loss: 0.5732 - acc: 0.74 - ETA: 23:26 - loss: 0.5726 - acc: 0.74 - ETA: 22:49 - loss: 0.5730 - acc: 0.74 - ETA: 22:12 - loss: 0.5728 - acc: 0.74 - ETA: 21:35 - loss: 0.5727 - acc: 0.74 - ETA: 20:59 - loss: 0.5739 - acc: 0.74 - ETA: 20:24 - loss: 0.5742 - acc: 0.74 - ETA: 19:49 - loss: 0.5744 - acc: 0.74 - ETA: 19:15 - loss: 0.5750 - acc: 0.74 - ETA: 18:41 - loss: 0.5756 - acc: 0.73 - ETA: 18:07 - loss: 0.5762 - acc: 0.73 - ETA: 17:34 - loss: 0.5766 - acc: 0.73 - ETA: 17:02 - loss: 0.5761 - acc: 0.73 - ETA: 16:30 - loss: 0.5767 - acc: 0.73 - ETA: 15:58 - loss: 0.5762 - acc: 0.73 - ETA: 15:27 - loss: 0.5758 - acc: 0.73 - ETA: 14:57 - loss: 0.5759 - acc: 0.73 - ETA: 14:26 - loss: 0.5759 - acc: 0.73 - ETA: 13:57 - loss: 0.5751 - acc: 0.74 - ETA: 13:27 - loss: 0.5753 - acc: 0.74 - ETA: 12:57 - loss: 0.5755 - acc: 0.74 - ETA: 12:28 - loss: 0.5750 - acc: 0.74 - ETA: 12:00 - loss: 0.5742 - acc: 0.74 - ETA: 11:31 - loss: 0.5746 - acc: 0.74 - ETA: 11:03 - loss: 0.5738 - acc: 0.74 - ETA: 10:36 - loss: 0.5737 - acc: 0.74 - ETA: 10:08 - loss: 0.5730 - acc: 0.74 - ETA: 9:42 - loss: 0.5733 - acc: 0.7425 - ETA: 9:15 - loss: 0.5732 - acc: 0.742 - ETA: 8:49 - loss: 0.5735 - acc: 0.742 - ETA: 8:23 - loss: 0.5734 - acc: 0.742 - ETA: 7:57 - loss: 0.5725 - acc: 0.743 - ETA: 7:32 - loss: 0.5722 - acc: 0.743 - ETA: 7:07 - loss: 0.5725 - acc: 0.743 - ETA: 6:42 - loss: 0.5736 - acc: 0.742 - ETA: 6:18 - loss: 0.5732 - acc: 0.742 - ETA: 5:54 - loss: 0.5734 - acc: 0.742 - ETA: 5:30 - loss: 0.5733 - acc: 0.742 - ETA: 5:06 - loss: 0.5730 - acc: 0.742 - ETA: 4:43 - loss: 0.5725 - acc: 0.743 - ETA: 4:20 - loss: 0.5727 - acc: 0.743 - ETA: 3:57 - loss: 0.5729 - acc: 0.743 - ETA: 3:34 - loss: 0.5741 - acc: 0.741 - ETA: 3:12 - loss: 0.5737 - acc: 0.742 - ETA: 2:50 - loss: 0.5738 - acc: 0.742 - ETA: 2:28 - loss: 0.5743 - acc: 0.741 - ETA: 2:06 - loss: 0.5743 - acc: 0.741 - ETA: 1:44 - loss: 0.5739 - acc: 0.742 - ETA: 1:23 - loss: 0.5736 - acc: 0.742 - ETA: 1:02 - loss: 0.5738 - acc: 0.742 - ETA: 41s - loss: 0.5735 - acc: 0.742 - ETA: 20s - loss: 0.5729 - acc: 0.74 - 3340s 640ms/step - loss: 0.5730 - acc: 0.7429\n",
      "Epoch 3/5\n"
     ]
    },
    {
     "name": "stdout",
     "output_type": "stream",
     "text": [
      "5216/5216 [==============================] - ETA: 14:58 - loss: 0.6300 - acc: 0.68 - ETA: 14:59 - loss: 0.5403 - acc: 0.78 - ETA: 14:52 - loss: 0.5075 - acc: 0.81 - ETA: 14:43 - loss: 0.4986 - acc: 0.82 - ETA: 14:37 - loss: 0.5189 - acc: 0.80 - ETA: 14:34 - loss: 0.5566 - acc: 0.76 - ETA: 14:27 - loss: 0.5479 - acc: 0.77 - ETA: 14:23 - loss: 0.5419 - acc: 0.77 - ETA: 14:21 - loss: 0.5524 - acc: 0.76 - ETA: 14:15 - loss: 0.5672 - acc: 0.75 - ETA: 14:09 - loss: 0.5572 - acc: 0.76 - ETA: 14:03 - loss: 0.5567 - acc: 0.76 - ETA: 13:55 - loss: 0.5517 - acc: 0.76 - ETA: 13:49 - loss: 0.5546 - acc: 0.76 - ETA: 13:43 - loss: 0.5697 - acc: 0.74 - ETA: 13:37 - loss: 0.5648 - acc: 0.75 - ETA: 13:31 - loss: 0.5590 - acc: 0.75 - ETA: 13:25 - loss: 0.5612 - acc: 0.75 - ETA: 13:18 - loss: 0.5614 - acc: 0.75 - ETA: 13:13 - loss: 0.5686 - acc: 0.74 - ETA: 13:07 - loss: 0.5715 - acc: 0.74 - ETA: 13:02 - loss: 0.5741 - acc: 0.74 - ETA: 12:57 - loss: 0.5761 - acc: 0.74 - ETA: 12:51 - loss: 0.5769 - acc: 0.73 - ETA: 12:46 - loss: 0.5754 - acc: 0.74 - ETA: 12:40 - loss: 0.5712 - acc: 0.74 - ETA: 12:34 - loss: 0.5698 - acc: 0.74 - ETA: 12:29 - loss: 0.5758 - acc: 0.74 - ETA: 12:23 - loss: 0.5756 - acc: 0.74 - ETA: 12:17 - loss: 0.5782 - acc: 0.73 - ETA: 12:12 - loss: 0.5759 - acc: 0.73 - ETA: 12:05 - loss: 0.5774 - acc: 0.73 - ETA: 11:59 - loss: 0.5842 - acc: 0.73 - ETA: 11:54 - loss: 0.5830 - acc: 0.73 - ETA: 11:49 - loss: 0.5793 - acc: 0.73 - ETA: 11:43 - loss: 0.5807 - acc: 0.73 - ETA: 11:38 - loss: 0.5795 - acc: 0.73 - ETA: 11:32 - loss: 0.5821 - acc: 0.73 - ETA: 11:26 - loss: 0.5810 - acc: 0.73 - ETA: 11:20 - loss: 0.5847 - acc: 0.73 - ETA: 11:15 - loss: 0.5854 - acc: 0.72 - ETA: 11:09 - loss: 0.5824 - acc: 0.73 - ETA: 11:03 - loss: 0.5828 - acc: 0.73 - ETA: 10:57 - loss: 0.5823 - acc: 0.73 - ETA: 10:51 - loss: 0.5833 - acc: 0.73 - ETA: 10:46 - loss: 0.5829 - acc: 0.73 - ETA: 10:41 - loss: 0.5826 - acc: 0.73 - ETA: 10:36 - loss: 0.5816 - acc: 0.73 - ETA: 10:30 - loss: 0.5806 - acc: 0.73 - ETA: 10:25 - loss: 0.5832 - acc: 0.73 - ETA: 10:19 - loss: 0.5853 - acc: 0.72 - ETA: 10:14 - loss: 0.5842 - acc: 0.73 - ETA: 10:08 - loss: 0.5815 - acc: 0.73 - ETA: 10:02 - loss: 0.5845 - acc: 0.73 - ETA: 9:57 - loss: 0.5857 - acc: 0.7290 - ETA: 9:51 - loss: 0.5863 - acc: 0.728 - ETA: 9:46 - loss: 0.5876 - acc: 0.727 - ETA: 9:40 - loss: 0.5878 - acc: 0.726 - ETA: 9:34 - loss: 0.5855 - acc: 0.729 - ETA: 9:29 - loss: 0.5845 - acc: 0.730 - ETA: 9:24 - loss: 0.5871 - acc: 0.727 - ETA: 9:18 - loss: 0.5885 - acc: 0.725 - ETA: 9:13 - loss: 0.5886 - acc: 0.725 - ETA: 9:07 - loss: 0.5897 - acc: 0.724 - ETA: 9:01 - loss: 0.5881 - acc: 0.726 - ETA: 8:56 - loss: 0.5864 - acc: 0.728 - ETA: 8:51 - loss: 0.5871 - acc: 0.727 - ETA: 8:46 - loss: 0.5860 - acc: 0.728 - ETA: 8:40 - loss: 0.5846 - acc: 0.730 - ETA: 8:35 - loss: 0.5844 - acc: 0.730 - ETA: 8:29 - loss: 0.5837 - acc: 0.731 - ETA: 8:24 - loss: 0.5831 - acc: 0.732 - ETA: 8:19 - loss: 0.5834 - acc: 0.732 - ETA: 8:14 - loss: 0.5844 - acc: 0.731 - ETA: 8:09 - loss: 0.5836 - acc: 0.731 - ETA: 8:04 - loss: 0.5824 - acc: 0.732 - ETA: 7:59 - loss: 0.5797 - acc: 0.735 - ETA: 7:54 - loss: 0.5811 - acc: 0.734 - ETA: 7:49 - loss: 0.5822 - acc: 0.733 - ETA: 7:45 - loss: 0.5816 - acc: 0.733 - ETA: 7:40 - loss: 0.5804 - acc: 0.734 - ETA: 7:35 - loss: 0.5807 - acc: 0.734 - ETA: 7:30 - loss: 0.5814 - acc: 0.733 - ETA: 7:25 - loss: 0.5804 - acc: 0.734 - ETA: 7:20 - loss: 0.5806 - acc: 0.734 - ETA: 7:15 - loss: 0.5801 - acc: 0.735 - ETA: 7:10 - loss: 0.5786 - acc: 0.736 - ETA: 7:05 - loss: 0.5775 - acc: 0.737 - ETA: 6:59 - loss: 0.5768 - acc: 0.737 - ETA: 6:54 - loss: 0.5774 - acc: 0.737 - ETA: 6:49 - loss: 0.5777 - acc: 0.737 - ETA: 6:44 - loss: 0.5751 - acc: 0.739 - ETA: 6:38 - loss: 0.5754 - acc: 0.738 - ETA: 6:33 - loss: 0.5757 - acc: 0.738 - ETA: 6:28 - loss: 0.5762 - acc: 0.738 - ETA: 6:23 - loss: 0.5768 - acc: 0.737 - ETA: 6:17 - loss: 0.5759 - acc: 0.738 - ETA: 6:12 - loss: 0.5747 - acc: 0.739 - ETA: 6:07 - loss: 0.5745 - acc: 0.739 - ETA: 6:02 - loss: 0.5740 - acc: 0.740 - ETA: 5:57 - loss: 0.5750 - acc: 0.739 - ETA: 5:51 - loss: 0.5742 - acc: 0.739 - ETA: 5:46 - loss: 0.5749 - acc: 0.739 - ETA: 5:40 - loss: 0.5741 - acc: 0.740 - ETA: 5:35 - loss: 0.5744 - acc: 0.739 - ETA: 5:29 - loss: 0.5726 - acc: 0.741 - ETA: 5:22 - loss: 0.5718 - acc: 0.742 - ETA: 5:16 - loss: 0.5712 - acc: 0.742 - ETA: 5:09 - loss: 0.5715 - acc: 0.742 - ETA: 5:03 - loss: 0.5717 - acc: 0.742 - ETA: 4:56 - loss: 0.5713 - acc: 0.742 - ETA: 4:50 - loss: 0.5705 - acc: 0.743 - ETA: 4:44 - loss: 0.5703 - acc: 0.743 - ETA: 4:37 - loss: 0.5705 - acc: 0.742 - ETA: 4:31 - loss: 0.5698 - acc: 0.743 - ETA: 4:25 - loss: 0.5705 - acc: 0.742 - ETA: 4:19 - loss: 0.5710 - acc: 0.742 - ETA: 4:12 - loss: 0.5712 - acc: 0.742 - ETA: 4:06 - loss: 0.5718 - acc: 0.741 - ETA: 4:00 - loss: 0.5720 - acc: 0.741 - ETA: 3:54 - loss: 0.5736 - acc: 0.739 - ETA: 3:48 - loss: 0.5744 - acc: 0.739 - ETA: 3:42 - loss: 0.5748 - acc: 0.738 - ETA: 3:36 - loss: 0.5739 - acc: 0.739 - ETA: 3:30 - loss: 0.5738 - acc: 0.739 - ETA: 3:24 - loss: 0.5728 - acc: 0.740 - ETA: 3:18 - loss: 0.5730 - acc: 0.740 - ETA: 3:12 - loss: 0.5733 - acc: 0.740 - ETA: 3:06 - loss: 0.5736 - acc: 0.739 - ETA: 3:01 - loss: 0.5732 - acc: 0.740 - ETA: 2:55 - loss: 0.5729 - acc: 0.740 - ETA: 2:49 - loss: 0.5733 - acc: 0.740 - ETA: 2:43 - loss: 0.5733 - acc: 0.740 - ETA: 2:38 - loss: 0.5738 - acc: 0.739 - ETA: 2:32 - loss: 0.5740 - acc: 0.739 - ETA: 2:26 - loss: 0.5733 - acc: 0.740 - ETA: 2:20 - loss: 0.5724 - acc: 0.741 - ETA: 2:15 - loss: 0.5726 - acc: 0.741 - ETA: 2:09 - loss: 0.5722 - acc: 0.741 - ETA: 2:04 - loss: 0.5717 - acc: 0.742 - ETA: 1:58 - loss: 0.5713 - acc: 0.742 - ETA: 1:52 - loss: 0.5712 - acc: 0.742 - ETA: 1:47 - loss: 0.5713 - acc: 0.742 - ETA: 1:41 - loss: 0.5714 - acc: 0.742 - ETA: 1:36 - loss: 0.5701 - acc: 0.743 - ETA: 1:30 - loss: 0.5701 - acc: 0.743 - ETA: 1:25 - loss: 0.5702 - acc: 0.743 - ETA: 1:19 - loss: 0.5707 - acc: 0.742 - ETA: 1:14 - loss: 0.5698 - acc: 0.743 - ETA: 1:09 - loss: 0.5694 - acc: 0.743 - ETA: 1:03 - loss: 0.5695 - acc: 0.743 - ETA: 58s - loss: 0.5689 - acc: 0.744 - ETA: 52s - loss: 0.5702 - acc: 0.74 - ETA: 47s - loss: 0.5710 - acc: 0.74 - ETA: 42s - loss: 0.5718 - acc: 0.74 - ETA: 36s - loss: 0.5714 - acc: 0.74 - ETA: 31s - loss: 0.5714 - acc: 0.74 - ETA: 26s - loss: 0.5709 - acc: 0.74 - ETA: 21s - loss: 0.5711 - acc: 0.74 - ETA: 15s - loss: 0.5705 - acc: 0.74 - ETA: 10s - loss: 0.5717 - acc: 0.74 - ETA: 5s - loss: 0.5715 - acc: 0.7425 - 852s 163ms/step - loss: 0.5710 - acc: 0.7429\n",
      "Epoch 4/5\n",
      "5216/5216 [==============================] - ETA: 11:21 - loss: 0.5894 - acc: 0.71 - ETA: 11:11 - loss: 0.5040 - acc: 0.81 - ETA: 11:04 - loss: 0.5572 - acc: 0.76 - ETA: 10:59 - loss: 0.5808 - acc: 0.73 - ETA: 11:00 - loss: 0.5739 - acc: 0.74 - ETA: 11:00 - loss: 0.5844 - acc: 0.73 - ETA: 10:58 - loss: 0.5885 - acc: 0.72 - ETA: 10:54 - loss: 0.5786 - acc: 0.73 - ETA: 10:48 - loss: 0.5742 - acc: 0.74 - ETA: 10:43 - loss: 0.5641 - acc: 0.75 - ETA: 10:37 - loss: 0.5749 - acc: 0.74 - ETA: 10:32 - loss: 0.5900 - acc: 0.72 - ETA: 10:27 - loss: 0.5877 - acc: 0.72 - ETA: 10:23 - loss: 0.5866 - acc: 0.72 - ETA: 10:21 - loss: 0.5805 - acc: 0.73 - ETA: 10:16 - loss: 0.5866 - acc: 0.72 - ETA: 10:12 - loss: 0.5884 - acc: 0.72 - ETA: 10:07 - loss: 0.5839 - acc: 0.73 - ETA: 10:02 - loss: 0.5848 - acc: 0.73 - ETA: 9:57 - loss: 0.5820 - acc: 0.7328 - ETA: 9:53 - loss: 0.5856 - acc: 0.729 - ETA: 9:48 - loss: 0.5846 - acc: 0.730 - ETA: 9:44 - loss: 0.5825 - acc: 0.732 - ETA: 9:39 - loss: 0.5823 - acc: 0.733 - ETA: 9:35 - loss: 0.5798 - acc: 0.735 - ETA: 9:30 - loss: 0.5791 - acc: 0.735 - ETA: 9:26 - loss: 0.5807 - acc: 0.733 - ETA: 9:21 - loss: 0.5835 - acc: 0.731 - ETA: 9:17 - loss: 0.5806 - acc: 0.733 - ETA: 9:13 - loss: 0.5799 - acc: 0.734 - ETA: 9:08 - loss: 0.5784 - acc: 0.735 - ETA: 9:04 - loss: 0.5768 - acc: 0.737 - ETA: 9:00 - loss: 0.5793 - acc: 0.734 - ETA: 8:56 - loss: 0.5783 - acc: 0.736 - ETA: 8:52 - loss: 0.5796 - acc: 0.734 - ETA: 8:47 - loss: 0.5783 - acc: 0.736 - ETA: 8:43 - loss: 0.5822 - acc: 0.732 - ETA: 8:39 - loss: 0.5802 - acc: 0.734 - ETA: 8:34 - loss: 0.5795 - acc: 0.734 - ETA: 8:30 - loss: 0.5765 - acc: 0.737 - ETA: 8:26 - loss: 0.5779 - acc: 0.736 - ETA: 8:22 - loss: 0.5775 - acc: 0.736 - ETA: 8:17 - loss: 0.5758 - acc: 0.738 - ETA: 8:13 - loss: 0.5754 - acc: 0.738 - ETA: 8:09 - loss: 0.5766 - acc: 0.737 - ETA: 8:05 - loss: 0.5782 - acc: 0.736 - ETA: 8:01 - loss: 0.5821 - acc: 0.732 - ETA: 7:56 - loss: 0.5819 - acc: 0.733 - ETA: 7:52 - loss: 0.5838 - acc: 0.730 - ETA: 7:48 - loss: 0.5803 - acc: 0.734 - ETA: 7:44 - loss: 0.5783 - acc: 0.736 - ETA: 7:39 - loss: 0.5808 - acc: 0.733 - ETA: 7:35 - loss: 0.5821 - acc: 0.732 - ETA: 7:31 - loss: 0.5823 - acc: 0.732 - ETA: 7:27 - loss: 0.5810 - acc: 0.733 - ETA: 7:23 - loss: 0.5804 - acc: 0.733 - ETA: 7:18 - loss: 0.5804 - acc: 0.733 - ETA: 7:14 - loss: 0.5807 - acc: 0.733 - ETA: 7:10 - loss: 0.5804 - acc: 0.733 - ETA: 7:06 - loss: 0.5790 - acc: 0.734 - ETA: 7:02 - loss: 0.5812 - acc: 0.732 - ETA: 6:57 - loss: 0.5813 - acc: 0.732 - ETA: 6:53 - loss: 0.5814 - acc: 0.732 - ETA: 6:49 - loss: 0.5794 - acc: 0.734 - ETA: 6:45 - loss: 0.5818 - acc: 0.731 - ETA: 6:41 - loss: 0.5835 - acc: 0.730 - ETA: 6:37 - loss: 0.5860 - acc: 0.727 - ETA: 6:33 - loss: 0.5867 - acc: 0.727 - ETA: 6:28 - loss: 0.5861 - acc: 0.727 - ETA: 6:24 - loss: 0.5866 - acc: 0.727 - ETA: 6:20 - loss: 0.5863 - acc: 0.727 - ETA: 6:16 - loss: 0.5881 - acc: 0.725 - ETA: 6:12 - loss: 0.5877 - acc: 0.726 - ETA: 6:08 - loss: 0.5879 - acc: 0.725 - ETA: 6:04 - loss: 0.5882 - acc: 0.725 - ETA: 5:59 - loss: 0.5877 - acc: 0.726 - ETA: 5:55 - loss: 0.5875 - acc: 0.726 - ETA: 5:51 - loss: 0.5880 - acc: 0.726 - ETA: 5:47 - loss: 0.5868 - acc: 0.727 - ETA: 5:43 - loss: 0.5863 - acc: 0.728 - ETA: 5:39 - loss: 0.5864 - acc: 0.728 - ETA: 5:35 - loss: 0.5865 - acc: 0.727 - ETA: 5:30 - loss: 0.5863 - acc: 0.728 - ETA: 5:26 - loss: 0.5855 - acc: 0.729 - ETA: 5:22 - loss: 0.5843 - acc: 0.730 - ETA: 5:18 - loss: 0.5831 - acc: 0.731 - ETA: 5:14 - loss: 0.5836 - acc: 0.731 - ETA: 5:10 - loss: 0.5824 - acc: 0.732 - ETA: 5:06 - loss: 0.5821 - acc: 0.732 - ETA: 5:02 - loss: 0.5825 - acc: 0.732 - ETA: 4:57 - loss: 0.5822 - acc: 0.732 - ETA: 4:53 - loss: 0.5814 - acc: 0.733 - ETA: 4:49 - loss: 0.5812 - acc: 0.733 - ETA: 4:45 - loss: 0.5807 - acc: 0.734 - ETA: 4:41 - loss: 0.5811 - acc: 0.733 - ETA: 4:37 - loss: 0.5806 - acc: 0.734 - ETA: 4:33 - loss: 0.5810 - acc: 0.733 - ETA: 4:28 - loss: 0.5794 - acc: 0.735 - ETA: 4:24 - loss: 0.5791 - acc: 0.735 - ETA: 4:20 - loss: 0.5804 - acc: 0.734 - ETA: 4:16 - loss: 0.5804 - acc: 0.734 - ETA: 4:12 - loss: 0.5807 - acc: 0.734 - ETA: 4:08 - loss: 0.5813 - acc: 0.733 - ETA: 4:04 - loss: 0.5801 - acc: 0.734 - ETA: 3:59 - loss: 0.5789 - acc: 0.735 - ETA: 3:55 - loss: 0.5788 - acc: 0.735 - ETA: 3:51 - loss: 0.5779 - acc: 0.736 - ETA: 3:47 - loss: 0.5766 - acc: 0.737 - ETA: 3:43 - loss: 0.5756 - acc: 0.738 - ETA: 3:39 - loss: 0.5753 - acc: 0.738 - ETA: 3:35 - loss: 0.5744 - acc: 0.739 - ETA: 3:30 - loss: 0.5750 - acc: 0.739 - ETA: 3:26 - loss: 0.5757 - acc: 0.738 - ETA: 3:22 - loss: 0.5745 - acc: 0.739 - ETA: 3:18 - loss: 0.5744 - acc: 0.739 - ETA: 3:14 - loss: 0.5740 - acc: 0.740 - ETA: 3:10 - loss: 0.5736 - acc: 0.740 - ETA: 3:06 - loss: 0.5733 - acc: 0.740 - ETA: 3:01 - loss: 0.5722 - acc: 0.741 - ETA: 2:57 - loss: 0.5731 - acc: 0.740 - ETA: 2:53 - loss: 0.5731 - acc: 0.741 - ETA: 2:49 - loss: 0.5733 - acc: 0.740 - ETA: 2:45 - loss: 0.5751 - acc: 0.739 - ETA: 2:41 - loss: 0.5752 - acc: 0.739 - ETA: 2:37 - loss: 0.5752 - acc: 0.739 - ETA: 2:33 - loss: 0.5750 - acc: 0.739 - ETA: 2:28 - loss: 0.5739 - acc: 0.740 - ETA: 2:24 - loss: 0.5743 - acc: 0.740 - ETA: 2:20 - loss: 0.5751 - acc: 0.739 - ETA: 2:16 - loss: 0.5740 - acc: 0.740 - ETA: 2:12 - loss: 0.5748 - acc: 0.739 - ETA: 2:08 - loss: 0.5750 - acc: 0.739 - ETA: 2:04 - loss: 0.5747 - acc: 0.739 - ETA: 1:59 - loss: 0.5745 - acc: 0.739 - ETA: 1:55 - loss: 0.5747 - acc: 0.739 - ETA: 1:51 - loss: 0.5746 - acc: 0.739 - ETA: 1:47 - loss: 0.5743 - acc: 0.740 - ETA: 1:43 - loss: 0.5744 - acc: 0.739 - ETA: 1:39 - loss: 0.5744 - acc: 0.739 - ETA: 1:35 - loss: 0.5749 - acc: 0.739 - ETA: 1:30 - loss: 0.5751 - acc: 0.739 - ETA: 1:26 - loss: 0.5755 - acc: 0.738 - ETA: 1:22 - loss: 0.5760 - acc: 0.738 - ETA: 1:18 - loss: 0.5764 - acc: 0.737 - ETA: 1:14 - loss: 0.5760 - acc: 0.738 - ETA: 1:10 - loss: 0.5751 - acc: 0.739 - ETA: 1:06 - loss: 0.5744 - acc: 0.740 - ETA: 1:02 - loss: 0.5744 - acc: 0.740 - ETA: 57s - loss: 0.5741 - acc: 0.740 - ETA: 53s - loss: 0.5738 - acc: 0.74 - ETA: 49s - loss: 0.5739 - acc: 0.74 - ETA: 45s - loss: 0.5736 - acc: 0.74 - ETA: 41s - loss: 0.5735 - acc: 0.74 - ETA: 37s - loss: 0.5731 - acc: 0.74 - ETA: 33s - loss: 0.5728 - acc: 0.74 - ETA: 28s - loss: 0.5727 - acc: 0.74 - ETA: 24s - loss: 0.5720 - acc: 0.74 - ETA: 20s - loss: 0.5720 - acc: 0.74 - ETA: 16s - loss: 0.5717 - acc: 0.74 - ETA: 12s - loss: 0.5719 - acc: 0.74 - ETA: 8s - loss: 0.5723 - acc: 0.7420 - ETA: 4s - loss: 0.5715 - acc: 0.742 - 674s 129ms/step - loss: 0.5713 - acc: 0.7429\n",
      "Epoch 5/5\n"
     ]
    },
    {
     "name": "stdout",
     "output_type": "stream",
     "text": [
      "5216/5216 [==============================] - ETA: 11:04 - loss: 0.5314 - acc: 0.78 - ETA: 11:03 - loss: 0.5661 - acc: 0.75 - ETA: 10:57 - loss: 0.5940 - acc: 0.72 - ETA: 10:53 - loss: 0.5781 - acc: 0.74 - ETA: 10:49 - loss: 0.5676 - acc: 0.75 - ETA: 10:44 - loss: 0.5790 - acc: 0.73 - ETA: 10:41 - loss: 0.5829 - acc: 0.73 - ETA: 10:37 - loss: 0.5762 - acc: 0.74 - ETA: 10:33 - loss: 0.5741 - acc: 0.74 - ETA: 10:28 - loss: 0.5772 - acc: 0.74 - ETA: 10:24 - loss: 0.5731 - acc: 0.74 - ETA: 10:20 - loss: 0.5742 - acc: 0.74 - ETA: 10:16 - loss: 0.5654 - acc: 0.75 - ETA: 10:12 - loss: 0.5653 - acc: 0.75 - ETA: 10:08 - loss: 0.5651 - acc: 0.75 - ETA: 10:04 - loss: 0.5646 - acc: 0.75 - ETA: 10:00 - loss: 0.5706 - acc: 0.74 - ETA: 9:56 - loss: 0.5681 - acc: 0.7465 - ETA: 9:52 - loss: 0.5641 - acc: 0.750 - ETA: 9:48 - loss: 0.5637 - acc: 0.750 - ETA: 9:44 - loss: 0.5633 - acc: 0.750 - ETA: 9:39 - loss: 0.5646 - acc: 0.748 - ETA: 9:35 - loss: 0.5630 - acc: 0.750 - ETA: 9:31 - loss: 0.5648 - acc: 0.748 - ETA: 9:27 - loss: 0.5715 - acc: 0.742 - ETA: 9:23 - loss: 0.5699 - acc: 0.744 - ETA: 9:19 - loss: 0.5684 - acc: 0.745 - ETA: 9:14 - loss: 0.5671 - acc: 0.746 - ETA: 9:10 - loss: 0.5646 - acc: 0.748 - ETA: 9:06 - loss: 0.5635 - acc: 0.750 - ETA: 9:02 - loss: 0.5668 - acc: 0.747 - ETA: 8:58 - loss: 0.5643 - acc: 0.749 - ETA: 8:54 - loss: 0.5634 - acc: 0.750 - ETA: 8:50 - loss: 0.5614 - acc: 0.751 - ETA: 8:46 - loss: 0.5644 - acc: 0.749 - ETA: 8:42 - loss: 0.5615 - acc: 0.751 - ETA: 8:38 - loss: 0.5645 - acc: 0.749 - ETA: 8:34 - loss: 0.5668 - acc: 0.746 - ETA: 8:30 - loss: 0.5704 - acc: 0.743 - ETA: 8:26 - loss: 0.5694 - acc: 0.744 - ETA: 8:21 - loss: 0.5683 - acc: 0.745 - ETA: 8:17 - loss: 0.5673 - acc: 0.746 - ETA: 8:13 - loss: 0.5671 - acc: 0.746 - ETA: 8:09 - loss: 0.5676 - acc: 0.745 - ETA: 8:05 - loss: 0.5691 - acc: 0.744 - ETA: 8:01 - loss: 0.5668 - acc: 0.746 - ETA: 7:57 - loss: 0.5694 - acc: 0.744 - ETA: 7:53 - loss: 0.5695 - acc: 0.744 - ETA: 7:49 - loss: 0.5696 - acc: 0.744 - ETA: 7:44 - loss: 0.5676 - acc: 0.746 - ETA: 7:40 - loss: 0.5700 - acc: 0.743 - ETA: 7:36 - loss: 0.5705 - acc: 0.743 - ETA: 7:33 - loss: 0.5729 - acc: 0.741 - ETA: 7:29 - loss: 0.5740 - acc: 0.740 - ETA: 7:25 - loss: 0.5740 - acc: 0.740 - ETA: 7:20 - loss: 0.5733 - acc: 0.741 - ETA: 7:16 - loss: 0.5711 - acc: 0.743 - ETA: 7:12 - loss: 0.5705 - acc: 0.744 - ETA: 7:08 - loss: 0.5729 - acc: 0.741 - ETA: 7:04 - loss: 0.5718 - acc: 0.742 - ETA: 7:00 - loss: 0.5707 - acc: 0.743 - ETA: 6:56 - loss: 0.5701 - acc: 0.744 - ETA: 6:52 - loss: 0.5724 - acc: 0.742 - ETA: 6:48 - loss: 0.5699 - acc: 0.744 - ETA: 6:44 - loss: 0.5679 - acc: 0.746 - ETA: 6:39 - loss: 0.5664 - acc: 0.748 - ETA: 6:36 - loss: 0.5683 - acc: 0.746 - ETA: 6:31 - loss: 0.5677 - acc: 0.746 - ETA: 6:27 - loss: 0.5685 - acc: 0.745 - ETA: 6:23 - loss: 0.5694 - acc: 0.745 - ETA: 6:19 - loss: 0.5694 - acc: 0.745 - ETA: 6:15 - loss: 0.5678 - acc: 0.746 - ETA: 6:11 - loss: 0.5672 - acc: 0.747 - ETA: 6:07 - loss: 0.5695 - acc: 0.744 - ETA: 6:03 - loss: 0.5695 - acc: 0.745 - ETA: 5:59 - loss: 0.5708 - acc: 0.743 - ETA: 5:55 - loss: 0.5717 - acc: 0.743 - ETA: 5:51 - loss: 0.5715 - acc: 0.743 - ETA: 5:47 - loss: 0.5705 - acc: 0.744 - ETA: 5:42 - loss: 0.5712 - acc: 0.743 - ETA: 5:38 - loss: 0.5715 - acc: 0.743 - ETA: 5:34 - loss: 0.5718 - acc: 0.742 - ETA: 5:30 - loss: 0.5705 - acc: 0.744 - ETA: 5:26 - loss: 0.5704 - acc: 0.744 - ETA: 5:22 - loss: 0.5718 - acc: 0.742 - ETA: 5:18 - loss: 0.5716 - acc: 0.742 - ETA: 5:13 - loss: 0.5730 - acc: 0.741 - ETA: 5:09 - loss: 0.5737 - acc: 0.740 - ETA: 5:05 - loss: 0.5737 - acc: 0.740 - ETA: 5:01 - loss: 0.5732 - acc: 0.741 - ETA: 4:57 - loss: 0.5734 - acc: 0.741 - ETA: 4:53 - loss: 0.5747 - acc: 0.739 - ETA: 4:49 - loss: 0.5739 - acc: 0.740 - ETA: 4:44 - loss: 0.5727 - acc: 0.741 - ETA: 4:40 - loss: 0.5732 - acc: 0.741 - ETA: 4:36 - loss: 0.5727 - acc: 0.741 - ETA: 4:32 - loss: 0.5727 - acc: 0.741 - ETA: 4:28 - loss: 0.5723 - acc: 0.742 - ETA: 4:24 - loss: 0.5720 - acc: 0.742 - ETA: 4:20 - loss: 0.5719 - acc: 0.742 - ETA: 4:16 - loss: 0.5708 - acc: 0.743 - ETA: 4:11 - loss: 0.5694 - acc: 0.744 - ETA: 4:07 - loss: 0.5703 - acc: 0.743 - ETA: 4:03 - loss: 0.5702 - acc: 0.744 - ETA: 3:59 - loss: 0.5698 - acc: 0.744 - ETA: 3:55 - loss: 0.5700 - acc: 0.744 - ETA: 3:51 - loss: 0.5701 - acc: 0.743 - ETA: 3:47 - loss: 0.5701 - acc: 0.743 - ETA: 3:43 - loss: 0.5701 - acc: 0.744 - ETA: 3:38 - loss: 0.5690 - acc: 0.744 - ETA: 3:34 - loss: 0.5695 - acc: 0.744 - ETA: 3:30 - loss: 0.5691 - acc: 0.744 - ETA: 3:26 - loss: 0.5698 - acc: 0.744 - ETA: 3:22 - loss: 0.5714 - acc: 0.742 - ETA: 3:18 - loss: 0.5707 - acc: 0.743 - ETA: 3:14 - loss: 0.5706 - acc: 0.743 - ETA: 3:09 - loss: 0.5700 - acc: 0.744 - ETA: 3:05 - loss: 0.5705 - acc: 0.743 - ETA: 3:01 - loss: 0.5699 - acc: 0.744 - ETA: 2:57 - loss: 0.5709 - acc: 0.743 - ETA: 2:53 - loss: 0.5715 - acc: 0.742 - ETA: 2:49 - loss: 0.5720 - acc: 0.742 - ETA: 2:45 - loss: 0.5728 - acc: 0.741 - ETA: 2:41 - loss: 0.5725 - acc: 0.741 - ETA: 2:37 - loss: 0.5724 - acc: 0.742 - ETA: 2:32 - loss: 0.5719 - acc: 0.742 - ETA: 2:28 - loss: 0.5726 - acc: 0.741 - ETA: 2:24 - loss: 0.5726 - acc: 0.741 - ETA: 2:20 - loss: 0.5723 - acc: 0.742 - ETA: 2:16 - loss: 0.5722 - acc: 0.742 - ETA: 2:12 - loss: 0.5722 - acc: 0.742 - ETA: 2:08 - loss: 0.5715 - acc: 0.743 - ETA: 2:04 - loss: 0.5716 - acc: 0.743 - ETA: 1:59 - loss: 0.5716 - acc: 0.743 - ETA: 1:55 - loss: 0.5722 - acc: 0.742 - ETA: 1:51 - loss: 0.5728 - acc: 0.741 - ETA: 1:47 - loss: 0.5726 - acc: 0.742 - ETA: 1:43 - loss: 0.5720 - acc: 0.742 - ETA: 1:39 - loss: 0.5729 - acc: 0.741 - ETA: 1:35 - loss: 0.5722 - acc: 0.742 - ETA: 1:31 - loss: 0.5723 - acc: 0.742 - ETA: 1:26 - loss: 0.5725 - acc: 0.742 - ETA: 1:22 - loss: 0.5725 - acc: 0.742 - ETA: 1:18 - loss: 0.5718 - acc: 0.742 - ETA: 1:14 - loss: 0.5719 - acc: 0.742 - ETA: 1:10 - loss: 0.5721 - acc: 0.742 - ETA: 1:06 - loss: 0.5722 - acc: 0.742 - ETA: 1:02 - loss: 0.5719 - acc: 0.742 - ETA: 57s - loss: 0.5725 - acc: 0.742 - ETA: 53s - loss: 0.5723 - acc: 0.74 - ETA: 49s - loss: 0.5729 - acc: 0.74 - ETA: 45s - loss: 0.5734 - acc: 0.74 - ETA: 41s - loss: 0.5740 - acc: 0.74 - ETA: 37s - loss: 0.5735 - acc: 0.74 - ETA: 33s - loss: 0.5730 - acc: 0.74 - ETA: 28s - loss: 0.5731 - acc: 0.74 - ETA: 24s - loss: 0.5733 - acc: 0.74 - ETA: 20s - loss: 0.5730 - acc: 0.74 - ETA: 16s - loss: 0.5742 - acc: 0.74 - ETA: 12s - loss: 0.5733 - acc: 0.74 - ETA: 8s - loss: 0.5729 - acc: 0.7417 - ETA: 4s - loss: 0.5726 - acc: 0.741 - 675s 129ms/step - loss: 0.5716 - acc: 0.7429\n"
     ]
    },
    {
     "data": {
      "text/plain": [
       "<keras.callbacks.History at 0x2551c3860f0>"
      ]
     },
     "execution_count": 165,
     "metadata": {},
     "output_type": "execute_result"
    }
   ],
   "source": [
    "model2.compile(optimizer='adam', \n",
    "              loss='sparse_categorical_crossentropy',\n",
    "              metrics=['accuracy'])\n",
    "\n",
    "model2.fit(X_train, y_train, epochs=5)"
   ]
  },
  {
   "cell_type": "code",
   "execution_count": 166,
   "metadata": {},
   "outputs": [
    {
     "name": "stdout",
     "output_type": "stream",
     "text": [
      "624/624 [==============================] - ETA: 34 - ETA: 32 - ETA: 30 - ETA: 29 - ETA: 27 - ETA: 25 - ETA: 23 - ETA: 21 - ETA: 19 - ETA: 17 - ETA: 15 - ETA: 14 - ETA: 12 - ETA: 10 - ETA: 8 - ETA:  - ETA:  - ETA:  - ETA:  - 36s 58ms/step\n",
      "Test accuracy: 0.7387820512820513\n"
     ]
    }
   ],
   "source": [
    "test_loss, test_acc = model.evaluate(X_test, y_test)\n",
    "\n",
    "print('Test accuracy:', test_acc)"
   ]
  },
  {
   "cell_type": "code",
   "execution_count": 29,
   "metadata": {},
   "outputs": [],
   "source": [
    "from keras.models import Model\n",
    "intermediate_layer_model = Model(inputs=model.input,\n",
    "                                 outputs=model.get_layer('Features_CNN').output)\n",
    "training_data = intermediate_layer_model.predict(X_train)"
   ]
  },
  {
   "cell_type": "code",
   "execution_count": 30,
   "metadata": {},
   "outputs": [],
   "source": [
    "intermediate_layer_model = Model(inputs=model.input,\n",
    "                                 outputs=model.get_layer('Features_CNN').output)\n",
    "intermediate_output = intermediate_layer_model.predict(X_test)"
   ]
  },
  {
   "cell_type": "code",
   "execution_count": 47,
   "metadata": {},
   "outputs": [],
   "source": [
    "import os\n",
    "os.chdir(r'C:\\Users\\Sundeep\\Desktop\\keras-oneshot-master')"
   ]
  },
  {
   "cell_type": "code",
   "execution_count": 32,
   "metadata": {},
   "outputs": [],
   "source": [
    "def datatoBET(X_train, y_train, model):\n",
    "    \n",
    "    intermediate_layer_model = Model(inputs=model.input,\n",
    "                                 outputs=model.get_layer('Features_CNN').output)\n",
    "    training_data = intermediate_layer_model.predict(X_train)\n",
    "    \n",
    "    y1 = pd.DataFrame(y_train)\n",
    "    y2 = pd.get_dummies(y1[0])\n",
    "    y2.columns = [str('Target_') +str(x) for x in range(0,2)]\n",
    "    df = pd.DataFrame(training_data)\n",
    "    train_data = pd.concat([df, y2], axis=1)\n",
    "    \n",
    "    return bet.create_bet(train_data)\n",
    "    \n",
    "    "
   ]
  },
  {
   "cell_type": "code",
   "execution_count": 51,
   "metadata": {},
   "outputs": [],
   "source": [
    "def model_pred(BET_):\n",
    "    \n",
    "    from artml.explore import stats\n",
    "    df_stats = stats.univariate(BET_)\n",
    "    a = np.array(df_stats.loc[['Standard_deviation']])\n",
    "    b = np.argwhere(a == 0)\n",
    "    BET = BET_.drop(list(b[:,1]), 1)\n",
    "    BET = BET.drop(list(b[:,1]))\n",
    "    \n",
    "    import artml\n",
    "    from artml.models import QDA\n",
    "    qda = QDA.QuadraticDiscriminantAnalysis()\n",
    "    qda.fit(BET, 'Target_0', 'Target_1')\n",
    "    y_pred_QDA = qda.predict(pd.DataFrame(intermediate_output).drop(list(b[:,1]), 1))\n",
    "    y_prob_QDA = qda.ensemble_predict(pd.DataFrame(intermediate_output).drop(list(b[:,1]), 1))\n",
    "    qda_score = qda.score(pd.DataFrame(intermediate_output).drop(list(b[:,1]), 1), np.array(y_test.flatten()))\n",
    "    print(\"accuracy for QDA classifier is: \" + str(qda_score))\n",
    "    \n",
    "    from artml.models import naive_bayes\n",
    "    gnb = naive_bayes.GaussianNB()\n",
    "    gnb.fit(BET, 'Target_0', 'Target_1')\n",
    "    y_pred_gnb = gnb.predict(pd.DataFrame(intermediate_output).drop(list(b[:,1]), 1).values)\n",
    "    y_prob_gnb = gnb.predict_log_proba(pd.DataFrame(intermediate_output).drop(list(b[:,1]), 1).values)\n",
    "    gnb_score = gnb.score(pd.DataFrame(intermediate_output).drop(list(b[:,1]), 1).as_matrix(), np.array(y_test.flatten()))\n",
    "    print(\"accuracy for Naive bayes classifier is: \" + str(gnb_score))\n",
    "    \n",
    "    return y_pred_QDA, y_prob_QDA, y_pred_gnb, y_prob_gnb"
   ]
  },
  {
   "cell_type": "code",
   "execution_count": 49,
   "metadata": {},
   "outputs": [],
   "source": [
    "from artml import bet"
   ]
  },
  {
   "cell_type": "code",
   "execution_count": 50,
   "metadata": {},
   "outputs": [
    {
     "data": {
      "application/vnd.jupyter.widget-view+json": {
       "model_id": "e9f73bc8215e4e6f9de3adcf890cb879",
       "version_major": 2,
       "version_minor": 0
      },
      "text/plain": [
       "HBox(children=(IntProgress(value=0, max=1154), HTML(value='')))"
      ]
     },
     "metadata": {},
     "output_type": "display_data"
    },
    {
     "name": "stdout",
     "output_type": "stream",
     "text": [
      "\n"
     ]
    }
   ],
   "source": [
    "BET_dataset1 = datatoBET(X_train, y_train, model)"
   ]
  },
  {
   "cell_type": "code",
   "execution_count": 52,
   "metadata": {
    "scrolled": true
   },
   "outputs": [
    {
     "name": "stdout",
     "output_type": "stream",
     "text": [
      "Handling zero determinent Exception with dummies!\n",
      "Handling zero determinent Exception with dummies!\n",
      "Handling zero determinent Exception with dummies!\n",
      "accuracy for QDA classifier is: 0.7564102564102564\n",
      "accuracy for Naive bayes classifier is: 0.7788461538461539\n"
     ]
    }
   ],
   "source": [
    "y_pred_QDA_main1, y_prob_QDA_main1, y_pred_gnb_main1, y_prob_gnb_main1 = model_pred(BET_dataset1)"
   ]
  },
  {
   "cell_type": "code",
   "execution_count": 53,
   "metadata": {},
   "outputs": [
    {
     "data": {
      "image/png": "[encoded data removed]",
      "text/plain": [
       "<Figure size 360x360 with 1 Axes>"
      ]
     },
     "metadata": {},
     "output_type": "display_data"
    }
   ],
   "source": [
    "import matplotlib.pyplot as plt\n",
    "CM = confusion_matrix(y_true, y_pred_QDA_main1)\n",
    "from mlxtend.plotting import plot_confusion_matrix\n",
    "fig, ax = plot_confusion_matrix(conf_mat=CM ,  figsize=(5, 5))\n",
    "plt.show()"
   ]
  },
  {
   "cell_type": "code",
   "execution_count": 54,
   "metadata": {},
   "outputs": [],
   "source": [
    "EXTRA_TRAIN_DIR = \"C:\\\\Users\\\\Sundeep\\\\Desktop\\\\keras-oneshot-master\\\\rsna-pneumonia-detection-challenge\\\\Traindata1\\\\\""
   ]
  },
  {
   "cell_type": "code",
   "execution_count": 55,
   "metadata": {},
   "outputs": [
    {
     "data": {
      "application/vnd.jupyter.widget-view+json": {
       "model_id": "8bd9a2482ec24a5ea9171faa174e0a23",
       "version_major": 2,
       "version_minor": 0
      },
      "text/plain": [
       "HBox(children=(IntProgress(value=0, max=3140), HTML(value='')))"
      ]
     },
     "metadata": {},
     "output_type": "display_data"
    },
    {
     "name": "stdout",
     "output_type": "stream",
     "text": [
      "\n"
     ]
    },
    {
     "data": {
      "application/vnd.jupyter.widget-view+json": {
       "model_id": "aa41b6243eb64e59943b8143944233ea",
       "version_major": 2,
       "version_minor": 0
      },
      "text/plain": [
       "HBox(children=(IntProgress(value=0, max=720), HTML(value='')))"
      ]
     },
     "metadata": {},
     "output_type": "display_data"
    },
    {
     "name": "stdout",
     "output_type": "stream",
     "text": [
      "\n"
     ]
    }
   ],
   "source": [
    "X_train_new, y_train_new = get_data(EXTRA_TRAIN_DIR)"
   ]
  },
  {
   "cell_type": "code",
   "execution_count": 56,
   "metadata": {},
   "outputs": [],
   "source": [
    "X_train_new=X_train_new.reshape(3860,3,150,150)"
   ]
  },
  {
   "cell_type": "code",
   "execution_count": 57,
   "metadata": {},
   "outputs": [
    {
     "data": {
      "application/vnd.jupyter.widget-view+json": {
       "model_id": "abd0fef0ffa241c487a43854525ba861",
       "version_major": 2,
       "version_minor": 0
      },
      "text/plain": [
       "HBox(children=(IntProgress(value=0, max=1154), HTML(value='')))"
      ]
     },
     "metadata": {},
     "output_type": "display_data"
    },
    {
     "name": "stdout",
     "output_type": "stream",
     "text": [
      "\n"
     ]
    }
   ],
   "source": [
    "BET_1 = datatoBET(X_train_new, y_train_new, model)"
   ]
  },
  {
   "cell_type": "code",
   "execution_count": 58,
   "metadata": {},
   "outputs": [
    {
     "name": "stdout",
     "output_type": "stream",
     "text": [
      "Handling zero determinent Exception with dummies!\n",
      "Handling zero determinent Exception with dummies!\n",
      "Handling zero determinent Exception with dummies!\n",
      "accuracy for QDA classifier is: 0.6121794871794872\n",
      "accuracy for Naive bayes classifier is: 0.7083333333333334\n"
     ]
    }
   ],
   "source": [
    "y_pred_QDA_1, y_prob_QDA_1, y_pred_gnb_1, y_prob_gnb_1 = model_pred(BET_1)"
   ]
  },
  {
   "cell_type": "code",
   "execution_count": 59,
   "metadata": {},
   "outputs": [
    {
     "data": {
      "image/png": "[encoded data removed]",
      "text/plain": [
       "<Figure size 360x360 with 1 Axes>"
      ]
     },
     "metadata": {},
     "output_type": "display_data"
    }
   ],
   "source": [
    "import matplotlib.pyplot as plt\n",
    "CM = confusion_matrix(y_true, y_pred_QDA_1)\n",
    "from mlxtend.plotting import plot_confusion_matrix\n",
    "fig, ax = plot_confusion_matrix(conf_mat=CM ,  figsize=(5, 5))\n",
    "plt.show()"
   ]
  },
  {
   "cell_type": "code",
   "execution_count": 60,
   "metadata": {},
   "outputs": [],
   "source": [
    "EXTRA_TRAIN_DIR = \"C:\\\\Users\\\\Sundeep\\\\Desktop\\\\keras-oneshot-master\\\\rsna-pneumonia-detection-challenge\\\\Traindata5\\\\\""
   ]
  },
  {
   "cell_type": "code",
   "execution_count": 61,
   "metadata": {},
   "outputs": [
    {
     "data": {
      "application/vnd.jupyter.widget-view+json": {
       "model_id": "621233e0b3a54838bfb7b187add3fe38",
       "version_major": 2,
       "version_minor": 0
      },
      "text/plain": [
       "HBox(children=(IntProgress(value=0, max=3804), HTML(value='')))"
      ]
     },
     "metadata": {},
     "output_type": "display_data"
    },
    {
     "name": "stdout",
     "output_type": "stream",
     "text": [
      "\n"
     ]
    },
    {
     "data": {
      "application/vnd.jupyter.widget-view+json": {
       "model_id": "01d3002d4dc7468ea5b4b4f4f426a7c3",
       "version_major": 2,
       "version_minor": 0
      },
      "text/plain": [
       "HBox(children=(IntProgress(value=0, max=792), HTML(value='')))"
      ]
     },
     "metadata": {},
     "output_type": "display_data"
    },
    {
     "name": "stdout",
     "output_type": "stream",
     "text": [
      "\n"
     ]
    }
   ],
   "source": [
    "X_train_new1, y_train_new1 = get_data(EXTRA_TRAIN_DIR)"
   ]
  },
  {
   "cell_type": "code",
   "execution_count": 62,
   "metadata": {},
   "outputs": [],
   "source": [
    "X_train_new1 = X_train_new1.reshape(X_train_new1.shape[0],3,150,150)"
   ]
  },
  {
   "cell_type": "code",
   "execution_count": 63,
   "metadata": {},
   "outputs": [
    {
     "data": {
      "application/vnd.jupyter.widget-view+json": {
       "model_id": "7d9e71dbfb614c31be535ed8144a2190",
       "version_major": 2,
       "version_minor": 0
      },
      "text/plain": [
       "HBox(children=(IntProgress(value=0, max=1154), HTML(value='')))"
      ]
     },
     "metadata": {},
     "output_type": "display_data"
    },
    {
     "name": "stdout",
     "output_type": "stream",
     "text": [
      "\n"
     ]
    }
   ],
   "source": [
    "BET_2 = datatoBET(X_train_new1, y_train_new1, model)"
   ]
  },
  {
   "cell_type": "code",
   "execution_count": 64,
   "metadata": {},
   "outputs": [
    {
     "name": "stdout",
     "output_type": "stream",
     "text": [
      "Handling zero determinent Exception with dummies!\n",
      "Handling zero determinent Exception with dummies!\n",
      "Handling zero determinent Exception with dummies!\n",
      "accuracy for QDA classifier is: 0.5849358974358975\n",
      "accuracy for Naive bayes classifier is: 0.7051282051282052\n"
     ]
    }
   ],
   "source": [
    "y_pred_QDA_2, y_prob_QDA_2, y_pred_gnb_2, y_prob_gnb_2 = model_pred(BET_2)"
   ]
  },
  {
   "cell_type": "code",
   "execution_count": 65,
   "metadata": {},
   "outputs": [
    {
     "data": {
      "image/png": "[encoded data removed]",
      "text/plain": [
       "<Figure size 360x360 with 1 Axes>"
      ]
     },
     "metadata": {},
     "output_type": "display_data"
    }
   ],
   "source": [
    "import matplotlib.pyplot as plt\n",
    "CM = confusion_matrix(y_true, y_pred_gnb_2)\n",
    "from mlxtend.plotting import plot_confusion_matrix\n",
    "fig, ax = plot_confusion_matrix(conf_mat=CM ,  figsize=(5, 5))\n",
    "plt.show()"
   ]
  },
  {
   "cell_type": "code",
   "execution_count": null,
   "metadata": {},
   "outputs": [],
   "source": []
  },
  {
   "cell_type": "code",
   "execution_count": 66,
   "metadata": {},
   "outputs": [],
   "source": [
    "EXTRA_TRAIN_DIR = \"C:\\\\Users\\\\Sundeep\\\\Desktop\\\\keras-oneshot-master\\\\rsna-pneumonia-detection-challenge\\\\Traindata6\\\\\""
   ]
  },
  {
   "cell_type": "code",
   "execution_count": 67,
   "metadata": {},
   "outputs": [
    {
     "data": {
      "application/vnd.jupyter.widget-view+json": {
       "model_id": "873c9bf204c946289ad598dc94741a1f",
       "version_major": 2,
       "version_minor": 0
      },
      "text/plain": [
       "HBox(children=(IntProgress(value=0, max=72), HTML(value='')))"
      ]
     },
     "metadata": {},
     "output_type": "display_data"
    },
    {
     "name": "stdout",
     "output_type": "stream",
     "text": [
      "\n"
     ]
    },
    {
     "data": {
      "application/vnd.jupyter.widget-view+json": {
       "model_id": "f07d3114be324214addb185b8e0f1642",
       "version_major": 2,
       "version_minor": 0
      },
      "text/plain": [
       "HBox(children=(IntProgress(value=0, max=2208), HTML(value='')))"
      ]
     },
     "metadata": {},
     "output_type": "display_data"
    },
    {
     "name": "stdout",
     "output_type": "stream",
     "text": [
      "\n"
     ]
    }
   ],
   "source": [
    "X_train_new2, y_train_new2 = get_data(EXTRA_TRAIN_DIR)"
   ]
  },
  {
   "cell_type": "code",
   "execution_count": 68,
   "metadata": {},
   "outputs": [],
   "source": [
    "X_train_new2 = X_train_new2.reshape(X_train_new2.shape[0],3,150,150)"
   ]
  },
  {
   "cell_type": "code",
   "execution_count": 69,
   "metadata": {},
   "outputs": [
    {
     "data": {
      "application/vnd.jupyter.widget-view+json": {
       "model_id": "cebdbcf92a98458ca97f2d0ac8179fd2",
       "version_major": 2,
       "version_minor": 0
      },
      "text/plain": [
       "HBox(children=(IntProgress(value=0, max=1154), HTML(value='')))"
      ]
     },
     "metadata": {},
     "output_type": "display_data"
    },
    {
     "name": "stdout",
     "output_type": "stream",
     "text": [
      "\n"
     ]
    }
   ],
   "source": [
    "BET_3 = datatoBET(X_train_new2, y_train_new2, model)"
   ]
  },
  {
   "cell_type": "code",
   "execution_count": 70,
   "metadata": {},
   "outputs": [
    {
     "name": "stdout",
     "output_type": "stream",
     "text": [
      "Handling zero determinent Exception with dummies!\n",
      "Handling zero determinent Exception with dummies!\n",
      "Handling zero determinent Exception with dummies!\n",
      "accuracy for QDA classifier is: 0.6474358974358975\n",
      "accuracy for Naive bayes classifier is: 0.7051282051282052\n"
     ]
    }
   ],
   "source": [
    "y_pred_QDA_3, y_prob_QDA_3, y_pred_gnb_3, y_prob_gnb_3 = model_pred(BET_3)"
   ]
  },
  {
   "cell_type": "code",
   "execution_count": 71,
   "metadata": {},
   "outputs": [
    {
     "data": {
      "image/png": "[encoded data removed]",
      "text/plain": [
       "<Figure size 360x360 with 1 Axes>"
      ]
     },
     "metadata": {},
     "output_type": "display_data"
    }
   ],
   "source": [
    "import matplotlib.pyplot as plt\n",
    "CM = confusion_matrix(y_true, y_pred_QDA_3)\n",
    "from mlxtend.plotting import plot_confusion_matrix\n",
    "fig, ax = plot_confusion_matrix(conf_mat=CM ,  figsize=(5, 5))\n",
    "plt.show()"
   ]
  },
  {
   "cell_type": "code",
   "execution_count": null,
   "metadata": {},
   "outputs": [],
   "source": []
  },
  {
   "cell_type": "code",
   "execution_count": 74,
   "metadata": {},
   "outputs": [],
   "source": [
    "EXTRA_TRAIN_DIR = \"C:\\\\Users\\\\Sundeep\\\\Desktop\\\\keras-oneshot-master\\\\rsna-pneumonia-detection-challenge\\\\Traindata7\\\\\""
   ]
  },
  {
   "cell_type": "code",
   "execution_count": 75,
   "metadata": {},
   "outputs": [
    {
     "data": {
      "application/vnd.jupyter.widget-view+json": {
       "model_id": "d5190d86e7d843679305f3fadc83e344",
       "version_major": 2,
       "version_minor": 0
      },
      "text/plain": [
       "HBox(children=(IntProgress(value=0, max=144), HTML(value='')))"
      ]
     },
     "metadata": {},
     "output_type": "display_data"
    },
    {
     "name": "stdout",
     "output_type": "stream",
     "text": [
      "\n"
     ]
    },
    {
     "data": {
      "application/vnd.jupyter.widget-view+json": {
       "model_id": "c074ae37ced7493da16586d6336c3edb",
       "version_major": 2,
       "version_minor": 0
      },
      "text/plain": [
       "HBox(children=(IntProgress(value=0, max=2016), HTML(value='')))"
      ]
     },
     "metadata": {},
     "output_type": "display_data"
    },
    {
     "name": "stdout",
     "output_type": "stream",
     "text": [
      "\n"
     ]
    }
   ],
   "source": [
    "X_train_new3, y_train_new3 = get_data(EXTRA_TRAIN_DIR)"
   ]
  },
  {
   "cell_type": "code",
   "execution_count": 76,
   "metadata": {},
   "outputs": [],
   "source": [
    "X_train_new3 = X_train_new3.reshape(X_train_new3.shape[0],3,150,150)"
   ]
  },
  {
   "cell_type": "code",
   "execution_count": 77,
   "metadata": {},
   "outputs": [
    {
     "data": {
      "application/vnd.jupyter.widget-view+json": {
       "model_id": "57fc9ad6f4ab4960b8fbfeb5aa342b33",
       "version_major": 2,
       "version_minor": 0
      },
      "text/plain": [
       "HBox(children=(IntProgress(value=0, max=1154), HTML(value='')))"
      ]
     },
     "metadata": {},
     "output_type": "display_data"
    },
    {
     "name": "stdout",
     "output_type": "stream",
     "text": [
      "\n"
     ]
    }
   ],
   "source": [
    "BET_4 = datatoBET(X_train_new3, y_train_new3, model)"
   ]
  },
  {
   "cell_type": "code",
   "execution_count": 78,
   "metadata": {},
   "outputs": [
    {
     "name": "stdout",
     "output_type": "stream",
     "text": [
      "Handling zero determinent Exception with dummies!\n",
      "Handling zero determinent Exception with dummies!\n",
      "Handling zero determinent Exception with dummies!\n",
      "accuracy for QDA classifier is: 0.657051282051282\n",
      "accuracy for Naive bayes classifier is: 0.6490384615384616\n"
     ]
    }
   ],
   "source": [
    "y_pred_QDA_4, y_prob_QDA_4, y_pred_gnb_4, y_prob_gnb_4 = model_pred(BET_4)"
   ]
  },
  {
   "cell_type": "code",
   "execution_count": 79,
   "metadata": {},
   "outputs": [
    {
     "data": {
      "image/png": "[encoded data removed]",
      "text/plain": [
       "<Figure size 360x360 with 1 Axes>"
      ]
     },
     "metadata": {},
     "output_type": "display_data"
    }
   ],
   "source": [
    "import matplotlib.pyplot as plt\n",
    "CM = confusion_matrix(y_true, y_pred_gnb_4)\n",
    "from mlxtend.plotting import plot_confusion_matrix\n",
    "fig, ax = plot_confusion_matrix(conf_mat=CM ,  figsize=(5, 5))\n",
    "plt.show()"
   ]
  },
  {
   "cell_type": "code",
   "execution_count": null,
   "metadata": {},
   "outputs": [],
   "source": []
  },
  {
   "cell_type": "code",
   "execution_count": 81,
   "metadata": {},
   "outputs": [],
   "source": [
    "EXTRA_TRAIN_DIR = \"C:\\\\Users\\\\Sundeep\\\\Desktop\\\\keras-oneshot-master\\\\rsna-pneumonia-detection-challenge\\\\Traindata8\\\\\""
   ]
  },
  {
   "cell_type": "code",
   "execution_count": 82,
   "metadata": {},
   "outputs": [
    {
     "data": {
      "application/vnd.jupyter.widget-view+json": {
       "model_id": "7baaaffdf9da4ac7b9c9ae90b6133553",
       "version_major": 2,
       "version_minor": 0
      },
      "text/plain": [
       "HBox(children=(IntProgress(value=0, max=2340), HTML(value='')))"
      ]
     },
     "metadata": {},
     "output_type": "display_data"
    },
    {
     "name": "stdout",
     "output_type": "stream",
     "text": [
      "\n"
     ]
    },
    {
     "data": {
      "application/vnd.jupyter.widget-view+json": {
       "model_id": "9fbe7b7cd1d4476f89078722a9874b2c",
       "version_major": 2,
       "version_minor": 0
      },
      "text/plain": [
       "HBox(children=(IntProgress(value=0, max=144), HTML(value='')))"
      ]
     },
     "metadata": {},
     "output_type": "display_data"
    },
    {
     "name": "stdout",
     "output_type": "stream",
     "text": [
      "\n"
     ]
    }
   ],
   "source": [
    "X_train_new4, y_train_new4 = get_data(EXTRA_TRAIN_DIR)"
   ]
  },
  {
   "cell_type": "code",
   "execution_count": 83,
   "metadata": {},
   "outputs": [],
   "source": [
    "X_train_new4 = X_train_new4.reshape(X_train_new4.shape[0],3,150,150)"
   ]
  },
  {
   "cell_type": "code",
   "execution_count": 84,
   "metadata": {},
   "outputs": [
    {
     "data": {
      "application/vnd.jupyter.widget-view+json": {
       "model_id": "76a61f88d19c4fe48aa5daf5bbd1b14e",
       "version_major": 2,
       "version_minor": 0
      },
      "text/plain": [
       "HBox(children=(IntProgress(value=0, max=1154), HTML(value='')))"
      ]
     },
     "metadata": {},
     "output_type": "display_data"
    },
    {
     "name": "stdout",
     "output_type": "stream",
     "text": [
      "\n"
     ]
    }
   ],
   "source": [
    "BET_5 = datatoBET(X_train_new4, y_train_new4, model)"
   ]
  },
  {
   "cell_type": "code",
   "execution_count": 85,
   "metadata": {},
   "outputs": [
    {
     "name": "stdout",
     "output_type": "stream",
     "text": [
      "Handling zero determinent Exception with dummies!\n",
      "Handling zero determinent Exception with dummies!\n",
      "Handling zero determinent Exception with dummies!\n",
      "accuracy for QDA classifier is: 0.3974358974358974\n",
      "accuracy for Naive bayes classifier is: 0.6298076923076923\n"
     ]
    }
   ],
   "source": [
    "y_pred_QDA_5, y_prob_QDA_5, y_pred_gnb_5, y_prob_gnb_5 = model_pred(BET_5)"
   ]
  },
  {
   "cell_type": "code",
   "execution_count": 86,
   "metadata": {},
   "outputs": [
    {
     "data": {
      "image/png": "[encoded data removed]",
      "text/plain": [
       "<Figure size 360x360 with 1 Axes>"
      ]
     },
     "metadata": {},
     "output_type": "display_data"
    }
   ],
   "source": [
    "import matplotlib.pyplot as plt\n",
    "CM = confusion_matrix(y_true, y_pred_gnb_5)\n",
    "from mlxtend.plotting import plot_confusion_matrix\n",
    "fig, ax = plot_confusion_matrix(conf_mat=CM ,  figsize=(5, 5))\n",
    "plt.show()"
   ]
  },
  {
   "cell_type": "code",
   "execution_count": null,
   "metadata": {},
   "outputs": [],
   "source": []
  },
  {
   "cell_type": "code",
   "execution_count": 87,
   "metadata": {},
   "outputs": [],
   "source": [
    "EXTRA_TRAIN_DIR = \"C:\\\\Users\\\\Sundeep\\\\Desktop\\\\keras-oneshot-master\\\\rsna-pneumonia-detection-challenge\\\\Traindata9\\\\\""
   ]
  },
  {
   "cell_type": "code",
   "execution_count": 88,
   "metadata": {},
   "outputs": [
    {
     "data": {
      "application/vnd.jupyter.widget-view+json": {
       "model_id": "d2036e73143c492ea3c559419eb7b3e6",
       "version_major": 2,
       "version_minor": 0
      },
      "text/plain": [
       "HBox(children=(IntProgress(value=0, max=2520), HTML(value='')))"
      ]
     },
     "metadata": {},
     "output_type": "display_data"
    },
    {
     "name": "stdout",
     "output_type": "stream",
     "text": [
      "\n"
     ]
    },
    {
     "data": {
      "application/vnd.jupyter.widget-view+json": {
       "model_id": "e02cc77fc9fe496fa07f0ea2edf1a5c6",
       "version_major": 2,
       "version_minor": 0
      },
      "text/plain": [
       "HBox(children=(IntProgress(value=0, max=132), HTML(value='')))"
      ]
     },
     "metadata": {},
     "output_type": "display_data"
    },
    {
     "name": "stdout",
     "output_type": "stream",
     "text": [
      "\n"
     ]
    }
   ],
   "source": [
    "X_train_new5, y_train_new5 = get_data(EXTRA_TRAIN_DIR)"
   ]
  },
  {
   "cell_type": "code",
   "execution_count": 89,
   "metadata": {},
   "outputs": [],
   "source": [
    "X_train_new5 = X_train_new5.reshape(X_train_new5.shape[0],3,150,150)"
   ]
  },
  {
   "cell_type": "code",
   "execution_count": 90,
   "metadata": {},
   "outputs": [
    {
     "data": {
      "application/vnd.jupyter.widget-view+json": {
       "model_id": "8ab8e70e1fb64f76b74fb9bbd30f3392",
       "version_major": 2,
       "version_minor": 0
      },
      "text/plain": [
       "HBox(children=(IntProgress(value=0, max=1154), HTML(value='')))"
      ]
     },
     "metadata": {},
     "output_type": "display_data"
    },
    {
     "name": "stdout",
     "output_type": "stream",
     "text": [
      "\n"
     ]
    }
   ],
   "source": [
    "BET_6 = datatoBET(X_train_new5, y_train_new5, model)"
   ]
  },
  {
   "cell_type": "code",
   "execution_count": 91,
   "metadata": {},
   "outputs": [
    {
     "name": "stdout",
     "output_type": "stream",
     "text": [
      "Handling zero determinent Exception with dummies!\n",
      "Handling zero determinent Exception with dummies!\n",
      "Handling zero determinent Exception with dummies!\n",
      "accuracy for QDA classifier is: 0.4935897435897436\n",
      "accuracy for Naive bayes classifier is: 0.7211538461538461\n"
     ]
    }
   ],
   "source": [
    "y_pred_QDA_6, y_prob_QDA_6, y_pred_gnb_6, y_prob_gnb_6 = model_pred(BET_6)"
   ]
  },
  {
   "cell_type": "code",
   "execution_count": 92,
   "metadata": {},
   "outputs": [
    {
     "data": {
      "image/png": "[encoded data removed]",
      "text/plain": [
       "<Figure size 360x360 with 1 Axes>"
      ]
     },
     "metadata": {},
     "output_type": "display_data"
    }
   ],
   "source": [
    "import matplotlib.pyplot as plt\n",
    "CM = confusion_matrix(y_true, y_pred_gnb_6)\n",
    "from mlxtend.plotting import plot_confusion_matrix\n",
    "fig, ax = plot_confusion_matrix(conf_mat=CM ,  figsize=(5, 5))\n",
    "plt.show()"
   ]
  },
  {
   "cell_type": "code",
   "execution_count": null,
   "metadata": {},
   "outputs": [],
   "source": []
  },
  {
   "cell_type": "code",
   "execution_count": 93,
   "metadata": {},
   "outputs": [],
   "source": [
    "EXTRA_TRAIN_DIR = \"C:\\\\Users\\\\Sundeep\\\\Desktop\\\\keras-oneshot-master\\\\rsna-pneumonia-detection-challenge\\\\Traindata10\\\\\""
   ]
  },
  {
   "cell_type": "code",
   "execution_count": 94,
   "metadata": {},
   "outputs": [
    {
     "data": {
      "application/vnd.jupyter.widget-view+json": {
       "model_id": "f893413aa30440b09a69a84d367218b0",
       "version_major": 2,
       "version_minor": 0
      },
      "text/plain": [
       "HBox(children=(IntProgress(value=0, max=301), HTML(value='')))"
      ]
     },
     "metadata": {},
     "output_type": "display_data"
    },
    {
     "name": "stdout",
     "output_type": "stream",
     "text": [
      "\n"
     ]
    },
    {
     "data": {
      "application/vnd.jupyter.widget-view+json": {
       "model_id": "d2d2172743f4449ab7c03b7f66def35d",
       "version_major": 2,
       "version_minor": 0
      },
      "text/plain": [
       "HBox(children=(IntProgress(value=0, max=3035), HTML(value='')))"
      ]
     },
     "metadata": {},
     "output_type": "display_data"
    },
    {
     "name": "stdout",
     "output_type": "stream",
     "text": [
      "\n"
     ]
    }
   ],
   "source": [
    "X_train_new6, y_train_new6 = get_data(EXTRA_TRAIN_DIR)"
   ]
  },
  {
   "cell_type": "code",
   "execution_count": 95,
   "metadata": {},
   "outputs": [],
   "source": [
    "X_train_new6 = X_train_new6.reshape(X_train_new6.shape[0],3,150,150)"
   ]
  },
  {
   "cell_type": "code",
   "execution_count": 96,
   "metadata": {},
   "outputs": [
    {
     "data": {
      "application/vnd.jupyter.widget-view+json": {
       "model_id": "284bd8f3c54a4ceeb42fffcf91d44950",
       "version_major": 2,
       "version_minor": 0
      },
      "text/plain": [
       "HBox(children=(IntProgress(value=0, max=1154), HTML(value='')))"
      ]
     },
     "metadata": {},
     "output_type": "display_data"
    },
    {
     "name": "stdout",
     "output_type": "stream",
     "text": [
      "\n"
     ]
    }
   ],
   "source": [
    "BET_7 = datatoBET(X_train_new6, y_train_new6, model)"
   ]
  },
  {
   "cell_type": "code",
   "execution_count": 97,
   "metadata": {},
   "outputs": [
    {
     "name": "stdout",
     "output_type": "stream",
     "text": [
      "Handling zero determinent Exception with dummies!\n",
      "Handling zero determinent Exception with dummies!\n",
      "Handling zero determinent Exception with dummies!\n",
      "accuracy for QDA classifier is: 0.6730769230769231\n",
      "accuracy for Naive bayes classifier is: 0.7115384615384616\n"
     ]
    }
   ],
   "source": [
    "y_pred_QDA_7, y_prob_QDA_7, y_pred_gnb_7, y_prob_gnb_7 = model_pred(BET_7)"
   ]
  },
  {
   "cell_type": "code",
   "execution_count": 98,
   "metadata": {},
   "outputs": [
    {
     "data": {
      "image/png": "[encoded data removed]",
      "text/plain": [
       "<Figure size 360x360 with 1 Axes>"
      ]
     },
     "metadata": {},
     "output_type": "display_data"
    }
   ],
   "source": [
    "import matplotlib.pyplot as plt\n",
    "CM = confusion_matrix(y_true, y_pred_gnb_7)\n",
    "from mlxtend.plotting import plot_confusion_matrix\n",
    "fig, ax = plot_confusion_matrix(conf_mat=CM ,  figsize=(5, 5))\n",
    "plt.show()"
   ]
  },
  {
   "cell_type": "code",
   "execution_count": null,
   "metadata": {},
   "outputs": [],
   "source": []
  },
  {
   "cell_type": "code",
   "execution_count": 99,
   "metadata": {},
   "outputs": [],
   "source": [
    "EXTRA_TRAIN_DIR = \"C:\\\\Users\\\\Sundeep\\\\Desktop\\\\keras-oneshot-master\\\\rsna-pneumonia-detection-challenge\\\\Traindata11\\\\\""
   ]
  },
  {
   "cell_type": "code",
   "execution_count": 100,
   "metadata": {
    "scrolled": false
   },
   "outputs": [
    {
     "data": {
      "application/vnd.jupyter.widget-view+json": {
       "model_id": "555ac06e58a64e1d8fea1be6ace57bf4",
       "version_major": 2,
       "version_minor": 0
      },
      "text/plain": [
       "HBox(children=(IntProgress(value=0, max=277), HTML(value='')))"
      ]
     },
     "metadata": {},
     "output_type": "display_data"
    },
    {
     "name": "stdout",
     "output_type": "stream",
     "text": [
      "\n"
     ]
    },
    {
     "data": {
      "application/vnd.jupyter.widget-view+json": {
       "model_id": "03d174c533d04202b6b86f94a2b81532",
       "version_major": 2,
       "version_minor": 0
      },
      "text/plain": [
       "HBox(children=(IntProgress(value=0, max=2977), HTML(value='')))"
      ]
     },
     "metadata": {},
     "output_type": "display_data"
    },
    {
     "name": "stdout",
     "output_type": "stream",
     "text": [
      "\n"
     ]
    }
   ],
   "source": [
    "X_train_new7, y_train_new7 = get_data(EXTRA_TRAIN_DIR)"
   ]
  },
  {
   "cell_type": "code",
   "execution_count": 101,
   "metadata": {},
   "outputs": [],
   "source": [
    "X_train_new7 = X_train_new7.reshape(X_train_new7.shape[0],3,150,150)"
   ]
  },
  {
   "cell_type": "code",
   "execution_count": 102,
   "metadata": {},
   "outputs": [
    {
     "data": {
      "application/vnd.jupyter.widget-view+json": {
       "model_id": "6e278ffc8fdb4cc8a7b2169a8f8e463c",
       "version_major": 2,
       "version_minor": 0
      },
      "text/plain": [
       "HBox(children=(IntProgress(value=0, max=1154), HTML(value='')))"
      ]
     },
     "metadata": {},
     "output_type": "display_data"
    },
    {
     "name": "stdout",
     "output_type": "stream",
     "text": [
      "\n"
     ]
    }
   ],
   "source": [
    "BET_8 = datatoBET(X_train_new7, y_train_new7, model)"
   ]
  },
  {
   "cell_type": "code",
   "execution_count": 103,
   "metadata": {},
   "outputs": [
    {
     "name": "stdout",
     "output_type": "stream",
     "text": [
      "Handling zero determinent Exception with dummies!\n",
      "Handling zero determinent Exception with dummies!\n",
      "Handling zero determinent Exception with dummies!\n",
      "accuracy for QDA classifier is: 0.6923076923076923\n",
      "accuracy for Naive bayes classifier is: 0.7532051282051282\n"
     ]
    }
   ],
   "source": [
    "y_pred_QDA_8, y_prob_QDA_8, y_pred_gnb_8, y_prob_gnb_8 = model_pred(BET_8)"
   ]
  },
  {
   "cell_type": "code",
   "execution_count": 104,
   "metadata": {},
   "outputs": [
    {
     "data": {
      "image/png": "[encoded data removed]",
      "text/plain": [
       "<Figure size 360x360 with 1 Axes>"
      ]
     },
     "metadata": {},
     "output_type": "display_data"
    }
   ],
   "source": [
    "import matplotlib.pyplot as plt\n",
    "CM = confusion_matrix(y_true, y_pred_gnb_8)\n",
    "from mlxtend.plotting import plot_confusion_matrix\n",
    "fig, ax = plot_confusion_matrix(conf_mat=CM ,  figsize=(5, 5))\n",
    "plt.show()"
   ]
  },
  {
   "cell_type": "code",
   "execution_count": null,
   "metadata": {},
   "outputs": [],
   "source": []
  },
  {
   "cell_type": "code",
   "execution_count": 158,
   "metadata": {},
   "outputs": [],
   "source": [
    "EXTRA_TRAIN_DIR = \"C:\\\\Users\\\\Sundeep\\\\Desktop\\\\keras-oneshot-master\\\\rsna-pneumonia-detection-challenge\\\\Traindata2\\\\\""
   ]
  },
  {
   "cell_type": "code",
   "execution_count": 159,
   "metadata": {},
   "outputs": [
    {
     "data": {
      "application/vnd.jupyter.widget-view+json": {
       "model_id": "5ff351e8ed954c27a421eb3cc4b430ab",
       "version_major": 2,
       "version_minor": 0
      },
      "text/plain": [
       "HBox(children=(IntProgress(value=0, max=2855), HTML(value='')))"
      ]
     },
     "metadata": {},
     "output_type": "display_data"
    },
    {
     "name": "stdout",
     "output_type": "stream",
     "text": [
      "\n"
     ]
    },
    {
     "data": {
      "application/vnd.jupyter.widget-view+json": {
       "model_id": "8335150ff04f4fe2a6edf091e425fec0",
       "version_major": 2,
       "version_minor": 0
      },
      "text/plain": [
       "HBox(children=(IntProgress(value=0, max=97), HTML(value='')))"
      ]
     },
     "metadata": {},
     "output_type": "display_data"
    },
    {
     "name": "stdout",
     "output_type": "stream",
     "text": [
      "\n"
     ]
    }
   ],
   "source": [
    "X_train_new8, y_train_new8 = get_data(EXTRA_TRAIN_DIR)"
   ]
  },
  {
   "cell_type": "code",
   "execution_count": 160,
   "metadata": {},
   "outputs": [],
   "source": [
    "EXTRA_TRAIN_DIR = \"C:\\\\Users\\\\Sundeep\\\\Desktop\\\\keras-oneshot-master\\\\rsna-pneumonia-detection-challenge\\\\Traindata3\\\\\""
   ]
  },
  {
   "cell_type": "code",
   "execution_count": 161,
   "metadata": {},
   "outputs": [
    {
     "data": {
      "application/vnd.jupyter.widget-view+json": {
       "model_id": "3a97239691bd4243978bc28a4c89de38",
       "version_major": 2,
       "version_minor": 0
      },
      "text/plain": [
       "HBox(children=(IntProgress(value=0, max=2699), HTML(value='')))"
      ]
     },
     "metadata": {},
     "output_type": "display_data"
    },
    {
     "name": "stdout",
     "output_type": "stream",
     "text": [
      "\n"
     ]
    },
    {
     "data": {
      "application/vnd.jupyter.widget-view+json": {
       "model_id": "39f95e5c19d94f63ba3362ea8bffbfc8",
       "version_major": 2,
       "version_minor": 0
      },
      "text/plain": [
       "HBox(children=(IntProgress(value=0, max=49), HTML(value='')))"
      ]
     },
     "metadata": {},
     "output_type": "display_data"
    },
    {
     "name": "stdout",
     "output_type": "stream",
     "text": [
      "\n"
     ]
    }
   ],
   "source": [
    "X_train_new9, y_train_new9 = get_data(EXTRA_TRAIN_DIR)"
   ]
  },
  {
   "cell_type": "code",
   "execution_count": 162,
   "metadata": {},
   "outputs": [],
   "source": [
    "EXTRA_TRAIN_DIR = \"C:\\\\Users\\\\Sundeep\\\\Desktop\\\\keras-oneshot-master\\\\rsna-pneumonia-detection-challenge\\\\Traindata4\\\\\""
   ]
  },
  {
   "cell_type": "code",
   "execution_count": 163,
   "metadata": {},
   "outputs": [
    {
     "data": {
      "application/vnd.jupyter.widget-view+json": {
       "model_id": "1fc7cbb2a28e41e580929a41e2828786",
       "version_major": 2,
       "version_minor": 0
      },
      "text/plain": [
       "HBox(children=(IntProgress(value=0, max=2520), HTML(value='')))"
      ]
     },
     "metadata": {},
     "output_type": "display_data"
    },
    {
     "name": "stdout",
     "output_type": "stream",
     "text": [
      "\n"
     ]
    },
    {
     "data": {
      "application/vnd.jupyter.widget-view+json": {
       "model_id": "70e5bd11d85041eb939b486cafb65c17",
       "version_major": 2,
       "version_minor": 0
      },
      "text/plain": [
       "HBox(children=(IntProgress(value=0, max=25), HTML(value='')))"
      ]
     },
     "metadata": {},
     "output_type": "display_data"
    },
    {
     "name": "stdout",
     "output_type": "stream",
     "text": [
      "\n"
     ]
    }
   ],
   "source": [
    "X_train_new10, y_train_new10 = get_data(EXTRA_TRAIN_DIR)"
   ]
  },
  {
   "cell_type": "code",
   "execution_count": null,
   "metadata": {},
   "outputs": [],
   "source": []
  },
  {
   "cell_type": "code",
   "execution_count": 108,
   "metadata": {},
   "outputs": [
    {
     "data": {
      "application/vnd.jupyter.widget-view+json": {
       "model_id": "b1b9d2ecf58546deb072563d04c3697b",
       "version_major": 2,
       "version_minor": 0
      },
      "text/plain": [
       "HBox(children=(IntProgress(value=0, max=1010), HTML(value='')))"
      ]
     },
     "metadata": {},
     "output_type": "display_data"
    },
    {
     "name": "stdout",
     "output_type": "stream",
     "text": [
      "\n"
     ]
    }
   ],
   "source": [
    "BET_main_mod1 = datatoBET(X_train, y_train, model1)"
   ]
  },
  {
   "cell_type": "code",
   "execution_count": 109,
   "metadata": {},
   "outputs": [],
   "source": [
    "intermediate_layer_model = Model(inputs=model1.input,\n",
    "                                 outputs=model1.get_layer('Features_MLP').output)\n",
    "intermediate_output_mod1 = intermediate_layer_model.predict(X_test)"
   ]
  },
  {
   "cell_type": "code",
   "execution_count": 111,
   "metadata": {},
   "outputs": [],
   "source": [
    "# y_pred_QDA_main_mod1, y_prob_QDA_main_mod1, y_pred_gnb_main_mod1, y_prob_gnb_main_mod1 = model_pred(BET_main_mod1)"
   ]
  },
  {
   "cell_type": "code",
   "execution_count": null,
   "metadata": {},
   "outputs": [],
   "source": [
    "import matplotlib.pyplot as plt\n",
    "CM = confusion_matrix(y_true, y_pred_QDA_main_mod1)\n",
    "from mlxtend.plotting import plot_confusion_matrix\n",
    "fig, ax = plot_confusion_matrix(conf_mat=CM ,  figsize=(5, 5))\n",
    "plt.show()"
   ]
  },
  {
   "cell_type": "code",
   "execution_count": null,
   "metadata": {},
   "outputs": [],
   "source": [
    "intermediate_layer_model = Model(inputs=model2.input,\n",
    "                                 outputs=model2.get_layer('Features_MLP').output)\n",
    "intermediate_output_mod2 = intermediate_layer_model.predict(X_test)"
   ]
  },
  {
   "cell_type": "code",
   "execution_count": null,
   "metadata": {},
   "outputs": [],
   "source": [
    "# BET_main_mod2 = datatoBET(X_train, y_train, model2)\n",
    "# y_pred_QDA_main_mod2, y_prob_QDA_main_mod2, y_pred_gnb_main_mod2, y_prob_gnb_main_mod2 = model_pred(BET_main_mod2)"
   ]
  },
  {
   "cell_type": "code",
   "execution_count": null,
   "metadata": {},
   "outputs": [],
   "source": [
    "# BET_test = datatoBET(X_test, y_test, model)\n",
    "y_pred_QDA_test, y_prob_QDA_test, y_pred_gnb_test, y_prob_gnb_test = model_pred(BET_test)"
   ]
  },
  {
   "cell_type": "code",
   "execution_count": null,
   "metadata": {},
   "outputs": [],
   "source": []
  },
  {
   "cell_type": "code",
   "execution_count": null,
   "metadata": {},
   "outputs": [],
   "source": []
  },
  {
   "cell_type": "code",
   "execution_count": null,
   "metadata": {},
   "outputs": [],
   "source": [
    "import matplotlib.pyplot as plt\n",
    "CM = confusion_matrix(y_true, y_pred_QDA_main_mod2)\n",
    "from mlxtend.plotting import plot_confusion_matrix\n",
    "fig, ax = plot_confusion_matrix(conf_mat=CM ,  figsize=(5, 5))\n",
    "plt.show()"
   ]
  },
  {
   "cell_type": "code",
   "execution_count": null,
   "metadata": {},
   "outputs": [],
   "source": []
  },
  {
   "cell_type": "markdown",
   "metadata": {},
   "source": [
    "### Majority Voting"
   ]
  },
  {
   "cell_type": "code",
   "execution_count": 147,
   "metadata": {},
   "outputs": [
    {
     "data": {
      "text/plain": [
       "0.7371794871794872"
      ]
     },
     "execution_count": 147,
     "metadata": {},
     "output_type": "execute_result"
    }
   ],
   "source": [
    "preds_ = pd.DataFrame(list(zip(y_pred_QDA_main1, y_pred_gnb_main1,y_pred_QDA_1, y_pred_gnb_1,y_pred_QDA_2, y_pred_gnb_2,y_pred_QDA_3, y_pred_gnb_3,y_pred_QDA_4, y_pred_gnb_4,y_pred_QDA_5, y_pred_gnb_5,y_pred_QDA_6, y_pred_gnb_6,y_pred_QDA_7, y_pred_gnb_7,y_pred_QDA_8, y_pred_gnb_8 )))\n",
    "# preds_ = pd.DataFrame(list(zip(y_pred_QDA_main1, y_pred_gnb_main1,y_pred_gnb_1,y_pred_gnb_2, y_pred_gnb_3,y_pred_gnb_4,y_pred_gnb_5, y_pred_gnb_6,y_pred_gnb_7,y_pred_gnb_8, )))\n",
    "preds_ = pd.DataFrame(list(zip(y_pred_QDA_main1, y_pred_gnb_main1,y_pred_QDA_1, y_pred_QDA_2,y_pred_QDA_3,y_pred_QDA_4,y_pred_QDA_5, y_pred_QDA_6, y_pred_QDA_7, y_pred_QDA_8)))\n",
    "a = np.array(preds_.mode(axis=1)[0]).flatten()\n",
    "sum(a == np.array(y_true)) / len(np.array(y_true))"
   ]
  },
  {
   "cell_type": "code",
   "execution_count": 149,
   "metadata": {},
   "outputs": [
    {
     "data": {
      "image/png": "[encoded data removed]",
      "text/plain": [
       "<Figure size 360x360 with 1 Axes>"
      ]
     },
     "metadata": {},
     "output_type": "display_data"
    }
   ],
   "source": [
    "import matplotlib.pyplot as plt\n",
    "CM = confusion_matrix(y_true, a)\n",
    "from mlxtend.plotting import plot_confusion_matrix\n",
    "fig, ax = plot_confusion_matrix(conf_mat=CM ,  figsize=(5, 5))\n",
    "plt.show()"
   ]
  },
  {
   "cell_type": "markdown",
   "metadata": {},
   "source": [
    "### Ensemble Predictions"
   ]
  },
  {
   "cell_type": "code",
   "execution_count": 154,
   "metadata": {},
   "outputs": [
    {
     "data": {
      "text/plain": [
       "0.6522435897435898"
      ]
     },
     "execution_count": 154,
     "metadata": {},
     "output_type": "execute_result"
    }
   ],
   "source": [
    "y_pred = np.array(y_prob_QDA_main1) + np.array(y_prob_QDA_1) + np.array(y_prob_QDA_2) + np.array(y_prob_QDA_3) + np.array(y_prob_QDA_4) + np.array(y_prob_QDA_5) + np.array(y_prob_QDA_6) + np.array(y_prob_QDA_7) + np.array(y_prob_QDA_8)\n",
    "\n",
    "q = []\n",
    "\n",
    "for e in y_pred:\n",
    "    q.append(np.argmax(e))\n",
    "\n",
    "sum(q ==  np.array(y_true).flatten()) / len( np.array(y_true).flatten())"
   ]
  },
  {
   "cell_type": "code",
   "execution_count": null,
   "metadata": {},
   "outputs": [],
   "source": []
  },
  {
   "cell_type": "code",
   "execution_count": 140,
   "metadata": {},
   "outputs": [],
   "source": [
    "# BET_total = BET_new5_ + BET_new4_ + BET_new3_ + BET_new2_ + BET_new1_ + BET_new_  + BET1_\n",
    "BET_total =   BET_dataset1 + BET_1 + BET_2 + BET_3 + BET_4 + BET_5 + BET_6 + BET_7 + BET_8 \n",
    "# BET_total  =   BET_dataset1 "
   ]
  },
  {
   "cell_type": "code",
   "execution_count": null,
   "metadata": {},
   "outputs": [],
   "source": [
    "\n"
   ]
  },
  {
   "cell_type": "code",
   "execution_count": 141,
   "metadata": {},
   "outputs": [],
   "source": [
    "from artml.explore import stats\n",
    "df_stats = stats.univariate(BET_total)\n",
    "a = np.array(df_stats.loc[['Standard_deviation']])\n",
    "b = np.argwhere(a == 0)\n",
    "BET_total = BET_total.drop(list(b[:,1]), 1)\n",
    "BET_total = BET_total.drop(list(b[:,1]))"
   ]
  },
  {
   "cell_type": "code",
   "execution_count": 142,
   "metadata": {},
   "outputs": [
    {
     "name": "stdout",
     "output_type": "stream",
     "text": [
      "Handling zero determinent Exception with dummies!\n",
      "Handling zero determinent Exception with dummies!\n"
     ]
    },
    {
     "data": {
      "text/plain": [
       "0.7932692307692307"
      ]
     },
     "execution_count": 142,
     "metadata": {},
     "output_type": "execute_result"
    }
   ],
   "source": [
    "from artml.models import QDA\n",
    "qda = QDA.QuadraticDiscriminantAnalysis()\n",
    "qda.fit(BET_total, 'Target_0', 'Target_1')\n",
    "y_pred_QDA3 = qda.predict(pd.DataFrame(intermediate_output).drop(list(b[:,1]), 1))\n",
    "qda.score(pd.DataFrame(intermediate_output).drop(list(b[:,1]), 1), np.array(y_test.flatten()))"
   ]
  },
  {
   "cell_type": "code",
   "execution_count": 143,
   "metadata": {},
   "outputs": [
    {
     "data": {
      "text/plain": [
       "0.7580128205128205"
      ]
     },
     "execution_count": 143,
     "metadata": {},
     "output_type": "execute_result"
    }
   ],
   "source": [
    "from artml.models import naive_bayes\n",
    "gnb = naive_bayes.GaussianNB()\n",
    "gnb.fit(BET_total, 'Target_0', 'Target_1')\n",
    "y_pred_gnb3 = gnb.predict(pd.DataFrame(intermediate_output).drop(list(b[:,1]), 1).values)\n",
    "gnb.score(pd.DataFrame(intermediate_output).drop(list(b[:,1]), 1).as_matrix(), np.array(y_test.flatten()))"
   ]
  },
  {
   "cell_type": "code",
   "execution_count": 144,
   "metadata": {
    "scrolled": true
   },
   "outputs": [
    {
     "data": {
      "image/png": "[encoded data removed]",
      "text/plain": [
       "<Figure size 360x360 with 1 Axes>"
      ]
     },
     "metadata": {},
     "output_type": "display_data"
    }
   ],
   "source": [
    "import matplotlib.pyplot as plt\n",
    "CM = confusion_matrix(y_true, y_pred_QDA3)\n",
    "from mlxtend.plotting import plot_confusion_matrix\n",
    "fig, ax = plot_confusion_matrix(conf_mat=CM ,  figsize=(5, 5))\n",
    "plt.show()"
   ]
  },
  {
   "cell_type": "code",
   "execution_count": 145,
   "metadata": {},
   "outputs": [
    {
     "data": {
      "text/plain": [
       "(array([0.87769784, 0.76907216]),\n",
       " array([0.52136752, 0.95641026]),\n",
       " array([0.6541555 , 0.85257143]),\n",
       " array([234, 390], dtype=int64))"
      ]
     },
     "execution_count": 145,
     "metadata": {},
     "output_type": "execute_result"
    }
   ],
   "source": [
    "from sklearn.metrics import precision_recall_fscore_support\n",
    "precision_recall_fscore_support(y_true, y_pred_QDA3)"
   ]
  },
  {
   "cell_type": "code",
   "execution_count": 146,
   "metadata": {},
   "outputs": [],
   "source": [
    "# y_pred_QDA_main1, y_prob_QDA_main1, y_pred_gnb_main1, y_prob_gnb_main1"
   ]
  },
  {
   "cell_type": "code",
   "execution_count": null,
   "metadata": {},
   "outputs": [],
   "source": []
  },
  {
   "cell_type": "code",
   "execution_count": null,
   "metadata": {},
   "outputs": [],
   "source": []
  }
 ],
 "metadata": {
  "kernelspec": {
   "display_name": "Python 3",
   "language": "python",
   "name": "python3"
  },
  "language_info": {
   "codemirror_mode": {
    "name": "ipython",
    "version": 3
   },
   "file_extension": ".py",
   "mimetype": "text/x-python",
   "name": "python",
   "nbconvert_exporter": "python",
   "pygments_lexer": "ipython3",
   "version": "3.6.5"
  }
 },
 "nbformat": 4,
 "nbformat_minor": 2
}
